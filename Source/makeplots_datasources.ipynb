{
 "cells": [
  {
   "cell_type": "code",
   "execution_count": 2,
   "metadata": {},
   "outputs": [],
   "source": [
    "#from IPython.external import mathjax; mathjax.install_mathjax()\n",
    "import matplotlib\n",
    "import numpy as np\n",
    "import matplotlib.pyplot as plt\n",
    "import healpy as hp\n",
    "import healpy.projector as pro\n",
    "import astropy.io.fits as fits\n",
    "from scipy.stats import gaussian_kde\n",
    "import scipy\n",
    "import pandas as pd\n",
    "import pickle\n",
    "from pylab import arange, show, cm\n",
    "import seaborn as sb\n",
    "%matplotlib inline"
   ]
  },
  {
   "cell_type": "code",
   "execution_count": 3,
   "metadata": {},
   "outputs": [
    {
     "data": {
      "text/plain": [
       "Index([u'$T$', u'$B$', u'$I_{dust}(545)$', u'$R_{PR1}$', u'$\\tau_{353,PR1}$',\n",
       "       u'$U$'],\n",
       "      dtype='object')"
      ]
     },
     "execution_count": 3,
     "metadata": {},
     "output_type": "execute_result"
    }
   ],
   "source": [
    "with open('../Data/maps_nest.pickle') as f:  # Python 3: open(..., 'rb')\n",
    "    coords, planck_bb, planck_mw,  phot, phot_modesub, phot_mpsub = pickle.load(f)\n",
    "planck_bb.columns\n",
    "\n"
   ]
  },
  {
   "cell_type": "code",
   "execution_count": 4,
   "metadata": {},
   "outputs": [],
   "source": [
    "cmap = cm.rainbow\n",
    "cmap.set_under('w')"
   ]
  },
  {
   "cell_type": "code",
   "execution_count": 11,
   "metadata": {},
   "outputs": [],
   "source": [
    "PCCS_crossmatrix = planck_mw.join(planck_bb[['$I_{dust}(545)$','$T$','$B$']]).corr(method='spearman')"
   ]
  },
  {
   "cell_type": "code",
   "execution_count": 13,
   "metadata": {},
   "outputs": [
    {
     "data": {
      "image/png": "[encoded data removed]",
      "text/plain": [
       "<matplotlib.figure.Figure at 0x2afe3c883b50>"
      ]
     },
     "metadata": {},
     "output_type": "display_data"
    }
   ],
   "source": [
    "sb.heatmap(PCCS_crossmatrix,\n",
    "          square=True)\n",
    "plt.savefig('../Plots/ch_datasources/PCCS_corrmatrix.pdf')"
   ]
  },
  {
   "cell_type": "code",
   "execution_count": null,
   "metadata": {},
   "outputs": [],
   "source": [
    "sb.axes_style(\"white\"):\n",
    "    \n",
    "hp.mollview(planck_mw['AME']/planck_bb['$I_{dust}(545)$'], \n",
    "               norm='hist', \n",
    "                nest=True, \n",
    "                #min=1.5, max = 2.0, \n",
    "                cmap=cmap,\n",
    "                title = '${I_{AME}}_{var}(28.4 GHz) / I_{dust}(545 GHz)$')\n",
    "plt.savefig('../Plots/ch_datasources/R_PCAMEtoPCRad.pdf')\n",
    "\n",
    "\n",
    "hp.mollview(AMEvar_freq, \n",
    "            #norm='hist', \n",
    "            nest=True, \n",
    "            min=12, \n",
    "            max = 40, \n",
    "            cmap=cmap,\n",
    "           title=\"PCAME Peak Frequencies\",\n",
    "           unit='GHz')\n",
    "\n",
    "plt.savefig('../Plots/ch_datasources/PCAME_var_freq.pdf')"
   ]
  },
  {
   "cell_type": "code",
   "execution_count": null,
   "metadata": {},
   "outputs": [],
   "source": []
  }
 ],
 "metadata": {
  "kernelspec": {
   "display_name": "Python 2",
   "language": "python",
   "name": "python2"
  },
  "language_info": {
   "codemirror_mode": {
    "name": "ipython",
    "version": 2
   },
   "file_extension": ".py",
   "mimetype": "text/x-python",
   "name": "python",
   "nbconvert_exporter": "python",
   "pygments_lexer": "ipython2",
   "version": "2.7.12"
  },
  "latex_envs": {
   "LaTeX_envs_menu_present": true,
   "autocomplete": true,
   "bibliofile": "biblio.bib",
   "cite_by": "apalike",
   "current_citInitial": 1,
   "eqLabelWithNumbers": true,
   "eqNumInitial": 1,
   "hotkeys": {
    "equation": "Ctrl-E",
    "itemize": "Ctrl-I"
   },
   "labels_anchors": false,
   "latex_user_defs": false,
   "report_style_numbering": false,
   "user_envs_cfg": false
  }
 },
 "nbformat": 4,
 "nbformat_minor": 2
}
