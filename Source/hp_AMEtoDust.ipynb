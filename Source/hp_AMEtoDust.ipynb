{
 "cells": [
  {
   "cell_type": "code",
   "execution_count": 1,
   "metadata": {
    "collapsed": false
   },
   "outputs": [],
   "source": [
    "import matplotlib\n",
    "#from IPython.external import mathjax; mathjax.install_mathjax()\n",
    "import numpy as np\n",
    "import math\n",
    "import sys\n",
    "import scipy\n",
    "import matplotlib.pyplot as plt\n",
    "import pandas as pd\n",
    "import statsmodels.formula.api as sm\n",
    "import seaborn as sns\n",
    "#matplotlib.style.use('ggplot')\n",
    "\n",
    "%matplotlib inline\n"
   ]
  },
  {
   "cell_type": "markdown",
   "metadata": {},
   "source": [
    "# Comparing the AME photometry to the dust SED fitting results:\n",
    "\n",
    "In the 'hp_photometry' notebook, we gathered the AME and IR bands' photometry results for the 98 \"AME Regions\".\n",
    "Now that Fred has kindly carried out the SED fitting, based on the AKARI-DIRBE-IRAS-PLANCK IR photometry, we can compare this to the AME.\n",
    "\n",
    "## Step 1: Load-in the photometry results:\n",
    "\n",
    "The first thing we do is just re-load our progress so far (the photometry data) into memory."
   ]
  },
  {
   "cell_type": "code",
   "execution_count": 2,
   "metadata": {
    "collapsed": false
   },
   "outputs": [
    {
     "name": "stderr",
     "output_type": "stream",
     "text": [
      "/work1/users/aaronb/Softbrary/Anaconda/lib/python2.7/site-packages/ipykernel/__main__.py:41: RuntimeWarning: invalid value encountered in greater\n",
      "/work1/users/aaronb/Softbrary/Anaconda/lib/python2.7/site-packages/ipykernel/__main__.py:42: RuntimeWarning: invalid value encountered in less_equal\n"
     ]
    }
   ],
   "source": [
    "data_path = \"../Data/\"\n",
    "\n",
    "fileout_phot = \"../Data/photometry.csv\"\n",
    "fileout_err  = \"../Data/errors.csv\"\n",
    "fileout_bg   = \"../Data/backgrounds.csv\"\n",
    "\n",
    "healpix_AME = \"../Data/raw/COM_CompMap_AME-commander_0256_R2.00.fits\" ## Path to AME map\n",
    "pcxv_AME = \"../Data/AME.txt\"\n",
    "\n",
    "fd_all      = np.genfromtxt(fileout_phot,usecols = (0), dtype = 'float', delimiter=',',skip_header=0)\n",
    "fd_err_all  = np.genfromtxt(fileout_err,usecols = (14), dtype = 'float', delimiter=',',skip_header=1)\n",
    "fd_bg_all   = np.genfromtxt(fileout_bg,usecols = (0), dtype = 'float', delimiter=',',skip_header=0)\n",
    "\n",
    "## These lines gets the AME results from Clive's paper, so we can do a comparison:\n",
    "### Residual (anomalous) 28.4 GHz flux\n",
    "sres_ame  = np.genfromtxt(pcxv_AME,usecols = (22), dtype = 'float', delimiter=',',skip_header=1)\n",
    "sres_ame[sres_ame<=0] = np.nan\n",
    "sres_ame_err = np.genfromtxt(pcxv_AME,usecols = (23), dtype = 'float', delimiter=',',skip_header=1)\n",
    "sres_ame_err = sres_ame_err**2\n",
    "sres_ame_err = np.sqrt(sres_ame_err)\n",
    "### Peak frequency\n",
    "nu_ame    = np.genfromtxt(pcxv_AME,usecols = (17), dtype = 'float', delimiter=',',skip_header=1)\n",
    "### Potential fractioanl contribution from an UCHII region...\n",
    "f_uch     = np.genfromtxt(pcxv_AME,usecols = (19), dtype = 'float', delimiter=',',skip_header=1)\n",
    "### AME Significance\n",
    "sig_ame = np.genfromtxt(pcxv_AME,usecols = (16), dtype = 'float', delimiter=',',skip_header=1)\n",
    "### Dust optical depth\n",
    "tau_250 = np.genfromtxt(pcxv_AME,usecols = (6), dtype = 'float', delimiter=',',skip_header=1)\n",
    "## These get the coordinates of the AME regions:\n",
    "#glat    = np.genfromtxt('inputlist_mep_test.list',usecols = (2), dtype = 'float', delimiter=',')\n",
    "#glon    = np.genfromtxt('inputlist_mep_test.list',usecols = (1), dtype = 'float', delimiter=',')\n",
    "\n",
    "### Potential fractioanl contribution from an UCHII region...\n",
    "f_uch     = np.genfromtxt(pcxv_AME,usecols = (19), dtype = 'float', delimiter=',',skip_header=1)\n",
    "### AME Significance\n",
    "sig_ame = np.genfromtxt(pcxv_AME,usecols = (16), dtype = 'float', delimiter=',',skip_header=1)\n",
    "\n",
    "### Subsets separating \"Highly Significant\" AME from \"Low/Non-significant\" AME\n",
    "subset_hs = (\n",
    "    \n",
    "(sig_ame     > 5.000)   | \n",
    "(f_uch       <= 0.25)    #& \n",
    "\n",
    ")\n",
    "#print subset_hs\n",
    "\n",
    "subset_ls = (subset_hs == False)"
   ]
  },
  {
   "cell_type": "markdown",
   "metadata": {},
   "source": [
    "## Step 2: Load-in dust SED fitting results:\n",
    "Now we do the same thing for the SED fitting. Just load the columns from Fred's \"results.csv\" file into python variables.\n",
    "(In the future, it may be better to load these as Pandas DataFrames)"
   ]
  },
  {
   "cell_type": "code",
   "execution_count": 3,
   "metadata": {
    "collapsed": false
   },
   "outputs": [
    {
     "name": "stderr",
     "output_type": "stream",
     "text": [
      "/work1/users/aaronb/Softbrary/Anaconda/lib/python2.7/site-packages/ipykernel/__main__.py:31: RuntimeWarning: invalid value encountered in greater\n",
      "/work1/users/aaronb/Softbrary/Anaconda/lib/python2.7/site-packages/ipykernel/__main__.py:32: RuntimeWarning: invalid value encountered in less_equal\n"
     ]
    }
   ],
   "source": [
    "##############Model A: Fred's Model############\n",
    "###############################################\n",
    "### PAH fraction\n",
    "\n",
    "\n",
    "\n",
    "\n",
    "\n",
    "qpah    = np.genfromtxt('../Data/fred_results_82616.csv',usecols = (5), dtype = 'float', delimiter=',',skip_header=1)\n",
    "### Dust mass\n",
    "dmass   = np.exp(np.genfromtxt('../Data/fred_results_82616.csv',usecols = (1), dtype = 'float', delimiter=',',skip_header=1))\n",
    "### ISRF (relative to galactic average)\n",
    "U       = np.exp(np.genfromtxt('../Data/fred_results_82616.csv',usecols = (3), dtype = 'float', delimiter=',',skip_header=1))\n",
    "### PAH Mass\n",
    "pahmass = qpah*dmass\n",
    "\n",
    "\n",
    "import numpy.random as npr\n",
    "import pylab\n",
    "\n",
    "\n",
    "\n",
    "### Potential fractioanl contribution from an UCHII region...\n",
    "#f_uch     = np.genfromtxt(pcxv_AME,usecols = (19), dtype = 'float', delimiter=',',skip_header=1)\n",
    "### AME Significance\n",
    "sig_ame = np.genfromtxt(pcxv_AME,usecols = (16), dtype = 'float', delimiter=',',skip_header=1)\n",
    "\n",
    "### Subsets separating \"Highly Significant\" AME from \"Low/Non-significant\" AME\n",
    "subset_hs = (\n",
    "    \n",
    "    (sig_ame     > 5.000)   & \n",
    "    (f_uch       <= 0.25)    #& \n",
    "\n",
    "    )\n",
    "\n",
    "subset_ls = (subset_hs == False)\n",
    "\n",
    "### Subsets for removing points that have a NaN sres_ame value\n",
    "\n",
    "sres_nonan = np.isnan(sres_ame)==False\n"
   ]
  },
  {
   "cell_type": "markdown",
   "metadata": {},
   "source": [
    "### Load results intp Pandas dataframe, instead of individual variables:"
   ]
  },
  {
   "cell_type": "code",
   "execution_count": 10,
   "metadata": {
    "collapsed": false
   },
   "outputs": [
    {
     "name": "stdout",
     "output_type": "stream",
     "text": [
      "[-17.44756146   0.24385729  -0.82102316   0.22214018   0.21593254\n",
      "   0.03360164   1.24956487]\n"
     ]
    },
    {
     "data": {
      "text/html": [
       "<div>\n",
       "<table border=\"1\" class=\"dataframe\">\n",
       "  <thead>\n",
       "    <tr style=\"text-align: right;\">\n",
       "      <th></th>\n",
       "      <th>ln(Md [kg/m2/sr])</th>\n",
       "      <th>sigma(ln(Md))</th>\n",
       "      <th>ln(&lt;U&gt; [Habings])</th>\n",
       "      <th>sigma(ln(&lt;U&gt;))</th>\n",
       "      <th>qPAH</th>\n",
       "      <th>sigma(qPAH)</th>\n",
       "      <th>reduced chi-square</th>\n",
       "    </tr>\n",
       "  </thead>\n",
       "  <tbody>\n",
       "    <tr>\n",
       "      <th>0</th>\n",
       "      <td>-18.264398</td>\n",
       "      <td>0.387430</td>\n",
       "      <td>-1.090797</td>\n",
       "      <td>0.389612</td>\n",
       "      <td>0.067420</td>\n",
       "      <td>0.037071</td>\n",
       "      <td>0.179391</td>\n",
       "    </tr>\n",
       "    <tr>\n",
       "      <th>1</th>\n",
       "      <td>-17.742847</td>\n",
       "      <td>0.211686</td>\n",
       "      <td>-1.639426</td>\n",
       "      <td>0.193869</td>\n",
       "      <td>0.060807</td>\n",
       "      <td>0.013751</td>\n",
       "      <td>1.075282</td>\n",
       "    </tr>\n",
       "    <tr>\n",
       "      <th>2</th>\n",
       "      <td>-15.433045</td>\n",
       "      <td>0.347861</td>\n",
       "      <td>0.483719</td>\n",
       "      <td>0.341430</td>\n",
       "      <td>0.119198</td>\n",
       "      <td>0.024665</td>\n",
       "      <td>0.811917</td>\n",
       "    </tr>\n",
       "    <tr>\n",
       "      <th>3</th>\n",
       "      <td>-15.139495</td>\n",
       "      <td>0.197391</td>\n",
       "      <td>0.798847</td>\n",
       "      <td>0.189044</td>\n",
       "      <td>0.084759</td>\n",
       "      <td>0.012609</td>\n",
       "      <td>1.731620</td>\n",
       "    </tr>\n",
       "    <tr>\n",
       "      <th>4</th>\n",
       "      <td>-14.865312</td>\n",
       "      <td>0.180398</td>\n",
       "      <td>0.598840</td>\n",
       "      <td>0.167715</td>\n",
       "      <td>0.086649</td>\n",
       "      <td>0.014510</td>\n",
       "      <td>1.491719</td>\n",
       "    </tr>\n",
       "  </tbody>\n",
       "</table>\n",
       "</div>"
      ],
      "text/plain": [
       "   ln(Md [kg/m2/sr])  sigma(ln(Md))  ln(<U> [Habings])  sigma(ln(<U>))  \\\n",
       "0         -18.264398       0.387430          -1.090797        0.389612   \n",
       "1         -17.742847       0.211686          -1.639426        0.193869   \n",
       "2         -15.433045       0.347861           0.483719        0.341430   \n",
       "3         -15.139495       0.197391           0.798847        0.189044   \n",
       "4         -14.865312       0.180398           0.598840        0.167715   \n",
       "\n",
       "       qPAH  sigma(qPAH)  reduced chi-square  \n",
       "0  0.067420     0.037071            0.179391  \n",
       "1  0.060807     0.013751            1.075282  \n",
       "2  0.119198     0.024665            0.811917  \n",
       "3  0.084759     0.012609            1.731620  \n",
       "4  0.086649     0.014510            1.491719  "
      ]
     },
     "execution_count": 10,
     "metadata": {},
     "output_type": "execute_result"
    }
   ],
   "source": [
    "#sed_res_path = '/work1/users/aaronb/Databrary/fred_results_82616.csv'\n",
    "\n",
    "\n",
    "\n",
    "sed_res_path = '../Data/fred_results_83116.csv'\n",
    "\n",
    "sed_res_data = pd.read_csv(sed_res_path, index_col=False)\n",
    "\n",
    "print sed_res_data.values[-1,:]\n",
    "sed_res_data.head()"
   ]
  },
  {
   "cell_type": "markdown",
   "metadata": {},
   "source": [
    "# Plots of dust vs. AME using Galliano+ (2011) model:"
   ]
  },
  {
   "cell_type": "code",
   "execution_count": 6,
   "metadata": {
    "collapsed": true
   },
   "outputs": [],
   "source": [
    "## Force background color to be white:\n",
    "### Note that seaborn plotting functions my override these settings.\n",
    "plt.rcParams['axes.facecolor']='white'\n",
    "plt.rcParams['figure.facecolor']='white'\n",
    "plt.rcParams['savefig.facecolor']='white'"
   ]
  },
  {
   "cell_type": "code",
   "execution_count": 19,
   "metadata": {
    "collapsed": false
   },
   "outputs": [
    {
     "name": "stderr",
     "output_type": "stream",
     "text": [
      "/work1/users/aaronb/Softbrary/Anaconda/lib/python2.7/site-packages/ipykernel/__main__.py:38: RuntimeWarning: invalid value encountered in greater\n",
      "/work1/users/aaronb/Softbrary/Anaconda/lib/python2.7/site-packages/ipykernel/__main__.py:39: RuntimeWarning: invalid value encountered in less_equal\n"
     ]
    },
    {
     "data": {
      "image/png": "[encoded data removed]",
      "text/plain": [
       "<matplotlib.figure.Figure at 0x2ad42c2dedd0>"
      ]
     },
     "metadata": {},
     "output_type": "display_data"
    }
   ],
   "source": [
    "\n",
    "\n",
    "Y_ = sres_ame\n",
    "X_ = qpah*dmass\n",
    "\n",
    "\n",
    "def pltAMEvsDust(X_, Y_, subset_hs, subset_ls, xlabel, ylabel, ftitle):\n",
    "    \n",
    "    \n",
    "    ## Force background color to be white:\n",
    "    ### Note that seaborn plotting functions my override these settings.\n",
    "    plt.rcParams['axes.facecolor']='white'\n",
    "    plt.rcParams['figure.facecolor']='white'\n",
    "    plt.rcParams['savefig.facecolor']='white'\n",
    "    \n",
    "    fig,ax = plt.subplots()\n",
    "    \n",
    "    ax.set_ylabel(ylabel, fontsize=20)\n",
    "    ax.set_xlabel(xlabel, fontsize=20)\n",
    "    ax.set_xscale('log')\n",
    "    ax.set_yscale('log')\n",
    "    ax.set_xlim((X_.min(), X_.max()))\n",
    "    \n",
    "    ax = sns.regplot(x=X_[subset_hs], y= Y_[subset_hs], ci=68, fit_reg=True, robust=True, n_boot=1000,  label=\"High AME$\\sigma$\")\n",
    "    ax.errorbar(X_[subset_hs], Y_[subset_hs], yerr=sres_ame_err[subset_hs], fmt='.',ecolor='b')\n",
    "    ax = sns.regplot(x=X_[subset_ls], y= Y_[subset_ls], ci=68, fit_reg=True, robust=True, n_boot=1000,  label=\"Low AME$\\sigma$\")\n",
    "    ax.errorbar(X_[subset_ls], Y_[subset_ls], yerr=sres_ame_err[subset_ls], fmt='.',ecolor='g')\n",
    "\n",
    "    #ax.set_ylim([0,100])\n",
    "    ax.legend()\n",
    "    \n",
    "    fig.savefig(\"../Plots/\"+ftitle)\n",
    "    \n",
    "    \n",
    "### Subsets separating \"Highly Significant\" AME from \"Low/Non-significant\" AME\n",
    "subset_hs = (\n",
    "    \n",
    "    (sig_ame     > 5.000)   & \n",
    "    (f_uch       <= 0.25)    #& \n",
    "\n",
    "    )\n",
    "\n",
    "subset_ls = (subset_hs == False)\n",
    "\n",
    "Y_ = sres_ame\n",
    "ylabel = \"Residual 28.4~GHz Flux\"\n",
    "\n",
    "X_ = qpah*dmass\n",
    "xlabel = \"PAH Mass [kg/m2/sr]\"\n",
    "\n",
    "pltAMEvsDust(X_, Y_, subset_hs, subset_ls, xlabel, ylabel, ftitle=\"RegsAMEvsPAHtMass.pdf\")"
   ]
  },
  {
   "cell_type": "code",
   "execution_count": 20,
   "metadata": {
    "collapsed": false
   },
   "outputs": [
    {
     "data": {
      "image/png": "[encoded data removed]",
      "text/plain": [
       "<matplotlib.figure.Figure at 0x2ad42c2d1f90>"
      ]
     },
     "metadata": {},
     "output_type": "display_data"
    }
   ],
   "source": [
    "X_ = dmass\n",
    "xlabel = \"Dust Mass [kg/m2/sr]\"\n",
    "\n",
    "pltAMEvsDust(X_, Y_, subset_hs, subset_ls, xlabel, ylabel, ftitle=\"RegsAMEvsDustMass.pdf\")"
   ]
  },
  {
   "cell_type": "code",
   "execution_count": 13,
   "metadata": {
    "collapsed": false
   },
   "outputs": [
    {
     "data": {
      "image/png": "[encoded data removed]",
      "text/plain": [
       "<matplotlib.figure.Figure at 0x2ad42c361e10>"
      ]
     },
     "metadata": {},
     "output_type": "display_data"
    }
   ],
   "source": [
    "X_ = qpah\n",
    "xlabel = \"PAH Fraction\"\n",
    "\n",
    "pltAMEvsDust(X_, Y_, subset_hs, subset_ls, xlabel, ylabel)"
   ]
  },
  {
   "cell_type": "markdown",
   "metadata": {},
   "source": [
    "## Experimenting with a boostrap test (Per Doi-san's advice')"
   ]
  },
  {
   "cell_type": "code",
   "execution_count": 9,
   "metadata": {
    "collapsed": false
   },
   "outputs": [],
   "source": [
    "\n",
    "\n",
    "\n",
    "\n",
    "def bootstrap(data_x, \n",
    "              data_y, \n",
    "              num_samples, \n",
    "              num_subsamples, \n",
    "              kind='Spearman'):\n",
    "    \n",
    "    from scipy import stats\n",
    "    \n",
    "    #\"\"\"Returns bootstrap estimate of 100.0*(1-alpha) CI for statistic.\"\"\"\n",
    "    \n",
    "    n = len(data_x)\n",
    "    #print \"Data dimen: \"+str(np.shape(data))\n",
    "    \n",
    "    corr_coeff_array = np.ones(num_samples)\n",
    "    \n",
    "    if kind == 'Spearman':\n",
    "    \n",
    "        for i in range(0,num_samples):\n",
    "            idx = npr.randint(0, n, (num_subsamples))\n",
    "            samples_x = data_x[idx]\n",
    "            samples_y = data_y[idx]\n",
    "            stat_r, stat_p = scipy.stats.spearmanr(samples_x,samples_y)\n",
    "            corr_coeff_array[i] = stat_r\n",
    "    \n",
    "    elif kind == 'Pearson':\n",
    "            \n",
    "        for i in range(0,num_samples):\n",
    "            idx = npr.randint(0, n, (num_subsamples))\n",
    "            samples_x = data_x[idx]\n",
    "            samples_y = data_y[idx]\n",
    "            stat_r, stat_p = scipy.stats.pearsonr(samples_x,samples_y)\n",
    "            corr_coeff_array[i] = stat_r\n",
    "    \n",
    "    corr_coeff_array[np.isnan(corr_coeff_array)==False]\n",
    "    #print stat_r\n",
    "    \n",
    "    #print corr_coeff_array\n",
    "    return corr_coeff_array\n",
    "\n",
    "\n",
    "\n",
    "def bootstrap_run(X1_data, \n",
    "                  X2_data, \n",
    "                  Y_data,\n",
    "                  kind='Pearson', \n",
    "                  iterations=10000, \n",
    "                  title=None, \n",
    "                  X1_label=None, \n",
    "                  X2_label=None):\n",
    "    \n",
    "    corr_array_X1 = bootstrap(X1_data,Y_data, iterations, len(X1_data),kind=kind )\n",
    "\n",
    "    corr_array_X2 = bootstrap(X2_data,Y_data, iterations, len(X2_data), kind=kind )\n",
    "    \n",
    "    X1 = corr_array_X1\n",
    "    X2 = corr_array_X2\n",
    "    \n",
    "    X1 = X1[~np.isnan(X1)]\n",
    "    X2 = X2[~np.isnan(X2)]\n",
    "    \n",
    "    t, prob = scipy.stats.ttest_ind(X1,X2, axis=0, equal_var=True) #Equal_var=False for Welch's t-test\n",
    "    # make plots\n",
    "    \n",
    "    pylab.figure(figsize=(8,8))\n",
    "\n",
    "    round_it = 3\n",
    "\n",
    "    bins = np.linspace(0.1, 1.0, 100)\n",
    "\n",
    "    pylab.hist(X1, bins, alpha=0.5, color= 'r', label=X1_label +\" \"+ \n",
    "                                           str(round(np.nanmean(X1),round_it)) + \" +/- \" +  \n",
    "                                           str(round(np.nanstd(X1),round_it)) )\n",
    "    pylab.hist(X2, bins, alpha=0.5, color= 'b', label=X2_label+\" \"+ \n",
    "                                           str(round(np.nanmean(X2),round_it)) + \" +/- \" +  \n",
    "                                           str(round(np.nanstd(X2),round_it))\n",
    "                                            + \"\\n\" + \"t-stat: \"+ \n",
    "                                                       str(round(t,round_it))+\", p-value: \"+   str(round(prob,round_it)))\n",
    "    \n",
    "    #if X3_data:\n",
    "    #    corr_array_lOri_L = bootstrap(X3_data, Y_data, iterations, len(X3_data), kind=kind )\n",
    "    #    xL = corr_array_lOri_L\n",
    "        \n",
    "    #    pylab.hist(xL, bins, alpha=0.5, label=(\"Dust Luminosity vs. AME \\n R = \"+ str(round(np.nanmean(xL),round_it))) + \" +/- \" + str(round(np.nanstd(xL),round_it)))\n",
    "    \n",
    "    #corr_array_lOri_L = bootstrap(X3_data, Y_data, iterations, len(X3_data), kind=kind )\n",
    "    #xL = corr_array_lOri_L\n",
    "        \n",
    "    #pylab.hist(xL, bins, alpha=0.5, label=(\"Dust Luminosity vs. AME \\n R = \"+ str(round(np.nanmean(xL),round_it))) + \" +/- \" + str(round(np.nanstd(xL),round_it)))\n",
    "    \n",
    "    \n",
    "    pylab.title('Hist. of Bootstrapped '+kind+' Corr. Results')\n",
    "    import datetime\n",
    "    timestamp = datetime.datetime.now().strftime(\"%I:%M%p%B%d,%Y\")\n",
    "\n",
    "    pylab.savefig('boostrap_'+kind+'_'+timestamp+'.pdf')\n",
    "    pylab.legend(loc='upper left')\n",
    "    pylab.show()\n",
    "\n",
    "\n",
    "    "
   ]
  },
  {
   "cell_type": "code",
   "execution_count": null,
   "metadata": {
    "collapsed": false
   },
   "outputs": [
    {
     "data": {
      "text/plain": [
       "array([  4.53403412e-10,   4.25349873e-10,   1.21793431e-08,\n",
       "         1.12953254e-08,   1.43708779e-08,   7.99671631e-09,\n",
       "         3.18203003e-09,   1.84154946e-09,   5.00367575e-09,\n",
       "         1.53576996e-08,   6.88390653e-09,   9.54291710e-09,\n",
       "         5.40282995e-10,   4.70261495e-09,   3.87240935e-09,\n",
       "         4.26992201e-09,   5.09654689e-09,   4.03802173e-10,\n",
       "         1.38363628e-09,   3.57023045e-10,   2.39448360e-09,\n",
       "         2.83787792e-09,   3.87565807e-10,   3.62720238e-09,\n",
       "         1.19374491e-09,   2.51629102e-09,   5.02153665e-10,\n",
       "         2.58398222e-10,   4.99011029e-10,   2.45925127e-09,\n",
       "         1.91508710e-09,   1.11732546e-09,   3.03589846e-10,\n",
       "         5.42575419e-10,   2.86053698e-09,   1.35705553e-09,\n",
       "         5.47494971e-09,   1.51508835e-09,   2.20021280e-09,\n",
       "         3.85965233e-09,   2.13945332e-10,   8.61176609e-10,\n",
       "         1.13871513e-10,   3.94751353e-09,   1.30146285e-09,\n",
       "         3.06739684e-09,   2.70717270e-09,   3.27910030e-09,\n",
       "         9.83210243e-10,   1.02396209e-09,   4.10176962e-09,\n",
       "         2.11909185e-09,   1.05801535e-09,   6.05674989e-09,\n",
       "         5.86771819e-10,   8.19759914e-10,   1.20718075e-09,\n",
       "         1.98225687e-09,   2.88740943e-09,   2.84257716e-09,\n",
       "         8.16379960e-09,   1.73011200e-10,   1.73512086e-09,\n",
       "         3.72924174e-09,   5.78271119e-10,   3.13598646e-09,\n",
       "         6.09891308e-09,   1.00190589e-09,   2.41895567e-09,\n",
       "         1.01230137e-10,   3.74926362e-09,   2.27614877e-09,\n",
       "         1.21994176e-10,   1.09132473e-09,   7.13065648e-10,\n",
       "         1.95950464e-09,   1.34013529e-09,   1.77049476e-09,\n",
       "         2.94423274e-09,   8.98784422e-09,   6.01201377e-09,\n",
       "         3.85222991e-09,   5.33982240e-09,   9.10322188e-10,\n",
       "         2.32515010e-09,   8.90197455e-09,   1.07320515e-08,\n",
       "         5.19008955e-10,   2.84342425e-09,   2.53732993e-09,\n",
       "         3.06601780e-09,   1.62066955e-10,   2.56464234e-09,\n",
       "         6.66689833e-09,   4.86297596e-09,   3.62451776e-09,\n",
       "         1.23587911e-08,   3.40580214e-09])"
      ]
     },
     "execution_count": 10,
     "metadata": {},
     "output_type": "execute_result"
    }
   ],
   "source": [
    "dmass[~np.isnan(dmass)]\n",
    "pahmass[~np.isnan(dmass)]"
   ]
  },
  {
   "cell_type": "markdown",
   "metadata": {},
   "source": [
    "## Calculate bootstrap results using PAH Luminosity ( not PAH Mass)"
   ]
  },
  {
   "cell_type": "code",
   "execution_count": null,
   "metadata": {
    "collapsed": false
   },
   "outputs": [
    {
     "data": {
      "image/png": "[encoded data removed]",
      "text/plain": [
       "<matplotlib.figure.Figure at 0x7f83344e69d0>"
      ]
     },
     "metadata": {},
     "output_type": "display_data"
    }
   ],
   "source": [
    "#Y_data  = fd_all[~np.isnan(fd_all)]\n",
    "#Y_data = sres_ame[~np.isnan(sres_ame)]\n",
    "Y_data = sres_ame\n",
    "\n",
    "X1_data = np.exp(sed_res_data['ln(<U> [Habings])'].values)*np.exp(sed_res_data['ln(Md [kg/m2/sr])']) \n",
    "X2_data = X1_data*sed_res_data['qPAH'].values \n",
    "    \n",
    "X1_label = \"Dust Lum. vs. AME \\n  R = \"\n",
    "X2_label = \"PAH Lum. vs. AME \\n   R = \"\n",
    "\n",
    "iterations = 100000\n",
    "\n",
    "# kind = 'Pearson'\n",
    "# bootstrap_run(X1_data, X2_data, Y_data, kind=kind, X1_label = X1_label, X2_label = X2_label, iterations=iterations, title=None)\n",
    "\n",
    "#bootstrap_run(X1_data, X2_data, Y_data, X3_data=X3_data, kind=kind, iterations=iterations, title=None)\n",
    "\n",
    "kind = 'Spearman'\n",
    "bootstrap_run(X1_data, X2_data, Y_data, kind=kind, X1_label = X1_label, X2_label = X2_label, iterations=iterations, title=None)\n",
    "#kind = 'pearson'\n",
    "#bootstrap_run(X1_data, X2_data, Y_data, kind=kind, iterations=iterations, title=None)\n"
   ]
  },
  {
   "cell_type": "code",
   "execution_count": null,
   "metadata": {
    "collapsed": false
   },
   "outputs": [],
   "source": [
    "Y_data = sres_ame[subset_hs]\n",
    "\n",
    "X1_data = np.exp(sed_res_data['ln(Md [kg/m2/sr])'].values) \n",
    "X2_data = X1_data*sed_res_data['qPAH'].values \n",
    "X1_data = X1_data - X2_data\n",
    "    \n",
    "X1_label = \"Dust Mass. vs. AME \\n  R = \"\n",
    "X2_label = \"PAH Mass. vs. AME \\n   R = \"\n",
    "\n",
    "iterations = 100000\n",
    "\n",
    "X1_data = X1_data[subset_hs]\n",
    "X2_data = X2_data[subset_hs]\n",
    "\n",
    "# kind = 'Pearson'\n",
    "# bootstrap_run(X1_data, X2_data, Y_data, kind=kind, \n",
    "#               X1_label = X1_label, X2_label = X2_label, iterations=iterations, title=None)\n",
    "\n",
    "#bootstrap_run(X1_data, X2_data, Y_data, X3_data=X3_data, kind=kind, iterations=iterations, title=None)\n",
    "\n",
    "kind = 'Spearman'\n",
    "bootstrap_run(X1_data, X2_data, Y_data, kind=kind, \n",
    "              X1_label = X1_label, X2_label = X2_label, iterations=iterations, title=None)\n",
    "\n",
    "\n",
    "Y_data = fd_all[subset_hs]\n",
    "\n",
    "# kind = 'Pearson'\n",
    "# bootstrap_run(X1_data, X2_data, Y_data, kind=kind, \n",
    "#               X1_label = X1_label, X2_label = X2_label, iterations=iterations, title=None)\n",
    "\n",
    "#bootstrap_run(X1_data, X2_data, Y_data, X3_data=X3_data, kind=kind, iterations=iterations, title=None)\n",
    "\n",
    "kind = 'Spearman'\n",
    "bootstrap_run(X1_data, X2_data, Y_data, kind=kind, \n",
    "              X1_label = X1_label, X2_label = X2_label, iterations=iterations, title=None)\n",
    "#kind = 'pearson'\n",
    "#bootstrap_run(X1_data, X2_data, Y_data, kind=kind, iterations=iterations, title=None)"
   ]
  },
  {
   "cell_type": "code",
   "execution_count": null,
   "metadata": {
    "collapsed": false
   },
   "outputs": [],
   "source": [
    "Y_data = sres_ame[subset_ls]\n",
    "\n",
    "X1_data = np.exp(sed_res_data['ln(Md [kg/m2/sr])'].values) \n",
    "X2_data = X1_data*sed_res_data['qPAH'].values \n",
    "X1_data = X1_data - X2_data\n",
    "    \n",
    "X1_label = \"Dust Mass. vs. AME \\n  R = \"\n",
    "X2_label = \"PAH Mass. vs. AME \\n   R = \"\n",
    "\n",
    "X1_data=X1_data[subset_ls]\n",
    "X2_data=X2_data[subset_ls]\n",
    "\n",
    "iterations = 100000\n",
    "\n",
    "# kind = 'Pearson'\n",
    "# bootstrap_run(X1_data, X2_data, Y_data, kind=kind, \n",
    "#               X1_label = X1_label, X2_label = X2_label, iterations=iterations, title=None)\n",
    "\n",
    "#bootstrap_run(X1_data, X2_data, Y_data, X3_data=X3_data, kind=kind, iterations=iterations, title=None)\n",
    "\n",
    "kind = 'Spearman'\n",
    "bootstrap_run(X1_data, X2_data, Y_data, kind=kind, \n",
    "              X1_label = X1_label, X2_label = X2_label, iterations=iterations, title=None)\n",
    "\n",
    "\n",
    "Y_data = fd_all[subset_ls]\n",
    "\n",
    "# kind = 'Pearson'\n",
    "# bootstrap_run(X1_data, X2_data, Y_data, kind=kind, \n",
    "#               X1_label = X1_label, X2_label = X2_label, iterations=iterations, title=None)\n",
    "\n",
    "#bootstrap_run(X1_data, X2_data, Y_data, X3_data=X3_data, kind=kind, iterations=iterations, title=None)\n",
    "\n",
    "kind = 'Spearman'\n",
    "bootstrap_run(X1_data, X2_data, Y_data, kind=kind, \n",
    "              X1_label = X1_label, X2_label = X2_label, iterations=iterations, title=None)\n",
    "#kind = 'pearson'\n",
    "#bootstrap_run(X1_data, X2_data, Y_data, kind=kind, iterations=iterations, title=None)"
   ]
  },
  {
   "cell_type": "code",
   "execution_count": null,
   "metadata": {
    "collapsed": false
   },
   "outputs": [],
   "source": [
    "#Y_data  = fd_all[~np.isnan(fd_all)]\n",
    "#Y_data = sres_ame[~np.isnan(sres_ame)]\n",
    "Y_data = sres_ame\n",
    "\n",
    "X1_data = np.exp(sed_res_data['ln(<U> [Habings])'].values) \n",
    "X2_data = np.exp(sed_res_data['ln(Md [kg/m2/sr])'].values) \n",
    "#X3_data = phot_ori['im_lnLdust_tot_best.fits']\n",
    "\n",
    "iterations = 1000000\n",
    "\n",
    "X1_label = \"U [Habings] vs. AME \\n  R = \"\n",
    "X2_label = \"Dust Mass  vs. AME \\n   R = \"\n",
    "\n",
    "# kind = 'Pearson'\n",
    "# bootstrap_run(X1_data, X2_data, Y_data, kind=kind, X1_label = X1_label, X2_label = X2_label, iterations=iterations, title=None)\n",
    "\n",
    "kind = 'Spearman'\n",
    "bootstrap_run(X1_data, X2_data, Y_data, kind=kind, X1_label = X1_label, X2_label = X2_label, iterations=iterations, title=None)\n",
    "#kind = 'pearson'\n",
    "#bootstrap_run(X1_data, X2_data, Y_data, kind=kind, iterations=iterations, title=None)\n"
   ]
  },
  {
   "cell_type": "code",
   "execution_count": null,
   "metadata": {
    "collapsed": false
   },
   "outputs": [],
   "source": [
    "#Y_data  = fd_all[~np.isnan(fd_all)]\n",
    "#Y_data = sres_ame[~np.isnan(sres_ame)]\n",
    "Y_data = sres_ame\n",
    "\n",
    "X1_data = np.exp(sed_res_data['ln(<U> [Habings])'].values)*np.exp(sed_res_data['ln(Md [kg/m2/sr])'].values) \n",
    "X2_data = np.exp(sed_res_data['ln(Md [kg/m2/sr])'].values) \n",
    "    \n",
    "\n",
    "iterations = 1000000\n",
    "\n",
    "X1_label = \"Dust Lum. vs. AME \\n   R = \"\n",
    "X2_label = \"Dust Mass vs. AME \\n   R = \"\n",
    "\n",
    "# kind = 'Pearson'\n",
    "# bootstrap_run(X1_data, X2_data, Y_data, kind=kind, X1_label = X1_label, X2_label = X2_label, iterations=iterations, title=None)\n",
    "\n",
    "kind = 'Spearman'\n",
    "bootstrap_run(X1_data, X2_data, Y_data, kind=kind, X1_label = X1_label, X2_label = X2_label, iterations=iterations, title=None)\n"
   ]
  },
  {
   "cell_type": "code",
   "execution_count": null,
   "metadata": {
    "collapsed": false
   },
   "outputs": [],
   "source": [
    "#Y_data  = fd_all[~np.isnan(fd_all)]\n",
    "#Y_data = sres_ame[~np.isnan(sres_ame)]\n",
    "Y_data = sres_ame\n",
    "\n",
    "X1_data = np.exp(sed_res_data['ln(Md [kg/m2/sr])'].values) \n",
    "X2_data = J_dmass\n",
    "\n",
    "\n",
    "#X3_data = phot_ori['im_lnLdust_tot_best.fits']\n",
    "\n",
    "iterations = 100000\n",
    "\n",
    "X1_label = \"Dust Mass (Fred) vs. AME \\n  R = \"\n",
    "X2_label = \"Dust Mass (J13) vs. AME \\n   R = \"\n",
    "\n",
    "# kind = 'Pearson'\n",
    "# bootstrap_run(X1_data, X2_data, Y_data, kind=kind, X1_label = X1_label, X2_label = X2_label, iterations=iterations, title=None)\n",
    "\n",
    "kind = 'Spearman'\n",
    "bootstrap_run(X1_data, X2_data, Y_data, kind=kind, X1_label = X1_label, X2_label = X2_label, iterations=iterations, title=None)\n"
   ]
  },
  {
   "cell_type": "code",
   "execution_count": null,
   "metadata": {
    "collapsed": false
   },
   "outputs": [],
   "source": [
    "Y_data  = fd_all[~np.isnan(fd_all)]\n",
    "X1_data = dmass #[~np.isnan(dmass)]\n",
    "X2_data = pahmass #[~np.isnan(pahmass)]\n",
    "#X3_data = phot_ori['im_lnLdust_tot_best.fits']\n",
    "\n",
    "iterations = 10000\n",
    "\n",
    "#kind = 'pearson'\n",
    "\n",
    "#bootstrap_run(X1_data, X2_data, Y_data, X3_data=X3_data, kind=kind, iterations=iterations, title=None)\n",
    "\n",
    "kind = 'spearman'\n",
    "bootstrap_run(X1_data, X2_data, Y_data, kind=kind, iterations=iterations, title=None)\n",
    "# kind = 'pearson'\n",
    "# bootstrap_run(X1_data, X2_data, Y_data, kind=kind, iterations=iterations, title=None)\n"
   ]
  },
  {
   "cell_type": "code",
   "execution_count": null,
   "metadata": {
    "collapsed": false
   },
   "outputs": [],
   "source": [
    "kind = 'spearman'\n",
    "iterations = 10000000\n",
    "\n",
    "\n",
    "Y_data  = fd_all[subset_hs]\n",
    "X1_data = dmass[subset_hs] #[~np.isnan(dmass)]\n",
    "X2_data = pahmass[subset_hs] #[~np.isnan(pahmass)]\n",
    "\n",
    "bootstrap_run(X1_data, X2_data, Y_data, kind=kind, iterations=iterations, title=None)\n",
    "\n",
    "\n",
    "\n"
   ]
  },
  {
   "cell_type": "code",
   "execution_count": null,
   "metadata": {
    "collapsed": false
   },
   "outputs": [],
   "source": [
    "iterations = 1000000\n",
    "\n",
    "\n",
    "Y_data  = fd_all[subset_ls]\n",
    "X1_data = dmass[subset_ls] #[~np.isnan(dmass)]\n",
    "X2_data = pahmass[subset_ls] #[~np.isnan(pahmass)]\n",
    "\n",
    "bootstrap_run(X1_data, X2_data, Y_data, kind=kind, iterations=iterations, title=None)\n"
   ]
  },
  {
   "cell_type": "code",
   "execution_count": null,
   "metadata": {
    "collapsed": false
   },
   "outputs": [],
   "source": [
    "iterations = 1000000\n",
    "\n",
    "Y_data  = sres_ame[subset_hs]\n",
    "X1_data = dmass[subset_hs] #[~np.isnan(dmass)]\n",
    "X2_data = pahmass[subset_hs] #[~np.isnan(pahmass)]\n",
    "\n",
    "bootstrap_run(X1_data, X2_data, Y_data, kind=kind, iterations=iterations, title=None)\n",
    "\n",
    "Y_data  = sres_ame[subset_ls]\n",
    "X1_data = dmass[subset_ls] #[~np.isnan(dmass)]\n",
    "X2_data = pahmass[subset_ls] #[~np.isnan(pahmass)]\n",
    "\n",
    "bootstrap_run(X1_data, X2_data, Y_data, kind=kind, iterations=iterations, title=None)"
   ]
  },
  {
   "cell_type": "code",
   "execution_count": null,
   "metadata": {
    "collapsed": false
   },
   "outputs": [],
   "source": [
    "print len(sres_ame)\n",
    "print len(fd_all)\n",
    "print fd_all[np.isnan(fd_all)==False]\n",
    "print fd_all[np.isnan(fd_all)==True]\n",
    "print sres_ame[np.isnan(sres_ame)==False]\n",
    "print sres_ame[np.isnan(sres_ame)==True]\n",
    "print corr_array_hs[np.isnan(corr_array_hs)==False]"
   ]
  },
  {
   "cell_type": "code",
   "execution_count": null,
   "metadata": {
    "collapsed": false
   },
   "outputs": [],
   "source": []
  },
  {
   "cell_type": "markdown",
   "metadata": {},
   "source": [
    "# AME to Dust comparisons, without background subtraction of the AME:"
   ]
  },
  {
   "cell_type": "code",
   "execution_count": null,
   "metadata": {
    "collapsed": false
   },
   "outputs": [],
   "source": [
    "fig = plt.figure(figsize=(10,10))\n",
    "\n",
    "plt.subplot(2,2,1)\n",
    "Y_ = fd_all[:]+fd_bg_all[:]\n",
    "X_ = qpah*dmass\n",
    "ytitle = \"AME (PR2) [Jy]\"\n",
    "xtitle = \"PAH Mass [kg/m2/sr]\"\n",
    "corr_plot(X_,Y_, title, xtitle, ytitle)\n",
    "\n",
    "plt.subplot(2,2,2)\n",
    "X_ = dmass\n",
    "xtitle = \"Dust Mass [kg/m2/sr]\"\n",
    "corr_plot(X_,Y_, title, xtitle, ytitle)\n",
    "\n",
    "plt.subplot(2,2,3)\n",
    "Y_ = sres_ame\n",
    "X_ = qpah*dmass\n",
    "ytitle = \"AME (PCXV) Photometry [ Jy ]\"\n",
    "xtitle = \"PAH Mass [kg/m2/sr]\"\n",
    "corr_plot(X_,Y_, title, xtitle, ytitle)\n",
    "\n",
    "plt.subplot(2,2,4)\n",
    "X_ = dmass\n",
    "xtitle = \"Dust Mass [kg/m2/sr]\"\n",
    "corr_plot(X_,Y_, title, xtitle, ytitle)\n",
    "\n",
    "plt.show()\n",
    "plt.close()"
   ]
  },
  {
   "cell_type": "code",
   "execution_count": null,
   "metadata": {
    "collapsed": false
   },
   "outputs": [],
   "source": [
    "fig = plt.figure(figsize=(10,10))\n",
    "\n",
    "plt.subplot(2,2,1)\n",
    "Y_ = J_qpah\n",
    "X_ = J_dmass\n",
    "ytitle = \"Dust Mass [kg/m2/sr]\"\n",
    "xtitle = \"q_PAH\"\n",
    "corr_plot(X_,Y_, xtitle, ytitle, logscale=True)\n",
    "\n",
    "plt.show()\n",
    "plt.close()"
   ]
  },
  {
   "cell_type": "markdown",
   "metadata": {},
   "source": [
    "### Dust Mass (THEMIS) vs. AME"
   ]
  },
  {
   "cell_type": "code",
   "execution_count": null,
   "metadata": {
    "collapsed": false
   },
   "outputs": [],
   "source": [
    "\n",
    "fig = plt.figure(figsize=(10,10))\n",
    "\n",
    "plt.subplot(2,2,1)\n",
    "Y_ = fd_all[:]+fd_bg_all[:]\n",
    "X_ = J_qpah*J_dmass\n",
    "ytitle = \"AME (PR2) [Jy]\"\n",
    "xtitle = \"PAH Mass [kg/m2/sr]\"\n",
    "corr_plot(X_,Y_, xtitle, ytitle, logscale=True)\n",
    "\n",
    "plt.subplot(2,2,2)\n",
    "X_ = J_dmass\n",
    "xtitle = \"Dust Mass [kg/m2/sr]\"\n",
    "corr_plot(X_,Y_, xtitle, ytitle, logscale=True)\n",
    "\n",
    "plt.show()\n",
    "plt.close()"
   ]
  },
  {
   "cell_type": "markdown",
   "metadata": {},
   "source": [
    "# Comparison of AME Photometry with $\\tau_{250}$"
   ]
  },
  {
   "cell_type": "code",
   "execution_count": null,
   "metadata": {
    "collapsed": false
   },
   "outputs": [],
   "source": [
    "fig = plt.figure(figsize=(10,10))\n",
    "\n",
    "plt.subplot(2,2,1)\n",
    "# \"Dust vs. High Sig. AME\"\n",
    "Y_ = fd_all[:]\n",
    "X_ = tau_250[:]\n",
    "ytitle = \"AME (PR2) [Jy]\"\n",
    "xtitle = \"$\\\\tau_{250}$ (PCXV)\"\n",
    "corr_plot(X_,Y_, xtitle, ytitle, logscale=True)\n",
    "\n",
    "plt.subplot(2,2,2)\n",
    "Y_ = sres_ame[:]\n",
    "X_ = tau_250[:]\n",
    "#\"Clive's Optical Depth vs. AME\"\n",
    "ytitle = \"AME (PCXV) [Jy]\"\n",
    "xtitle = \"$\\\\tau_{250}$ (PCXV)\"\n",
    "corr_plot(X_,Y_, xtitle, ytitle, logscale=True)\n",
    "\n",
    "\n",
    "plt.tight_layout()\n",
    "plt.show()\n",
    "plt.close()"
   ]
  },
  {
   "cell_type": "code",
   "execution_count": null,
   "metadata": {
    "collapsed": false
   },
   "outputs": [],
   "source": [
    "fig = plt.figure(figsize=(16,16))\n",
    "###############################################################\n",
    "### First, plot the regions /with/ background subtraction######\n",
    "###############################################################\n",
    "Y_ = fd_all\n",
    "X_ = sres_ame\n",
    "\n",
    "plt.subplot(2,2,1,adjustable='box')\n",
    "#plt.title(\"With background subtraction\")\n",
    "ytitle=\"AME (PR2) [Jy]\"\n",
    "xtitle=\"AME (PCXV) [Jy]\"\n",
    "corr_plot(X_,Y_, xtitle, ytitle, logscale=True)\n",
    "\n",
    "\n",
    "from sklearn import svm, datasets\n",
    "\n",
    "C = 1.0\n",
    "svc = svm.SVC(kernel='linear', C=C).fit([X_[50:60], Y_[50:60]],2)\n",
    "\n",
    "\n",
    "###############################################################\n",
    "### Now, plot them  /without/ background subtraction###########\n",
    "################################################################\n",
    "#Y_ = fd_all+fd_bg_all##########################################\n",
    "###############################################################\n",
    "#X_ = sres_ame\n",
    "#plt.subplot(2,2,2,adjustable='box')\n",
    "#plt.title(\"Without background subtraction\")\n",
    "#ytitle=\"AME (PR2) [Jy]\"\n",
    "#xtitle=\"AME (PCXV) [Jy]\"\n",
    "\n",
    "#corr_plot(X_,Y_,  xtitle, ytitle, logscale=True)\n"
   ]
  },
  {
   "cell_type": "code",
   "execution_count": null,
   "metadata": {
    "collapsed": false
   },
   "outputs": [],
   "source": [
    "filters = pd.DataFrame.from_csv(\"/work1/users/aaronb/Codebrary/Python/filters_PAH.dat\", header=0)"
   ]
  },
  {
   "cell_type": "code",
   "execution_count": null,
   "metadata": {
    "collapsed": false
   },
   "outputs": [],
   "source": [
    "print filters['IRAS12/PAH1']"
   ]
  },
  {
   "cell_type": "code",
   "execution_count": null,
   "metadata": {
    "collapsed": false
   },
   "outputs": [],
   "source": [
    "filters.columns"
   ]
  },
  {
   "cell_type": "code",
   "execution_count": null,
   "metadata": {
    "collapsed": false
   },
   "outputs": [],
   "source": [
    "plt.figure(); filters[['IRAS12/PAH0','IRC09/PAH0','IRAS12/PAH1','IRC09/PAH1']].plot(logx=True)"
   ]
  },
  {
   "cell_type": "code",
   "execution_count": null,
   "metadata": {
    "collapsed": false
   },
   "outputs": [],
   "source": [
    "filters[['IRC09/PAH0','IRC09/PAH1','IRAS12/PAH0','IRAS12/PAH1','WISE12/PAH0','WISE12/PAH1']].ix[5].plot(kind='bar',stacked=True); plt.axhline(0, color='k')"
   ]
  },
  {
   "cell_type": "code",
   "execution_count": null,
   "metadata": {
    "collapsed": false
   },
   "outputs": [],
   "source": [
    "filters[['IRAS12/PAH0','IRC09/PAH0','IRAS12/PAH1','IRC09/PAH1']].plot.bar(); plt.axhline(0, color='k')"
   ]
  },
  {
   "cell_type": "code",
   "execution_count": null,
   "metadata": {
    "collapsed": false
   },
   "outputs": [],
   "source": [
    "plt.figure(); filters[['IRAS12/PAH0', 'IRAS12/PAH1', 'IRAS12/SAmC', 'IRAS12/LAmC',\n",
    "       'IRAS12/ASIL', 'IRAS12/TOTAL', 'IRAS25/PAH0', 'IRAS25/PAH1',\n",
    "       'IRAS25/SAmC', 'IRAS25/LAmC', 'IRAS25/ASIL', 'IRAS25/TOTAL',\n",
    "       'WISE12/PAH0', 'WISE12/PAH1', 'WISE12/SAmC', 'WISE12/LAmC',\n",
    "       'WISE12/ASIL', 'WISE12/TOTAL', 'WISE22/PAH0', 'WISE22/PAH1',\n",
    "       'WISE22/SAmC', 'WISE22/LAmC', 'WISE22/ASIL', 'WISE22/TOTAL',\n",
    "       'IRC09/PAH0', 'IRC09/PAH1', 'IRC09/SAmC', 'IRC09/LAmC',\n",
    "       'IRC09/ASIL', 'IRC09/TOTAL', 'IRC18/PAH0', 'IRC18/PAH1',\n",
    "       'IRC18/SAmC', 'IRC18/LAmC', 'IRC18/ASIL', 'IRC18/TOTAL']].plot(logx=True)"
   ]
  },
  {
   "cell_type": "code",
   "execution_count": null,
   "metadata": {
    "collapsed": true
   },
   "outputs": [],
   "source": []
  },
  {
   "cell_type": "code",
   "execution_count": null,
   "metadata": {
    "collapsed": false
   },
   "outputs": [],
   "source": [
    "plt.figure(figsize=(40,40)); filters[['IRAS12/PAH0', 'IRAS12/PAH1', \n",
    "                        'WISE12/PAH0', 'WISE12/PAH1',\n",
    "                       'IRC09/PAH0', 'IRC09/PAH1', ]].plot(logx=True)"
   ]
  },
  {
   "cell_type": "code",
   "execution_count": null,
   "metadata": {
    "collapsed": false
   },
   "outputs": [],
   "source": [
    "plt.figure(figsize=(20,20)); filters[['IRAS12/TOTAL',  \n",
    "                        'WISE12/TOTAL', \n",
    "                       'IRC09/TOTAL']].plot(logx=True)"
   ]
  },
  {
   "cell_type": "code",
   "execution_count": null,
   "metadata": {
    "collapsed": false
   },
   "outputs": [],
   "source": []
  },
  {
   "cell_type": "code",
   "execution_count": null,
   "metadata": {
    "collapsed": true
   },
   "outputs": [],
   "source": []
  },
  {
   "cell_type": "code",
   "execution_count": null,
   "metadata": {
    "collapsed": true
   },
   "outputs": [],
   "source": []
  },
  {
   "cell_type": "code",
   "execution_count": null,
   "metadata": {
    "collapsed": false
   },
   "outputs": [],
   "source": [
    "import matplotlib.pyplot as plt\n",
    "%matplotlib inline\n",
    "import pandas as pd\n",
    "filters_dir = \"/work1/users/aaronb/Databrary/Filters/\"\n",
    "iras12 = pd.read_csv(filters_dir+\"filter_iras12\", names= ['Wavelength','IRAS12'], header=0)\n",
    "wise12 = pd.read_csv(filters_dir+\"filter_wise12\", names= ['Wavelength','WISE12'], header=0)\n",
    "akari9 = pd.read_csv(filters_dir+\"filter_akari9\", names= ['Wavelength','AKARI9'], header=0)\n",
    "akari18 = pd.read_csv(filters_dir+\"filter_akari18\", names= ['Wavelength','AKARI18'], header=0)\n",
    "iras25 = pd.read_csv(filters_dir+\"filter_iras25\", names= ['Wavelength','IRAS25'], header=0)\n",
    "#rsr = wise12.merge(akari9, how = 'outer', on='Wavelength')\n",
    "#rsr = rsr.merge(iras12)\n",
    "#rsr.sort_values(by='Wavelength', inplace=True)\n",
    "fig = plt.figure()\n",
    "ax1 = fig.add_subplot(111)\n",
    "\n",
    "#wise12_norm['WISE12'] = (wise12['WISE12'] - wise12['WISE12'].mean()) / (wise12['WISE12'].max() - wise12['WISE12'].min())\n",
    "wise12_norm = wise12\n",
    "wise12_norm['WISE12'] = (wise12['WISE12']  / wise12['WISE12'].max())\n",
    "\n",
    "wise12_norm.plot(x='Wavelength',logx=False, xlim=(5,35), ax=ax1)\n",
    "akari9.plot(x='Wavelength',logx=False, xlim=(5,35), ax=ax1)\n",
    "iras12.plot(x='Wavelength',logx=False, xlim=(5,35), ax=ax1)\n",
    "akari18.plot(x='Wavelength',logx=False, xlim=(5,35), ax=ax1)\n",
    "iras25.plot(x='Wavelength',logx=False, xlim=(5,35), ylim = (0.1,1), ax=ax1)"
   ]
  },
  {
   "cell_type": "code",
   "execution_count": null,
   "metadata": {
    "collapsed": false
   },
   "outputs": [],
   "source": [
    "wise12_norm.max()"
   ]
  },
  {
   "cell_type": "code",
   "execution_count": null,
   "metadata": {
    "collapsed": false
   },
   "outputs": [],
   "source": [
    "rsr"
   ]
  },
  {
   "cell_type": "code",
   "execution_count": null,
   "metadata": {
    "collapsed": false
   },
   "outputs": [],
   "source": [
    "fd_all[1]"
   ]
  },
  {
   "cell_type": "code",
   "execution_count": null,
   "metadata": {
    "collapsed": false
   },
   "outputs": [],
   "source": [
    "plt.scatter(nu_ame,sres_ame)\n",
    "plt.scatter(nu_ame,sres_ame/fd_all[0])\n",
    "plt.scatter(nu_ame,sres_ame/fd_all[1])\n",
    "plt.ylim(0,50)\n",
    "plt.xlim(20,50)"
   ]
  },
  {
   "cell_type": "code",
   "execution_count": null,
   "metadata": {
    "collapsed": false
   },
   "outputs": [],
   "source": [
    "#plt.hist(nu_ame,bins=100)\n",
    "np.nanmedian(nu_ame)\n",
    "np.nanmean(nu_ame)\n",
    "\n"
   ]
  },
  {
   "cell_type": "code",
   "execution_count": null,
   "metadata": {
    "collapsed": true
   },
   "outputs": [],
   "source": []
  }
 ],
 "metadata": {
  "kernelspec": {
   "display_name": "Python 2",
   "language": "python",
   "name": "python2"
  },
  "language_info": {
   "codemirror_mode": {
    "name": "ipython",
    "version": 2
   },
   "file_extension": ".py",
   "mimetype": "text/x-python",
   "name": "python",
   "nbconvert_exporter": "python",
   "pygments_lexer": "ipython2",
   "version": "2.7.12"
  }
 },
 "nbformat": 4,
 "nbformat_minor": 0
}
