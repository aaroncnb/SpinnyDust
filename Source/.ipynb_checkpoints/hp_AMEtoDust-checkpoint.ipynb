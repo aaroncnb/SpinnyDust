{
 "cells": [
  {
   "cell_type": "code",
   "execution_count": 1,
   "metadata": {},
   "outputs": [
    {
     "ename": "ImportError",
     "evalue": "No module named statsmodels.formula.api",
     "output_type": "error",
     "traceback": [
      "\u001b[0;31m---------------------------------------------------------------------------\u001b[0m",
      "\u001b[0;31mImportError\u001b[0m                               Traceback (most recent call last)",
      "\u001b[0;32m<ipython-input-1-9bb44b5e70e8>\u001b[0m in \u001b[0;36m<module>\u001b[0;34m()\u001b[0m\n\u001b[1;32m      7\u001b[0m \u001b[0;32mimport\u001b[0m \u001b[0mmatplotlib\u001b[0m\u001b[0;34m.\u001b[0m\u001b[0mpyplot\u001b[0m \u001b[0;32mas\u001b[0m \u001b[0mplt\u001b[0m\u001b[0;34m\u001b[0m\u001b[0m\n\u001b[1;32m      8\u001b[0m \u001b[0;32mimport\u001b[0m \u001b[0mpandas\u001b[0m \u001b[0;32mas\u001b[0m \u001b[0mpd\u001b[0m\u001b[0;34m\u001b[0m\u001b[0m\n\u001b[0;32m----> 9\u001b[0;31m \u001b[0;32mimport\u001b[0m \u001b[0mstatsmodels\u001b[0m\u001b[0;34m.\u001b[0m\u001b[0mformula\u001b[0m\u001b[0;34m.\u001b[0m\u001b[0mapi\u001b[0m \u001b[0;32mas\u001b[0m \u001b[0msm\u001b[0m\u001b[0;34m\u001b[0m\u001b[0m\n\u001b[0m\u001b[1;32m     10\u001b[0m \u001b[0;32mimport\u001b[0m \u001b[0mseaborn\u001b[0m \u001b[0;32mas\u001b[0m \u001b[0msns\u001b[0m\u001b[0;34m\u001b[0m\u001b[0m\n\u001b[1;32m     11\u001b[0m \u001b[0;31m#matplotlib.style.use('ggplot')\u001b[0m\u001b[0;34m\u001b[0m\u001b[0;34m\u001b[0m\u001b[0m\n",
      "\u001b[0;31mImportError\u001b[0m: No module named statsmodels.formula.api"
     ]
    }
   ],
   "source": [
    "import matplotlib\n",
    "#from IPython.external import mathjax; mathjax.install_mathjax()\n",
    "import numpy as np\n",
    "import math\n",
    "import sys\n",
    "import scipy\n",
    "import matplotlib.pyplot as plt\n",
    "import pandas as pd\n",
    "import statsmodels.formula.api as sm\n",
    "import seaborn as sns\n",
    "#matplotlib.style.use('ggplot')\n",
    "\n",
    "%matplotlib inline\n"
   ]
  },
  {
   "cell_type": "markdown",
   "metadata": {},
   "source": [
    "# Comparing the AME photometry to the dust SED fitting results:\n",
    "\n",
    "In the 'hp_photometry' notebook, we gathered the AME and IR bands' photometry results for the 98 \"AME Regions\".\n",
    "Now that Fred has kindly carried out the SED fitting, based on the AKARI-DIRBE-IRAS-PLANCK IR photometry, we can compare this to the AME.\n",
    "\n",
    "## Step 1: Load-in the photometry results:\n",
    "\n",
    "The first thing we do is just re-load our progress so far (the photometry data) into memory."
   ]
  },
  {
   "cell_type": "code",
   "execution_count": 2,
   "metadata": {
    "collapsed": true
   },
   "outputs": [],
   "source": [
    "data_path = \"../Data/\"\n",
    "\n",
    "fileout_phot = \"../Data/photometry.csv\"\n",
    "fileout_err  = \"../Data/errors.csv\"\n",
    "fileout_bg   = \"../Data/backgrounds.csv\"\n",
    "\n",
    "healpix_AME = \"../Data/raw/COM_CompMap_AME-commander_0256_R2.00.fits\" ## Path to AME map\n",
    "pcxv_AME = \"../Data/AME.txt\"\n",
    "\n",
    "fd_all      = np.genfromtxt(fileout_phot,usecols = (0), dtype = 'float', delimiter=',',skip_header=0)\n",
    "fd_err_all  = np.genfromtxt(fileout_err,usecols = (14), dtype = 'float', delimiter=',',skip_header=1)\n",
    "fd_bg_all   = np.genfromtxt(fileout_bg,usecols = (0), dtype = 'float', delimiter=',',skip_header=0)\n",
    "\n",
    "## These lines gets the AME results from Clive's paper, so we can do a comparison:\n",
    "### Residual (anomalous) 28.4 GHz flux\n",
    "sres_ame  = np.genfromtxt(pcxv_AME,usecols = (22), dtype = 'float', delimiter=',',skip_header=1)\n",
    "sres_ame[sres_ame<=0] = np.nan\n",
    "sres_ame_err = np.genfromtxt(pcxv_AME,usecols = (23), dtype = 'float', delimiter=',',skip_header=1)\n",
    "sres_ame_err = sres_ame_err**2\n",
    "sres_ame_err = np.sqrt(sres_ame_err)\n",
    "### Peak frequency\n",
    "nu_ame    = np.genfromtxt(pcxv_AME,usecols = (17), dtype = 'float', delimiter=',',skip_header=1)\n",
    "### Potential fractioanl contribution from an UCHII region...\n",
    "f_uch     = np.genfromtxt(pcxv_AME,usecols = (19), dtype = 'float', delimiter=',',skip_header=1)\n",
    "### AME Significance\n",
    "sig_ame = np.genfromtxt(pcxv_AME,usecols = (16), dtype = 'float', delimiter=',',skip_header=1)\n",
    "### Dust optical depth\n",
    "tau_250 = np.genfromtxt(pcxv_AME,usecols = (6), dtype = 'float', delimiter=',',skip_header=1)\n",
    "## These get the coordinates of the AME regions:\n",
    "#glat    = np.genfromtxt('inputlist_mep_test.list',usecols = (2), dtype = 'float', delimiter=',')\n",
    "#glon    = np.genfromtxt('inputlist_mep_test.list',usecols = (1), dtype = 'float', delimiter=',')\n",
    "\n",
    "### Potential fractioanl contribution from an UCHII region...\n",
    "f_uch     = np.genfromtxt(pcxv_AME,usecols = (19), dtype = 'float', delimiter=',',skip_header=1)\n",
    "### AME Significance\n",
    "sig_ame = np.genfromtxt(pcxv_AME,usecols = (16), dtype = 'float', delimiter=',',skip_header=1)\n"
   ]
  },
  {
   "cell_type": "markdown",
   "metadata": {},
   "source": [
    "## Step 2: Load-in dust SED fitting results:\n",
    "Now we do the same thing for the SED fitting. Just load the columns from Fred's \"results.csv\" file into python variables.\n",
    "(In the future, it may be better to load these as Pandas DataFrames)"
   ]
  },
  {
   "cell_type": "code",
   "execution_count": 3,
   "metadata": {
    "collapsed": true
   },
   "outputs": [],
   "source": [
    "##############Model A: Fred's Model############\n",
    "###############################################\n",
    "### PAH fraction\n",
    "\n",
    "### Potential fractioanl contribution from an UCHII region...\n",
    "#f_uch     = np.genfromtxt(pcxv_AME,usecols = (19), dtype = 'float', delimiter=',',skip_header=1)\n",
    "### AME Significance\n",
    "sig_ame = np.genfromtxt(pcxv_AME,usecols = (16), dtype = 'float', delimiter=',',skip_header=1)\n",
    "\n",
    "\n",
    "### Subsets for removing points that have a NaN sres_ame value\n",
    "\n",
    "sres_nonan = np.isnan(sres_ame)==False\n"
   ]
  },
  {
   "cell_type": "markdown",
   "metadata": {},
   "source": [
    "### Load results intp Pandas dataframe, instead of individual variables:"
   ]
  },
  {
   "cell_type": "code",
   "execution_count": 4,
   "metadata": {},
   "outputs": [
    {
     "name": "stdout",
     "output_type": "stream",
     "text": [
      "[  9.80000000e+01  -1.75360363e+01   2.35464854e-01  -4.81670292e-01\n",
      "   2.10324533e-01   1.40612271e-01   1.77555980e-02   1.08880285e+00]\n"
     ]
    },
    {
     "data": {
      "text/html": [
       "<div>\n",
       "<style>\n",
       "    .dataframe thead tr:only-child th {\n",
       "        text-align: right;\n",
       "    }\n",
       "\n",
       "    .dataframe thead th {\n",
       "        text-align: left;\n",
       "    }\n",
       "\n",
       "    .dataframe tbody tr th {\n",
       "        vertical-align: top;\n",
       "    }\n",
       "</style>\n",
       "<table border=\"1\" class=\"dataframe\">\n",
       "  <thead>\n",
       "    <tr style=\"text-align: right;\">\n",
       "      <th></th>\n",
       "      <th>Region</th>\n",
       "      <th>ln(Md [kg/m2/sr])</th>\n",
       "      <th>sigma(ln(Md))</th>\n",
       "      <th>ln(&lt;U&gt; [Habings])</th>\n",
       "      <th>sigma(ln(&lt;U&gt;))</th>\n",
       "      <th>qPAH</th>\n",
       "      <th>sigma(qPAH)</th>\n",
       "      <th>reduced chi-square</th>\n",
       "    </tr>\n",
       "  </thead>\n",
       "  <tbody>\n",
       "    <tr>\n",
       "      <th>0</th>\n",
       "      <td>1</td>\n",
       "      <td>-18.067855</td>\n",
       "      <td>0.275317</td>\n",
       "      <td>-1.005869</td>\n",
       "      <td>0.257460</td>\n",
       "      <td>0.031861</td>\n",
       "      <td>0.020650</td>\n",
       "      <td>0.222243</td>\n",
       "    </tr>\n",
       "    <tr>\n",
       "      <th>1</th>\n",
       "      <td>2</td>\n",
       "      <td>-17.658471</td>\n",
       "      <td>0.235443</td>\n",
       "      <td>-1.326002</td>\n",
       "      <td>0.237365</td>\n",
       "      <td>0.019848</td>\n",
       "      <td>0.006339</td>\n",
       "      <td>0.708876</td>\n",
       "    </tr>\n",
       "    <tr>\n",
       "      <th>2</th>\n",
       "      <td>3</td>\n",
       "      <td>-15.420359</td>\n",
       "      <td>0.351627</td>\n",
       "      <td>0.729531</td>\n",
       "      <td>0.345973</td>\n",
       "      <td>0.060618</td>\n",
       "      <td>0.014068</td>\n",
       "      <td>0.797173</td>\n",
       "    </tr>\n",
       "    <tr>\n",
       "      <th>3</th>\n",
       "      <td>4</td>\n",
       "      <td>-15.102589</td>\n",
       "      <td>0.231056</td>\n",
       "      <td>1.053820</td>\n",
       "      <td>0.217529</td>\n",
       "      <td>0.040914</td>\n",
       "      <td>0.009171</td>\n",
       "      <td>1.629586</td>\n",
       "    </tr>\n",
       "    <tr>\n",
       "      <th>4</th>\n",
       "      <td>5</td>\n",
       "      <td>-14.866837</td>\n",
       "      <td>0.175341</td>\n",
       "      <td>0.891270</td>\n",
       "      <td>0.160773</td>\n",
       "      <td>0.041121</td>\n",
       "      <td>0.008951</td>\n",
       "      <td>1.418701</td>\n",
       "    </tr>\n",
       "  </tbody>\n",
       "</table>\n",
       "</div>"
      ],
      "text/plain": [
       "   Region  ln(Md [kg/m2/sr])  sigma(ln(Md))  ln(<U> [Habings])  \\\n",
       "0       1         -18.067855       0.275317          -1.005869   \n",
       "1       2         -17.658471       0.235443          -1.326002   \n",
       "2       3         -15.420359       0.351627           0.729531   \n",
       "3       4         -15.102589       0.231056           1.053820   \n",
       "4       5         -14.866837       0.175341           0.891270   \n",
       "\n",
       "   sigma(ln(<U>))      qPAH  sigma(qPAH)  reduced chi-square  \n",
       "0        0.257460  0.031861     0.020650            0.222243  \n",
       "1        0.237365  0.019848     0.006339            0.708876  \n",
       "2        0.345973  0.060618     0.014068            0.797173  \n",
       "3        0.217529  0.040914     0.009171            1.629586  \n",
       "4        0.160773  0.041121     0.008951            1.418701  "
      ]
     },
     "execution_count": 4,
     "metadata": {},
     "output_type": "execute_result"
    }
   ],
   "source": [
    "#sed_res_path = '/work1/users/aaronb/Databrary/fred_results_82616.csv'\n",
    "\n",
    "sed_res_path = '../Data/fred_results_82616.csv'\n",
    "\n",
    "sed_res_data = pd.read_csv(sed_res_path, index_col=False)\n",
    "\n",
    "print sed_res_data.values[-1,:]\n",
    "sed_res_data.head()"
   ]
  },
  {
   "cell_type": "markdown",
   "metadata": {},
   "source": [
    "# Plots of dust vs. AME using Galliano+ (2011) model:"
   ]
  },
  {
   "cell_type": "code",
   "execution_count": 5,
   "metadata": {
    "collapsed": true
   },
   "outputs": [],
   "source": [
    "## Force background color to be white:\n",
    "### Note that seaborn plotting functions my override these settings.\n",
    "plt.rcParams['axes.facecolor']    ='white'\n",
    "plt.rcParams['figure.facecolor']  ='white'\n",
    "plt.rcParams['savefig.facecolor'] ='white'"
   ]
  },
  {
   "cell_type": "code",
   "execution_count": 6,
   "metadata": {},
   "outputs": [
    {
     "name": "stderr",
     "output_type": "stream",
     "text": [
      "/usr/local/lib/python2.7/dist-packages/ipykernel_launcher.py:47: RuntimeWarning: invalid value encountered in greater\n",
      "/usr/local/lib/python2.7/dist-packages/ipykernel_launcher.py:48: RuntimeWarning: invalid value encountered in less_equal\n"
     ]
    },
    {
     "ename": "NameError",
     "evalue": "name 'dmass' is not defined",
     "output_type": "error",
     "traceback": [
      "\u001b[0;31m---------------------------------------------------------------------------\u001b[0m",
      "\u001b[0;31mNameError\u001b[0m                                 Traceback (most recent call last)",
      "\u001b[0;32m<ipython-input-6-a832565920db>\u001b[0m in \u001b[0;36m<module>\u001b[0;34m()\u001b[0m\n\u001b[1;32m     54\u001b[0m \u001b[0mY_\u001b[0m   \u001b[0;34m=\u001b[0m \u001b[0msres_ame\u001b[0m\u001b[0;34m.\u001b[0m\u001b[0mcopy\u001b[0m\u001b[0;34m(\u001b[0m\u001b[0;34m)\u001b[0m\u001b[0;34m\u001b[0m\u001b[0m\n\u001b[1;32m     55\u001b[0m \u001b[0mX_\u001b[0m   \u001b[0;34m=\u001b[0m \u001b[0mnp\u001b[0m\u001b[0;34m.\u001b[0m\u001b[0mexp\u001b[0m\u001b[0;34m(\u001b[0m\u001b[0msed_res_data\u001b[0m\u001b[0;34m[\u001b[0m\u001b[0;34m'ln(Md [kg/m2/sr])'\u001b[0m\u001b[0;34m]\u001b[0m\u001b[0;34m.\u001b[0m\u001b[0mvalues\u001b[0m\u001b[0;34m)\u001b[0m       \u001b[0;34m*\u001b[0m \u001b[0msed_res_data\u001b[0m\u001b[0;34m[\u001b[0m\u001b[0;34m'qPAH'\u001b[0m\u001b[0;34m]\u001b[0m\u001b[0;34m.\u001b[0m\u001b[0mvalues\u001b[0m\u001b[0;34m\u001b[0m\u001b[0m\n\u001b[0;32m---> 56\u001b[0;31m \u001b[0mdmass\u001b[0m\u001b[0;34m.\u001b[0m\u001b[0mcopy\u001b[0m\u001b[0;34m(\u001b[0m\u001b[0;34m)\u001b[0m\u001b[0;34m\u001b[0m\u001b[0m\n\u001b[0m\u001b[1;32m     57\u001b[0m \u001b[0myerr\u001b[0m \u001b[0;34m=\u001b[0m \u001b[0msres_ame_err\u001b[0m\u001b[0;34m.\u001b[0m\u001b[0mcopy\u001b[0m\u001b[0;34m(\u001b[0m\u001b[0;34m)\u001b[0m\u001b[0;34m\u001b[0m\u001b[0m\n\u001b[1;32m     58\u001b[0m \u001b[0mxerr\u001b[0m \u001b[0;34m=\u001b[0m \u001b[0mnp\u001b[0m\u001b[0;34m.\u001b[0m\u001b[0mexp\u001b[0m\u001b[0;34m(\u001b[0m\u001b[0msed_res_data\u001b[0m\u001b[0;34m[\u001b[0m\u001b[0;34m'sigma(ln(Md))'\u001b[0m\u001b[0;34m]\u001b[0m\u001b[0;34m.\u001b[0m\u001b[0mvalues\u001b[0m\u001b[0;34m)\u001b[0m\u001b[0;34m*\u001b[0m\u001b[0mX_\u001b[0m\u001b[0;34m*\u001b[0m\u001b[0msed_res_data\u001b[0m\u001b[0;34m[\u001b[0m\u001b[0;34m'qPAH'\u001b[0m\u001b[0;34m]\u001b[0m\u001b[0;34m.\u001b[0m\u001b[0mvalues\u001b[0m\u001b[0;34m\u001b[0m\u001b[0m\n",
      "\u001b[0;31mNameError\u001b[0m: name 'dmass' is not defined"
     ]
    }
   ],
   "source": [
    "\n",
    "\n",
    "def pltAMEvsDust(X_, Y_, subset_hs, subset_ls, xlabel, ylabel,yerr,xerr=None,xmin=None, logy=True,logx=True, ftitle=\"RegPlot.pdf\"):\n",
    "    \n",
    "    \n",
    "    ## Force background color to be white:\n",
    "    ### Note that seaborn plotting functions my override these settings.\n",
    "    plt.rcParams['axes.facecolor']='white'\n",
    "    plt.rcParams['figure.facecolor']='white'\n",
    "    plt.rcParams['savefig.facecolor']='white'\n",
    "    \n",
    "    fig,ax = plt.subplots()\n",
    "    \n",
    "    ax.set_ylabel(ylabel, fontsize=20)\n",
    "    ax.set_xlabel(xlabel, fontsize=20)\n",
    "    \n",
    "    if xmin is None:\n",
    "        ax.set_xlim((X_.min(), X_.max()))\n",
    "    else: \n",
    "        ax.set_xlim((xmin, X_.max()))\n",
    "        \n",
    "    \n",
    "    ax = sns.regplot(x=X_[subset_hs], y= Y_[subset_hs], ci=95, fit_reg=True, robust=True, n_boot=50,  label=\"High AME$\\sigma$\")\n",
    "    ax = sns.regplot(x=X_[subset_ls], y= Y_[subset_ls], ci=95, fit_reg=True, robust=True, n_boot=50,  label=\"Low AME$\\sigma$\")\n",
    "    if xerr is None:\n",
    "        ax.errorbar(X_[subset_hs], Y_[subset_hs], yerr=yerr[subset_hs], fmt='.',ecolor='b')\n",
    "        ax.errorbar(X_[subset_ls], Y_[subset_ls], yerr=yerr[subset_ls], fmt='.',ecolor='g')\n",
    "    else:\n",
    "        ax.errorbar(X_[subset_hs], Y_[subset_hs], yerr=yerr[subset_hs], xerr=xerr[subset_hs],fmt='.',ecolor='b')\n",
    "        ax.errorbar(X_[subset_ls], Y_[subset_ls], yerr=yerr[subset_ls], xerr=xerr[subset_ls],fmt='.',ecolor='g')\n",
    "        \n",
    "    if logx == True:\n",
    "        ax.set_xscale('log')\n",
    "\n",
    "    if logy == True:\n",
    "        ax.set_yscale('log')\n",
    "\n",
    "    #ax.set_ylim([0,100])\n",
    "    ax.legend(fontsize=16)\n",
    "    \n",
    "    fig.savefig(\"../Plots/\"+ftitle)\n",
    "    \n",
    "    \n",
    "### Subsets separating \"Highly Significant\" AME from \"Low/Non-significant\" AME\n",
    "subset_hs = (\n",
    "    \n",
    "    (sig_ame     > 5.000)   & \n",
    "    (f_uch       <= 0.25)    #& \n",
    "\n",
    "    )\n",
    "\n",
    "subset_ls = (subset_hs == False)\n",
    "\n",
    "Y_   = sres_ame.copy()\n",
    "X_   = np.exp(sed_res_data['ln(Md [kg/m2/sr])'].values) \\\n",
    "      * sed_res_data['qPAH'].values\n",
    "dmass.copy()\n",
    "yerr = sres_ame_err.copy()\n",
    "xerr = np.exp(sed_res_data['sigma(ln(Md))'].values)*X_*sed_res_data['qPAH'].values\n",
    "\n",
    "ylabel = \"Residual 28.4~GHz Flux\"\n",
    "xlabel = \"PAH Mass [kg/m2/sr]\"\n",
    "\n",
    "pltAMEvsDust(X_,\n",
    "             Y_,\n",
    "             subset_hs,\n",
    "             subset_ls,\n",
    "             xlabel,\n",
    "             ylabel,\n",
    "             yerr,\n",
    "             xerr=xerr,\n",
    "             logx=True,\n",
    "             ftitle=\"RegsAMEvsPAHMass.pdf\")"
   ]
  },
  {
   "cell_type": "code",
   "execution_count": 7,
   "metadata": {},
   "outputs": [
    {
     "ename": "NameError",
     "evalue": "name 'ylabel' is not defined",
     "output_type": "error",
     "traceback": [
      "\u001b[0;31m---------------------------------------------------------------------------\u001b[0m",
      "\u001b[0;31mNameError\u001b[0m                                 Traceback (most recent call last)",
      "\u001b[0;32m<ipython-input-7-a7b2cc03a39f>\u001b[0m in \u001b[0;36m<module>\u001b[0;34m()\u001b[0m\n\u001b[1;32m     10\u001b[0m              \u001b[0msubset_ls\u001b[0m\u001b[0;34m,\u001b[0m\u001b[0;34m\u001b[0m\u001b[0m\n\u001b[1;32m     11\u001b[0m              \u001b[0mxlabel\u001b[0m\u001b[0;34m,\u001b[0m\u001b[0;34m\u001b[0m\u001b[0m\n\u001b[0;32m---> 12\u001b[0;31m              \u001b[0mylabel\u001b[0m\u001b[0;34m,\u001b[0m\u001b[0;34m\u001b[0m\u001b[0m\n\u001b[0m\u001b[1;32m     13\u001b[0m              \u001b[0myerr\u001b[0m\u001b[0;34m,\u001b[0m\u001b[0;34m\u001b[0m\u001b[0m\n\u001b[1;32m     14\u001b[0m              \u001b[0mxerr\u001b[0m\u001b[0;34m=\u001b[0m\u001b[0mxerr\u001b[0m\u001b[0;34m,\u001b[0m\u001b[0;34m\u001b[0m\u001b[0m\n",
      "\u001b[0;31mNameError\u001b[0m: name 'ylabel' is not defined"
     ]
    }
   ],
   "source": [
    "X_ = np.exp(sed_res_data['ln(Md [kg/m2/sr])'].values)\n",
    "Y_   = sres_ame.copy()\n",
    "xlabel = \"Dust Mass [kg/m2/sr]\"\n",
    "\n",
    "xerr = sed_res_data['sigma(ln(Md))']*X_\n",
    "yerr = sres_ame_err.copy()\n",
    "pltAMEvsDust(X_, \n",
    "             Y_, \n",
    "             subset_hs, \n",
    "             subset_ls, \n",
    "             xlabel, \n",
    "             ylabel, \n",
    "             yerr,\n",
    "             xerr=xerr,\n",
    "             ftitle=\"RegsAMEvsDustMass.pdf\")"
   ]
  },
  {
   "cell_type": "code",
   "execution_count": 8,
   "metadata": {},
   "outputs": [
    {
     "ename": "NameError",
     "evalue": "name 'ylabel' is not defined",
     "output_type": "error",
     "traceback": [
      "\u001b[0;31m---------------------------------------------------------------------------\u001b[0m",
      "\u001b[0;31mNameError\u001b[0m                                 Traceback (most recent call last)",
      "\u001b[0;32m<ipython-input-8-4bf123fb6428>\u001b[0m in \u001b[0;36m<module>\u001b[0;34m()\u001b[0m\n\u001b[1;32m     10\u001b[0m              \u001b[0msubset_ls\u001b[0m\u001b[0;34m,\u001b[0m\u001b[0;34m\u001b[0m\u001b[0m\n\u001b[1;32m     11\u001b[0m              \u001b[0mxlabel\u001b[0m\u001b[0;34m,\u001b[0m\u001b[0;34m\u001b[0m\u001b[0m\n\u001b[0;32m---> 12\u001b[0;31m              \u001b[0mylabel\u001b[0m\u001b[0;34m,\u001b[0m\u001b[0;34m\u001b[0m\u001b[0m\n\u001b[0m\u001b[1;32m     13\u001b[0m              \u001b[0myerr\u001b[0m\u001b[0;34m,\u001b[0m\u001b[0;34m\u001b[0m\u001b[0m\n\u001b[1;32m     14\u001b[0m              \u001b[0mxmin\u001b[0m \u001b[0;34m=\u001b[0m \u001b[0;36m0.02\u001b[0m\u001b[0;34m,\u001b[0m\u001b[0;34m\u001b[0m\u001b[0m\n",
      "\u001b[0;31mNameError\u001b[0m: name 'ylabel' is not defined"
     ]
    }
   ],
   "source": [
    "X_ = sed_res_data['qPAH'].values\n",
    "Y_   = sres_ame.copy()\n",
    "xlabel = \"PAH Fraction\"\n",
    "xerr = sed_res_data['sigma(qPAH)'].values\n",
    "yerr = sres_ame_err.copy()\n",
    "\n",
    "pltAMEvsDust(X_, \n",
    "             Y_, \n",
    "             subset_hs, \n",
    "             subset_ls, \n",
    "             xlabel, \n",
    "             ylabel, \n",
    "             yerr,\n",
    "             xmin = 0.02, \n",
    "             ftitle=\"RegsAMEvsqPAH.pdf\")"
   ]
  },
  {
   "cell_type": "code",
   "execution_count": 9,
   "metadata": {},
   "outputs": [
    {
     "name": "stderr",
     "output_type": "stream",
     "text": [
      "/usr/local/lib/python2.7/dist-packages/statsmodels/genmod/families/family.py:894: RuntimeWarning: invalid value encountered in log\n",
      "  return -2 * np.sum((one * np.log(mu + 1e-200) + (1-one) *\n",
      "/usr/local/lib/python2.7/dist-packages/statsmodels/genmod/families/family.py:895: RuntimeWarning: invalid value encountered in log\n",
      "  np.log(1 - mu + 1e-200)) * freq_weights)\n"
     ]
    },
    {
     "ename": "ValueError",
     "evalue": "The first guess on the deviance function returned a nan.  This could be a boundary  problem and should be reported.",
     "output_type": "error",
     "traceback": [
      "\u001b[0;31m---------------------------------------------------------------------------\u001b[0m",
      "\u001b[0;31mValueError\u001b[0m                                Traceback (most recent call last)",
      "\u001b[0;32m<ipython-input-9-6b562185d744>\u001b[0m in \u001b[0;36m<module>\u001b[0;34m()\u001b[0m\n\u001b[0;32m----> 1\u001b[0;31m \u001b[0msns\u001b[0m\u001b[0;34m.\u001b[0m\u001b[0mregplot\u001b[0m\u001b[0;34m(\u001b[0m\u001b[0mx\u001b[0m\u001b[0;34m=\u001b[0m\u001b[0mnp\u001b[0m\u001b[0;34m.\u001b[0m\u001b[0mlog\u001b[0m\u001b[0;34m(\u001b[0m\u001b[0mX_\u001b[0m\u001b[0;34m)\u001b[0m\u001b[0;34m,\u001b[0m \u001b[0my\u001b[0m\u001b[0;34m=\u001b[0m \u001b[0mnp\u001b[0m\u001b[0;34m.\u001b[0m\u001b[0mlog\u001b[0m\u001b[0;34m(\u001b[0m\u001b[0mY_\u001b[0m\u001b[0;34m)\u001b[0m\u001b[0;34m,\u001b[0m \u001b[0mlogistic\u001b[0m\u001b[0;34m=\u001b[0m\u001b[0mTrue\u001b[0m\u001b[0;34m,\u001b[0m \u001b[0mn_boot\u001b[0m\u001b[0;34m=\u001b[0m\u001b[0;36m50\u001b[0m\u001b[0;34m)\u001b[0m\u001b[0;34m\u001b[0m\u001b[0m\n\u001b[0m",
      "\u001b[0;32m/usr/local/lib/python2.7/dist-packages/seaborn/linearmodels.pyc\u001b[0m in \u001b[0;36mregplot\u001b[0;34m(x, y, data, x_estimator, x_bins, x_ci, scatter, fit_reg, ci, n_boot, units, order, logistic, lowess, robust, logx, x_partial, y_partial, truncate, dropna, x_jitter, y_jitter, label, color, marker, scatter_kws, line_kws, ax)\u001b[0m\n\u001b[1;32m    777\u001b[0m     \u001b[0mscatter_kws\u001b[0m\u001b[0;34m[\u001b[0m\u001b[0;34m\"marker\"\u001b[0m\u001b[0;34m]\u001b[0m \u001b[0;34m=\u001b[0m \u001b[0mmarker\u001b[0m\u001b[0;34m\u001b[0m\u001b[0m\n\u001b[1;32m    778\u001b[0m     \u001b[0mline_kws\u001b[0m \u001b[0;34m=\u001b[0m \u001b[0;34m{\u001b[0m\u001b[0;34m}\u001b[0m \u001b[0;32mif\u001b[0m \u001b[0mline_kws\u001b[0m \u001b[0;32mis\u001b[0m \u001b[0mNone\u001b[0m \u001b[0;32melse\u001b[0m \u001b[0mcopy\u001b[0m\u001b[0;34m.\u001b[0m\u001b[0mcopy\u001b[0m\u001b[0;34m(\u001b[0m\u001b[0mline_kws\u001b[0m\u001b[0;34m)\u001b[0m\u001b[0;34m\u001b[0m\u001b[0m\n\u001b[0;32m--> 779\u001b[0;31m     \u001b[0mplotter\u001b[0m\u001b[0;34m.\u001b[0m\u001b[0mplot\u001b[0m\u001b[0;34m(\u001b[0m\u001b[0max\u001b[0m\u001b[0;34m,\u001b[0m \u001b[0mscatter_kws\u001b[0m\u001b[0;34m,\u001b[0m \u001b[0mline_kws\u001b[0m\u001b[0;34m)\u001b[0m\u001b[0;34m\u001b[0m\u001b[0m\n\u001b[0m\u001b[1;32m    780\u001b[0m     \u001b[0;32mreturn\u001b[0m \u001b[0max\u001b[0m\u001b[0;34m\u001b[0m\u001b[0m\n\u001b[1;32m    781\u001b[0m \u001b[0;34m\u001b[0m\u001b[0m\n",
      "\u001b[0;32m/usr/local/lib/python2.7/dist-packages/seaborn/linearmodels.pyc\u001b[0m in \u001b[0;36mplot\u001b[0;34m(self, ax, scatter_kws, line_kws)\u001b[0m\n\u001b[1;32m    330\u001b[0m             \u001b[0mself\u001b[0m\u001b[0;34m.\u001b[0m\u001b[0mscatterplot\u001b[0m\u001b[0;34m(\u001b[0m\u001b[0max\u001b[0m\u001b[0;34m,\u001b[0m \u001b[0mscatter_kws\u001b[0m\u001b[0;34m)\u001b[0m\u001b[0;34m\u001b[0m\u001b[0m\n\u001b[1;32m    331\u001b[0m         \u001b[0;32mif\u001b[0m \u001b[0mself\u001b[0m\u001b[0;34m.\u001b[0m\u001b[0mfit_reg\u001b[0m\u001b[0;34m:\u001b[0m\u001b[0;34m\u001b[0m\u001b[0m\n\u001b[0;32m--> 332\u001b[0;31m             \u001b[0mself\u001b[0m\u001b[0;34m.\u001b[0m\u001b[0mlineplot\u001b[0m\u001b[0;34m(\u001b[0m\u001b[0max\u001b[0m\u001b[0;34m,\u001b[0m \u001b[0mline_kws\u001b[0m\u001b[0;34m)\u001b[0m\u001b[0;34m\u001b[0m\u001b[0m\n\u001b[0m\u001b[1;32m    333\u001b[0m \u001b[0;34m\u001b[0m\u001b[0m\n\u001b[1;32m    334\u001b[0m         \u001b[0;31m# Label the axes\u001b[0m\u001b[0;34m\u001b[0m\u001b[0;34m\u001b[0m\u001b[0m\n",
      "\u001b[0;32m/usr/local/lib/python2.7/dist-packages/seaborn/linearmodels.pyc\u001b[0m in \u001b[0;36mlineplot\u001b[0;34m(self, ax, kws)\u001b[0m\n\u001b[1;32m    375\u001b[0m \u001b[0;34m\u001b[0m\u001b[0m\n\u001b[1;32m    376\u001b[0m         \u001b[0;31m# Fit the regression model\u001b[0m\u001b[0;34m\u001b[0m\u001b[0;34m\u001b[0m\u001b[0m\n\u001b[0;32m--> 377\u001b[0;31m         \u001b[0mgrid\u001b[0m\u001b[0;34m,\u001b[0m \u001b[0myhat\u001b[0m\u001b[0;34m,\u001b[0m \u001b[0merr_bands\u001b[0m \u001b[0;34m=\u001b[0m \u001b[0mself\u001b[0m\u001b[0;34m.\u001b[0m\u001b[0mfit_regression\u001b[0m\u001b[0;34m(\u001b[0m\u001b[0max\u001b[0m\u001b[0;34m)\u001b[0m\u001b[0;34m\u001b[0m\u001b[0m\n\u001b[0m\u001b[1;32m    378\u001b[0m \u001b[0;34m\u001b[0m\u001b[0m\n\u001b[1;32m    379\u001b[0m         \u001b[0;31m# Get set default aesthetics\u001b[0m\u001b[0;34m\u001b[0m\u001b[0;34m\u001b[0m\u001b[0m\n",
      "\u001b[0;32m/usr/local/lib/python2.7/dist-packages/seaborn/linearmodels.pyc\u001b[0m in \u001b[0;36mfit_regression\u001b[0;34m(self, ax, x_range, grid)\u001b[0m\n\u001b[1;32m    197\u001b[0m             \u001b[0;32mfrom\u001b[0m \u001b[0mstatsmodels\u001b[0m\u001b[0;34m.\u001b[0m\u001b[0mgenmod\u001b[0m\u001b[0;34m.\u001b[0m\u001b[0mfamilies\u001b[0m \u001b[0;32mimport\u001b[0m \u001b[0mBinomial\u001b[0m\u001b[0;34m\u001b[0m\u001b[0m\n\u001b[1;32m    198\u001b[0m             yhat, yhat_boots = self.fit_statsmodels(grid, GLM,\n\u001b[0;32m--> 199\u001b[0;31m                                                     family=Binomial())\n\u001b[0m\u001b[1;32m    200\u001b[0m         \u001b[0;32melif\u001b[0m \u001b[0mself\u001b[0m\u001b[0;34m.\u001b[0m\u001b[0mlowess\u001b[0m\u001b[0;34m:\u001b[0m\u001b[0;34m\u001b[0m\u001b[0m\n\u001b[1;32m    201\u001b[0m             \u001b[0mci\u001b[0m \u001b[0;34m=\u001b[0m \u001b[0mNone\u001b[0m\u001b[0;34m\u001b[0m\u001b[0m\n",
      "\u001b[0;32m/usr/local/lib/python2.7/dist-packages/seaborn/linearmodels.pyc\u001b[0m in \u001b[0;36mfit_statsmodels\u001b[0;34m(self, grid, model, **kwargs)\u001b[0m\n\u001b[1;32m    248\u001b[0m         \u001b[0mgrid\u001b[0m \u001b[0;34m=\u001b[0m \u001b[0mnp\u001b[0m\u001b[0;34m.\u001b[0m\u001b[0mc_\u001b[0m\u001b[0;34m[\u001b[0m\u001b[0mnp\u001b[0m\u001b[0;34m.\u001b[0m\u001b[0mones\u001b[0m\u001b[0;34m(\u001b[0m\u001b[0mlen\u001b[0m\u001b[0;34m(\u001b[0m\u001b[0mgrid\u001b[0m\u001b[0;34m)\u001b[0m\u001b[0;34m)\u001b[0m\u001b[0;34m,\u001b[0m \u001b[0mgrid\u001b[0m\u001b[0;34m]\u001b[0m\u001b[0;34m\u001b[0m\u001b[0m\n\u001b[1;32m    249\u001b[0m         \u001b[0mreg_func\u001b[0m \u001b[0;34m=\u001b[0m \u001b[0;32mlambda\u001b[0m \u001b[0m_x\u001b[0m\u001b[0;34m,\u001b[0m \u001b[0m_y\u001b[0m\u001b[0;34m:\u001b[0m \u001b[0mmodel\u001b[0m\u001b[0;34m(\u001b[0m\u001b[0m_y\u001b[0m\u001b[0;34m,\u001b[0m \u001b[0m_x\u001b[0m\u001b[0;34m,\u001b[0m \u001b[0;34m**\u001b[0m\u001b[0mkwargs\u001b[0m\u001b[0;34m)\u001b[0m\u001b[0;34m.\u001b[0m\u001b[0mfit\u001b[0m\u001b[0;34m(\u001b[0m\u001b[0;34m)\u001b[0m\u001b[0;34m.\u001b[0m\u001b[0mpredict\u001b[0m\u001b[0;34m(\u001b[0m\u001b[0mgrid\u001b[0m\u001b[0;34m)\u001b[0m\u001b[0;34m\u001b[0m\u001b[0m\n\u001b[0;32m--> 250\u001b[0;31m         \u001b[0myhat\u001b[0m \u001b[0;34m=\u001b[0m \u001b[0mreg_func\u001b[0m\u001b[0;34m(\u001b[0m\u001b[0mX\u001b[0m\u001b[0;34m,\u001b[0m \u001b[0my\u001b[0m\u001b[0;34m)\u001b[0m\u001b[0;34m\u001b[0m\u001b[0m\n\u001b[0m\u001b[1;32m    251\u001b[0m         \u001b[0;32mif\u001b[0m \u001b[0mself\u001b[0m\u001b[0;34m.\u001b[0m\u001b[0mci\u001b[0m \u001b[0;32mis\u001b[0m \u001b[0mNone\u001b[0m\u001b[0;34m:\u001b[0m\u001b[0;34m\u001b[0m\u001b[0m\n\u001b[1;32m    252\u001b[0m             \u001b[0;32mreturn\u001b[0m \u001b[0myhat\u001b[0m\u001b[0;34m,\u001b[0m \u001b[0mNone\u001b[0m\u001b[0;34m\u001b[0m\u001b[0m\n",
      "\u001b[0;32m/usr/local/lib/python2.7/dist-packages/seaborn/linearmodels.pyc\u001b[0m in \u001b[0;36m<lambda>\u001b[0;34m(_x, _y)\u001b[0m\n\u001b[1;32m    247\u001b[0m         \u001b[0mX\u001b[0m\u001b[0;34m,\u001b[0m \u001b[0my\u001b[0m \u001b[0;34m=\u001b[0m \u001b[0mnp\u001b[0m\u001b[0;34m.\u001b[0m\u001b[0mc_\u001b[0m\u001b[0;34m[\u001b[0m\u001b[0mnp\u001b[0m\u001b[0;34m.\u001b[0m\u001b[0mones\u001b[0m\u001b[0;34m(\u001b[0m\u001b[0mlen\u001b[0m\u001b[0;34m(\u001b[0m\u001b[0mself\u001b[0m\u001b[0;34m.\u001b[0m\u001b[0mx\u001b[0m\u001b[0;34m)\u001b[0m\u001b[0;34m)\u001b[0m\u001b[0;34m,\u001b[0m \u001b[0mself\u001b[0m\u001b[0;34m.\u001b[0m\u001b[0mx\u001b[0m\u001b[0;34m]\u001b[0m\u001b[0;34m,\u001b[0m \u001b[0mself\u001b[0m\u001b[0;34m.\u001b[0m\u001b[0my\u001b[0m\u001b[0;34m\u001b[0m\u001b[0m\n\u001b[1;32m    248\u001b[0m         \u001b[0mgrid\u001b[0m \u001b[0;34m=\u001b[0m \u001b[0mnp\u001b[0m\u001b[0;34m.\u001b[0m\u001b[0mc_\u001b[0m\u001b[0;34m[\u001b[0m\u001b[0mnp\u001b[0m\u001b[0;34m.\u001b[0m\u001b[0mones\u001b[0m\u001b[0;34m(\u001b[0m\u001b[0mlen\u001b[0m\u001b[0;34m(\u001b[0m\u001b[0mgrid\u001b[0m\u001b[0;34m)\u001b[0m\u001b[0;34m)\u001b[0m\u001b[0;34m,\u001b[0m \u001b[0mgrid\u001b[0m\u001b[0;34m]\u001b[0m\u001b[0;34m\u001b[0m\u001b[0m\n\u001b[0;32m--> 249\u001b[0;31m         \u001b[0mreg_func\u001b[0m \u001b[0;34m=\u001b[0m \u001b[0;32mlambda\u001b[0m \u001b[0m_x\u001b[0m\u001b[0;34m,\u001b[0m \u001b[0m_y\u001b[0m\u001b[0;34m:\u001b[0m \u001b[0mmodel\u001b[0m\u001b[0;34m(\u001b[0m\u001b[0m_y\u001b[0m\u001b[0;34m,\u001b[0m \u001b[0m_x\u001b[0m\u001b[0;34m,\u001b[0m \u001b[0;34m**\u001b[0m\u001b[0mkwargs\u001b[0m\u001b[0;34m)\u001b[0m\u001b[0;34m.\u001b[0m\u001b[0mfit\u001b[0m\u001b[0;34m(\u001b[0m\u001b[0;34m)\u001b[0m\u001b[0;34m.\u001b[0m\u001b[0mpredict\u001b[0m\u001b[0;34m(\u001b[0m\u001b[0mgrid\u001b[0m\u001b[0;34m)\u001b[0m\u001b[0;34m\u001b[0m\u001b[0m\n\u001b[0m\u001b[1;32m    250\u001b[0m         \u001b[0myhat\u001b[0m \u001b[0;34m=\u001b[0m \u001b[0mreg_func\u001b[0m\u001b[0;34m(\u001b[0m\u001b[0mX\u001b[0m\u001b[0;34m,\u001b[0m \u001b[0my\u001b[0m\u001b[0;34m)\u001b[0m\u001b[0;34m\u001b[0m\u001b[0m\n\u001b[1;32m    251\u001b[0m         \u001b[0;32mif\u001b[0m \u001b[0mself\u001b[0m\u001b[0;34m.\u001b[0m\u001b[0mci\u001b[0m \u001b[0;32mis\u001b[0m \u001b[0mNone\u001b[0m\u001b[0;34m:\u001b[0m\u001b[0;34m\u001b[0m\u001b[0m\n",
      "\u001b[0;32m/usr/local/lib/python2.7/dist-packages/statsmodels/genmod/generalized_linear_model.pyc\u001b[0m in \u001b[0;36mfit\u001b[0;34m(self, start_params, maxiter, method, tol, scale, cov_type, cov_kwds, use_t, full_output, disp, max_start_irls, **kwargs)\u001b[0m\n\u001b[1;32m    901\u001b[0m             return self._fit_irls(start_params=start_params, maxiter=maxiter,\n\u001b[1;32m    902\u001b[0m                                   \u001b[0mtol\u001b[0m\u001b[0;34m=\u001b[0m\u001b[0mtol\u001b[0m\u001b[0;34m,\u001b[0m \u001b[0mscale\u001b[0m\u001b[0;34m=\u001b[0m\u001b[0mscale\u001b[0m\u001b[0;34m,\u001b[0m \u001b[0mcov_type\u001b[0m\u001b[0;34m=\u001b[0m\u001b[0mcov_type\u001b[0m\u001b[0;34m,\u001b[0m\u001b[0;34m\u001b[0m\u001b[0m\n\u001b[0;32m--> 903\u001b[0;31m                                   cov_kwds=cov_kwds, use_t=use_t, **kwargs)\n\u001b[0m\u001b[1;32m    904\u001b[0m         \u001b[0;32melse\u001b[0m\u001b[0;34m:\u001b[0m\u001b[0;34m\u001b[0m\u001b[0m\n\u001b[1;32m    905\u001b[0m             return self._fit_gradient(start_params=start_params,\n",
      "\u001b[0;32m/usr/local/lib/python2.7/dist-packages/statsmodels/genmod/generalized_linear_model.pyc\u001b[0m in \u001b[0;36m_fit_irls\u001b[0;34m(self, start_params, maxiter, tol, scale, cov_type, cov_kwds, use_t, **kwargs)\u001b[0m\n\u001b[1;32m    977\u001b[0m         \u001b[0mdev\u001b[0m \u001b[0;34m=\u001b[0m \u001b[0mself\u001b[0m\u001b[0;34m.\u001b[0m\u001b[0mfamily\u001b[0m\u001b[0;34m.\u001b[0m\u001b[0mdeviance\u001b[0m\u001b[0;34m(\u001b[0m\u001b[0mself\u001b[0m\u001b[0;34m.\u001b[0m\u001b[0mendog\u001b[0m\u001b[0;34m,\u001b[0m \u001b[0mmu\u001b[0m\u001b[0;34m,\u001b[0m \u001b[0mself\u001b[0m\u001b[0;34m.\u001b[0m\u001b[0mfreq_weights\u001b[0m\u001b[0;34m)\u001b[0m\u001b[0;34m\u001b[0m\u001b[0m\n\u001b[1;32m    978\u001b[0m         \u001b[0;32mif\u001b[0m \u001b[0mnp\u001b[0m\u001b[0;34m.\u001b[0m\u001b[0misnan\u001b[0m\u001b[0;34m(\u001b[0m\u001b[0mdev\u001b[0m\u001b[0;34m)\u001b[0m\u001b[0;34m:\u001b[0m\u001b[0;34m\u001b[0m\u001b[0m\n\u001b[0;32m--> 979\u001b[0;31m             raise ValueError(\"The first guess on the deviance function \"\n\u001b[0m\u001b[1;32m    980\u001b[0m                              \u001b[0;34m\"returned a nan.  This could be a boundary \"\u001b[0m\u001b[0;34m\u001b[0m\u001b[0m\n\u001b[1;32m    981\u001b[0m                              \" problem and should be reported.\")\n",
      "\u001b[0;31mValueError\u001b[0m: The first guess on the deviance function returned a nan.  This could be a boundary  problem and should be reported."
     ]
    },
    {
     "data": {
      "image/png": "[encoded data removed]",
      "text/plain": [
       "<matplotlib.figure.Figure at 0x7fa89c3bbcd0>"
      ]
     },
     "metadata": {},
     "output_type": "display_data"
    }
   ],
   "source": [
    "sns.regplot(x=np.log(X_), y= np.log(Y_), logistic=True, n_boot=50)"
   ]
  },
  {
   "cell_type": "code",
   "execution_count": 10,
   "metadata": {},
   "outputs": [
    {
     "data": {
      "image/png": "[encoded data removed]",
      "text/plain": [
       "<matplotlib.figure.Figure at 0x7fa899d75450>"
      ]
     },
     "metadata": {},
     "output_type": "display_data"
    }
   ],
   "source": [
    "Y_ = np.exp(sed_res_data['ln(Md [kg/m2/sr])'].values)\n",
    "ylabel = \"Dust Mass [kg/m2/sr]\"\n",
    "\n",
    "X_ = sed_res_data['qPAH'].values\n",
    "xlabel = \"PAH Fraction\"\n",
    "\n",
    "yerr = sed_res_data['sigma(ln(Md))'].values*Y_\n",
    "xerr = sed_res_data['sigma(qPAH)'].values\n",
    "\n",
    "pltAMEvsDust(\n",
    "    X_, \n",
    "    Y_, \n",
    "    subset_hs, \n",
    "    subset_ls, \n",
    "    xlabel, \n",
    "    ylabel,\n",
    "    yerr=yerr,\n",
    "    xerr=xerr,\n",
    "    logy=True, \n",
    "    logx=False,\n",
    "    xmin=0.01,\n",
    "    ftitle=\"RegsDustMassvsqPAH.pdf\")"
   ]
  },
  {
   "cell_type": "code",
   "execution_count": 11,
   "metadata": {},
   "outputs": [
    {
     "data": {
      "image/png": "[encoded data removed]",
      "text/plain": [
       "<matplotlib.figure.Figure at 0x7fa89c66f2d0>"
      ]
     },
     "metadata": {},
     "output_type": "display_data"
    }
   ],
   "source": [
    "Y_     = np.exp(sed_res_data['ln(<U> [Habings])'].values)\n",
    "ylabel = 'U [Habings]'\n",
    "\n",
    "X_     = sed_res_data['qPAH'].values\n",
    "xlabel = \"PAH Fraction\"\n",
    "xmin = 0.01\n",
    "\n",
    "# yerr_exp = sed_res_data['sigma(ln(<U>))'].values\n",
    "# yerr_rel = yerr_exp / sed_res_data['ln(<U> [Habings])'].values\n",
    "# yerr_lin = np.exp(sed_res_data['ln(<U> [Habings])'].values)*yerr_rel\n",
    "yerr = np.exp(sed_res_data['sigma(ln(<U>))'].values)\n",
    "\n",
    "pltAMEvsDust(X_, \n",
    "             Y_, \n",
    "             subset_hs, \n",
    "             subset_ls, \n",
    "             xlabel, \n",
    "             ylabel,\n",
    "             yerr=yerr,\n",
    "             xerr=xerr,\n",
    "             xmin=xmin,\n",
    "             logy=True, \n",
    "             logx=False, \n",
    "             ftitle=\"RegsUvsqPAH.pdf\")"
   ]
  },
  {
   "cell_type": "markdown",
   "metadata": {},
   "source": [
    "## Experimenting with a boostrap test (Per Doi-san's advice')"
   ]
  },
  {
   "cell_type": "code",
   "execution_count": 30,
   "metadata": {
    "collapsed": true
   },
   "outputs": [],
   "source": [
    "import numpy.random as npr\n",
    "\n",
    "def bootstrap(data_x, \n",
    "              data_y, \n",
    "              num_samples, \n",
    "              num_subsamples, \n",
    "              kind='Spearman'):\n",
    "    \n",
    "    from scipy import stats\n",
    "    \n",
    "    #\"\"\"Returns bootstrap estimate of 100.0*(1-alpha) CI for statistic.\"\"\"\n",
    "    \n",
    "    n = len(data_x)\n",
    "\n",
    "    \n",
    "    corr_coeff_array = np.ones(num_samples)\n",
    "    \n",
    "    if kind == 'Spearman':\n",
    "    \n",
    "        for i in range(0,num_samples):\n",
    "            idx = npr.randint(0, n, (num_subsamples))\n",
    "            samples_x = data_x[idx]\n",
    "            samples_y = data_y[idx]\n",
    "            stat_r, stat_p = scipy.stats.spearmanr(samples_x,samples_y, axis=0, nan_policy='omit' )\n",
    "            corr_coeff_array[i] = stat_r\n",
    "    \n",
    "    elif kind == 'Pearson':\n",
    "            \n",
    "        for i in range(0,num_samples):\n",
    "            idx = npr.randint(0, n, (num_subsamples))\n",
    "            samples_x = data_x[idx]\n",
    "            samples_y = data_y[idx]\n",
    "            stat_r, stat_p = scipy.stats.pearsonr(samples_x,samples_y,axis=0)\n",
    "            corr_coeff_array[i] = stat_r\n",
    "    \n",
    "    corr_coeff_array[np.isnan(corr_coeff_array)==False]\n",
    "\n",
    "    return corr_coeff_array\n",
    "\n",
    "\n",
    "\n",
    "def bootstrap_run(X1_data, \n",
    "                  X2_data, \n",
    "                  Y_data,\n",
    "                  kind='Pearson', \n",
    "                  iterations=10000, \n",
    "                  title=None, \n",
    "                  X1_label=None, \n",
    "                  X2_label=None,\n",
    "                  ftitle='Bootstrap' ):\n",
    "    \n",
    "        ## Force background color to be white:\n",
    "    ### Note that seaborn plotting functions my override these settings.\n",
    "    plt.rcParams['axes.facecolor']='white'\n",
    "    plt.rcParams['figure.facecolor']='white'\n",
    "    plt.rcParams['savefig.facecolor']='white'\n",
    "    \n",
    "    \n",
    "    corr_array_X1 = bootstrap(X1_data,Y_data, iterations, len(X1_data),kind=kind)\n",
    "\n",
    "    corr_array_X2 = bootstrap(X2_data,Y_data, iterations, len(X2_data), kind=kind)\n",
    "    \n",
    "    X1 = corr_array_X1\n",
    "    X2 = corr_array_X2\n",
    "    \n",
    "    X1 = X1[~np.isnan(X1)]\n",
    "    X2 = X2[~np.isnan(X2)]\n",
    "    \n",
    "    t, prob = scipy.stats.ttest_ind(X1,X2, axis=0, equal_var=True) #Equal_var=False for Welch's t-test\n",
    "    # make plots\n",
    "    \n",
    "    plt.figure(figsize=(6,6))\n",
    "\n",
    "    round_it = 2\n",
    "\n",
    "    bins = np.linspace(0.1, 1.0, 100)\n",
    "\n",
    "    plt.hist(X1, bins, alpha=0.5, color= 'r', label=X1_label +\" \"+ \n",
    "                                           str(round(np.nanmean(X1),round_it)) + \" +/- \" +  \n",
    "                                           str(round(np.nanstd(X1),round_it)) )\n",
    "    plt.hist(X2, bins, alpha=0.5, color= 'b', label=X2_label+\" \"+ \n",
    "                                           str(round(np.nanmean(X2),round_it)) + \" +/- \" +  \n",
    "                                           str(round(np.nanstd(X2),round_it))\n",
    "                                            + \"\\n\" + \"t-stat: \"+ \n",
    "                                                       str(round(t,1))+\", p-value: \"+   str(round(prob,5)))\n",
    "    plt.ylabel(\"Count\", fontsize=20)\n",
    "    plt.xlabel(\"$S$\", fontsize=20)\n",
    "    \n",
    "    #if X3_data:\n",
    "    #    corr_array_lOri_L = bootstrap(X3_data, Y_data, iterations, len(X3_data), kind=kind )\n",
    "    #    xL = corr_array_lOri_L\n",
    "        \n",
    "    #    pylab.hist(xL, bins, alpha=0.5, label=(\"Dust Luminosity vs. AME \\n R = \"+ str(round(np.nanmean(xL),round_it))) + \" +/- \" + str(round(np.nanstd(xL),round_it)))\n",
    "    \n",
    "    #corr_array_lOri_L = bootstrap(X3_data, Y_data, iterations, len(X3_data), kind=kind )\n",
    "    #xL = corr_array_lOri_L\n",
    "        \n",
    "    #pylab.hist(xL, bins, alpha=0.5, label=(\"Dust Luminosity vs. AME \\n R = \"+ str(round(np.nanmean(xL),round_it))) + \" +/- \" + str(round(np.nanstd(xL),round_it)))\n",
    "    \n",
    "    \n",
    "    #plt.title('Hist. of Bootstrapped '+kind+' Corr. Results')\n",
    "#     import datetime\n",
    "#     timestamp = datetime.datetime.now().strftime(\"%I:%M%p%B%d,%Y\")\n",
    "\n",
    "    \n",
    "    plt.legend(loc='upper left')\n",
    "    plt.savefig(\"../Plots/\"+ftitle)\n",
    "    plt.show()\n",
    "\n",
    "\n",
    "    "
   ]
  },
  {
   "cell_type": "code",
   "execution_count": 26,
   "metadata": {},
   "outputs": [
    {
     "name": "stdout",
     "output_type": "stream",
     "text": [
      "[False False False False False False False False False False False False\n",
      " False False False False False False False False False False False False\n",
      " False False False False]\n"
     ]
    }
   ],
   "source": [
    "print subset_ls[subset_ls==False]"
   ]
  },
  {
   "cell_type": "code",
   "execution_count": 27,
   "metadata": {},
   "outputs": [
    {
     "data": {
      "image/png": "[encoded data removed]",
      "text/plain": [
       "<matplotlib.figure.Figure at 0x7fa8996b5a50>"
      ]
     },
     "metadata": {},
     "output_type": "display_data"
    }
   ],
   "source": [
    "Y_data = sres_ame\n",
    "\n",
    "X1_data = np.exp(sed_res_data['ln(Md [kg/m2/sr])'].values)\n",
    "X2_data = X1_data*sed_res_data['qPAH'].values\n",
    "\n",
    "# Y_data = Y_data[subset_hs==True]\n",
    "# X1_data = X1_data[subset_hs==True]\n",
    "# X2_data = X2_data[subset_hs==True]\n",
    "\n",
    "\n",
    "    \n",
    "X1_label = \"$M_{dust}$ vs. AME \\n  $S$ = \"\n",
    "X2_label = \"$M_{PAH}$ vs. AME \\n   $S$ = \"\n",
    "\n",
    "ftitle =\"RegsAME_Bootstrap_MDustandMPAH.pdf\"\n",
    "\n",
    "iterations = 10000\n",
    "\n",
    "kind = 'Spearman'\n",
    "bootstrap_run(\n",
    "    X1_data, \n",
    "    X2_data, \n",
    "    Y_data, \n",
    "    kind=kind, \n",
    "    X1_label = X1_label, \n",
    "    X2_label = X2_label, \n",
    "    iterations=iterations, \n",
    "    ftitle=ftitle)\n",
    "\n"
   ]
  },
  {
   "cell_type": "markdown",
   "metadata": {},
   "source": [
    "## Calculate bootstrap results using PAH Luminosity ( not PAH Mass)"
   ]
  },
  {
   "cell_type": "code",
   "execution_count": 28,
   "metadata": {},
   "outputs": [
    {
     "data": {
      "image/png": "[encoded data removed]",
      "text/plain": [
       "<matplotlib.figure.Figure at 0x7fa89912f490>"
      ]
     },
     "metadata": {},
     "output_type": "display_data"
    }
   ],
   "source": [
    "Y_data = sres_ame\n",
    "\n",
    "X1_data = np.exp(sed_res_data['ln(<U> [Habings])'].values)*np.exp(sed_res_data['ln(Md [kg/m2/sr])'].values) \n",
    "X2_data = X1_data*sed_res_data['qPAH'].values \n",
    "    \n",
    "X1_label = \"$L_{dust}$. vs. AME \\n  $S$ = \"\n",
    "X2_label = \"$L_{PAH}$ vs. AME \\n   $S$ = \"\n",
    "\n",
    "ftitle =\"RegsAME_Bootstrap_LDustandLPAH.pdf\"\n",
    "\n",
    "iterations = 10000\n",
    "\n",
    "kind = 'Spearman'\n",
    "bootstrap_run(\n",
    "    X1_data, \n",
    "    X2_data, \n",
    "    Y_data, \n",
    "    kind=kind, \n",
    "    X1_label = X1_label, \n",
    "    X2_label = X2_label, \n",
    "    iterations=iterations, \n",
    "    ftitle=ftitle)\n",
    "\n"
   ]
  },
  {
   "cell_type": "markdown",
   "metadata": {},
   "source": [
    "# Make a Bootstrap code that incorporates the noises:"
   ]
  },
  {
   "cell_type": "code",
   "execution_count": null,
   "metadata": {
    "collapsed": true
   },
   "outputs": [],
   "source": [
    "import numpy.random as npr\n",
    "\n",
    "def noisyBootstrap(\n",
    "              data_x, \n",
    "              data_y,\n",
    "              noise_x,\n",
    "              noisy_y,\n",
    "              num_samples, \n",
    "              num_subsamples, \n",
    "              kind='Spearman',\n",
    "              iterations=1):\n",
    "    \n",
    "    from scipy import stats\n",
    "    \n",
    "    \"\"\"Returns bootstrap estimate of 100.0*(1-alpha) CI for statistic.\n",
    "    Ye be warned, this function assumes guassian noise\"\"\"\n",
    "    \n",
    "    n = len(data_x)\n",
    "\n",
    "    \n",
    "    corr_coeff_array = np.ones(num_samples)\n",
    "    \n",
    "    # Generate a whole set of random number in one go\n",
    "    # Basically, a vectorized alternative to doing it once per iteration\n",
    "    \n",
    "    pert_x = npr.normal(loc=0.0, scale = 1.0, size = (np.size(data_x),iterations))\n",
    "    pert_y = npr.normal(loc=0.0, scale = 1.0, size = (np.size(data_y),iterations))\n",
    "    \n",
    "    if kind == 'Spearmnpran':\n",
    "    \n",
    "        for i in range(0,num_samples):\n",
    "            \n",
    "\n",
    "            noisy_array        = data_map[hpixels] + sigma_map[hpixels]*img_random\n",
    "            samples_x = data_x[idx]\n",
    "            samples_y = data_y[idx]\n",
    "            stat_r, stat_p = scipy.stats.spearmanr(samples_x,samples_y, axis=0, nan_policy='omit' )\n",
    "            corr_coeff_array[i] = stat_r\n",
    "    \n",
    "    elif kind == 'Pearson':\n",
    "            \n",
    "        for i in range(0,num_samples):\n",
    "            idx = npr.randint(0, n, (num_subsamples))\n",
    "            samples_x = data_x[idx]\n",
    "            samples_y = data_y[idx]\n",
    "            stat_r, stat_p = scipy.stats.pearsonr(samples_x,samples_y,axis=0)\n",
    "            corr_coeff_array[i] = stat_r\n",
    "    \n",
    "    corr_coeff_array[np.isnan(corr_coeff_array)==False]\n",
    "\n",
    "    return corr_coeff_array\n",
    "\n",
    "\n",
    "\n",
    "def bootstrap_run(X1_data, \n",
    "                  X2_data, \n",
    "                  Y_data,\n",
    "                  kind='Pearson', \n",
    "                  iterations=10000, \n",
    "                  title=None, \n",
    "                  X1_label=None, \n",
    "                  X2_label=None,\n",
    "                  ftitle='Bootstrap' ):\n",
    "    \n",
    "        ## Force background color to be white:\n",
    "    ### Note that seaborn plotting functions my override these settings.\n",
    "    plt.rcParams['axes.facecolor']='white'\n",
    "    plt.rcParams['figure.facecolor']='white'\n",
    "    plt.rcParams['savefig.facecolor']='white'\n",
    "    \n",
    "    \n",
    "    corr_array_X1 = bootstrap(X1_data,Y_data, iterations, len(X1_data),kind=kind)\n",
    "\n",
    "    corr_array_X2 = bootstrap(X2_data,Y_data, iterations, len(X2_data), kind=kind)\n",
    "    \n",
    "    X1 = corr_array_X1\n",
    "    X2 = corr_array_X2\n",
    "    \n",
    "    X1 = X1[~np.isnan(X1)]\n",
    "    X2 = X2[~np.isnan(X2)]\n",
    "    \n",
    "    t, prob = scipy.stats.ttest_ind(X1,X2, axis=0, equal_var=True) #Equal_var=False for Welch's t-test\n",
    "    # make plots\n",
    "    \n",
    "    plt.figure(figsize=(6,6))\n",
    "\n",
    "    round_it = 2\n",
    "\n",
    "    bins = np.linspace(0.1, 1.0, 100)\n",
    "\n",
    "    plt.hist(X1, bins, alpha=0.5, color= 'r', label=X1_label +\" \"+ \n",
    "                                           str(round(np.nanmean(X1),round_it)) + \" +/- \" +  \n",
    "                                           str(round(np.nanstd(X1),round_it)) )\n",
    "    plt.hist(X2, bins, alpha=0.5, color= 'b', label=X2_label+\" \"+ \n",
    "                                           str(round(np.nanmean(X2),round_it)) + \" +/- \" +  \n",
    "                                           str(round(np.nanstd(X2),round_it))\n",
    "                                            + \"\\n\" + \"t-stat: \"+ \n",
    "                                                       str(round(t,1))+\", p-value: \"+   str(round(prob,5)))\n",
    "    plt.ylabel(\"Count\", fontsize=20)\n",
    "    plt.xlabel(\"$S$\", fontsize=20)\n",
    "    \n",
    "    #if X3_data:\n",
    "    #    corr_array_lOri_L = bootstrap(X3_data, Y_data, iterations, len(X3_data), kind=kind )\n",
    "    #    xL = corr_array_lOri_L\n",
    "        \n",
    "    #    pylab.hist(xL, bins, alpha=0.5, label=(\"Dust Luminosity vs. AME \\n R = \"+ str(round(np.nanmean(xL),round_it))) + \" +/- \" + str(round(np.nanstd(xL),round_it)))\n",
    "    \n",
    "    #corr_array_lOri_L = bootstrap(X3_data, Y_data, iterations, len(X3_data), kind=kind )\n",
    "    #xL = corr_array_lOri_L\n",
    "        \n",
    "    #pylab.hist(xL, bins, alpha=0.5, label=(\"Dust Luminosity vs. AME \\n R = \"+ str(round(np.nanmean(xL),round_it))) + \" +/- \" + str(round(np.nanstd(xL),round_it)))\n",
    "    \n",
    "    \n",
    "    #plt.title('Hist. of Bootstrapped '+kind+' Corr. Results')\n",
    "#     import datetime\n",
    "#     timestamp = datetime.datetime.now().strftime(\"%I:%M%p%B%d,%Y\")\n",
    "\n",
    "    \n",
    "    plt.legend(loc='upper left')\n",
    "    plt.savefig(\"../Plots/\"+ftitle)\n",
    "    plt.show()\n",
    "\n",
    "\n",
    "    "
   ]
  },
  {
   "cell_type": "code",
   "execution_count": null,
   "metadata": {
    "collapsed": true
   },
   "outputs": [],
   "source": [
    "Y_data = sres_ame\n",
    "X1_data = np.exp(sed_res_data['ln(Md [kg/m2/sr])'].values) \n",
    "X2_data = X1_data*sed_res_data['qPAH'].values \n",
    "X1_data = X1_data - X2_data\n",
    "    \n",
    "X1_label = \"Dust Mass. vs. AME \\n  $S$ = \"\n",
    "X2_label = \"PAH Mass. vs. AME \\n   $S$ = \"\n",
    "\n",
    "iterations = 10000\n",
    "\n",
    "\n",
    "kind = 'Spearman'\n",
    "\n",
    "ftitle =\"RegsAME_Bootstrap_MDustandMPAH.pdf\"\n",
    "\n",
    "bootstrap_run(X1_data, X2_data, Y_data, kind=kind, \n",
    "              X1_label = X1_label, X2_label = X2_label, iterations=iterations, ftitle=ftitle)\n",
    "\n"
   ]
  },
  {
   "cell_type": "code",
   "execution_count": null,
   "metadata": {
    "collapsed": true
   },
   "outputs": [],
   "source": [
    "Y_data = sres_ame\n",
    "X1_data = np.exp(sed_res_data['ln(Md [kg/m2/sr])'].values) \n",
    "X2_data = X1_data*sed_res_data['qPAH'].values \n",
    "X1_data = X1_data - X2_data\n",
    "    \n",
    "X1_label = \"Dust Mass. vs. AME \\n  $S$ = \"\n",
    "X2_label = \"PAH Mass. vs. AME \\n   $S$ = \"\n",
    "\n",
    "iterations = 10000\n",
    "\n",
    "\n",
    "kind = 'Spearman'\n",
    "\n",
    "ftitle =\"RegsAME_Bootstrap_MDustandMPAH.pdf\"\n",
    "\n",
    "bootstrap_run(X1_data, X2_data, Y_data, kind=kind, \n",
    "              X1_label = X1_label, X2_label = X2_label, iterations=iterations, ftitle=ftitle)\n",
    "\n"
   ]
  },
  {
   "cell_type": "code",
   "execution_count": null,
   "metadata": {
    "collapsed": true
   },
   "outputs": [],
   "source": [
    "Y_data = sres_ame[subset_ls]\n",
    "\n",
    "X1_data = np.exp(sed_res_data['ln(Md [kg/m2/sr])'].values) \n",
    "X2_data = X1_data*sed_res_data['qPAH'].values \n",
    "X1_data = X1_data - X2_data\n",
    "    \n",
    "X1_label = \"Dust Mass. vs. AME \\n  R = \"\n",
    "X2_label = \"PAH Mass. vs. AME \\n   R = \"\n",
    "\n",
    "X1_data=X1_data[subset_ls]\n",
    "X2_data=X2_data[subset_ls]\n",
    "\n",
    "iterations = 10000\n",
    "\n",
    "# kind = 'Pearson'\n",
    "# bootstrap_run(X1_data, X2_data, Y_data, kind=kind, \n",
    "#               X1_label = X1_label, X2_label = X2_label, iterations=iterations, title=None)\n",
    "\n",
    "#bootstrap_run(X1_data, X2_data, Y_data, X3_data=X3_data, kind=kind, iterations=iterations, title=None)\n",
    "\n",
    "kind = 'Spearman'\n",
    "bootstrap_run(X1_data, X2_data, Y_data, kind=kind, \n",
    "              X1_label = X1_label, X2_label = X2_label, iterations=iterations, title=None)\n",
    "\n",
    "\n",
    "Y_data = fd_all[subset_ls]\n",
    "\n",
    "# kind = 'Pearson'\n",
    "# bootstrap_run(X1_data, X2_data, Y_data, kind=kind, \n",
    "#               X1_label = X1_label, X2_label = X2_label, iterations=iterations, title=None)\n",
    "\n",
    "#bootstrap_run(X1_data, X2_data, Y_data, X3_data=X3_data, kind=kind, iterations=iterations, title=None)\n",
    "\n",
    "kind = 'Spearman'\n",
    "bootstrap_run(X1_data, X2_data, Y_data, kind=kind, \n",
    "              X1_label = X1_label, X2_label = X2_label, iterations=iterations, title=None)\n",
    "#kind = 'pearson'\n",
    "#bootstrap_run(X1_data, X2_data, Y_data, kind=kind, iterations=iterations, title=None)"
   ]
  },
  {
   "cell_type": "code",
   "execution_count": null,
   "metadata": {
    "collapsed": true
   },
   "outputs": [],
   "source": [
    "#Y_data  = fd_all[~np.isnan(fd_all)]\n",
    "#Y_data = sres_ame[~np.isnan(sres_ame)]\n",
    "Y_data = sres_ame\n",
    "\n",
    "X1_data = np.exp(sed_res_data['ln(<U> [Habings])'].values) \n",
    "X2_data = np.exp(sed_res_data['ln(Md [kg/m2/sr])'].values) \n",
    "#X3_data = phot_ori['im_lnLdust_tot_best.fits']\n",
    "\n",
    "iterations = 10000\n",
    "\n",
    "X1_label = \"U [Habings] vs. AME \\n  R = \"\n",
    "X2_label = \"Dust Mass  vs. AME \\n   R = \"\n",
    "\n",
    "# kind = 'Pearson'\n",
    "# bootstrap_run(X1_data, X2_data, Y_data, kind=kind, X1_label = X1_label, X2_label = X2_label, iterations=iterations, title=None)\n",
    "\n",
    "kind = 'Spearman'\n",
    "bootstrap_run(X1_data, X2_data, Y_data, kind=kind, X1_label = X1_label, X2_label = X2_label, iterations=iterations, title=None)\n",
    "#kind = 'pearson'\n",
    "#bootstrap_run(X1_data, X2_data, Y_data, kind=kind, iterations=iterations, title=None)\n"
   ]
  },
  {
   "cell_type": "code",
   "execution_count": null,
   "metadata": {
    "collapsed": true
   },
   "outputs": [],
   "source": [
    "#Y_data  = fd_all[~np.isnan(fd_all)]\n",
    "#Y_data = sres_ame[~np.isnan(sres_ame)]\n",
    "Y_data = sres_ame\n",
    "\n",
    "X1_data = np.exp(sed_res_data['ln(<U> [Habings])'].values)*np.exp(sed_res_data['ln(Md [kg/m2/sr])'].values) \n",
    "X2_data = np.exp(sed_res_data['ln(Md [kg/m2/sr])'].values) \n",
    "    \n",
    "\n",
    "iterations = 1000000\n",
    "\n",
    "X1_label = \"Dust Lum. vs. AME \\n   R = \"\n",
    "X2_label = \"Dust Mass vs. AME \\n   R = \"\n",
    "\n",
    "# kind = 'Pearson'\n",
    "# bootstrap_run(X1_data, X2_data, Y_data, kind=kind, X1_label = X1_label, X2_label = X2_label, iterations=iterations, title=None)\n",
    "\n",
    "kind = 'Spearman'\n",
    "bootstrap_run(X1_data, X2_data, Y_data, kind=kind, X1_label = X1_label, X2_label = X2_label, iterations=iterations, title=None)\n"
   ]
  },
  {
   "cell_type": "code",
   "execution_count": null,
   "metadata": {
    "collapsed": true
   },
   "outputs": [],
   "source": [
    "#Y_data  = fd_all[~np.isnan(fd_all)]\n",
    "#Y_data = sres_ame[~np.isnan(sres_ame)]\n",
    "Y_data = sres_ame\n",
    "\n",
    "X1_data = np.exp(sed_res_data['ln(Md [kg/m2/sr])'].values) \n",
    "X2_data = J_dmass\n",
    "\n",
    "\n",
    "#X3_data = phot_ori['im_lnLdust_tot_best.fits']\n",
    "\n",
    "iterations = 100000\n",
    "\n",
    "X1_label = \"Dust Mass (Fred) vs. AME \\n  R = \"\n",
    "X2_label = \"Dust Mass (J13) vs. AME \\n   R = \"\n",
    "\n",
    "# kind = 'Pearson'\n",
    "# bootstrap_run(X1_data, X2_data, Y_data, kind=kind, X1_label = X1_label, X2_label = X2_label, iterations=iterations, title=None)\n",
    "\n",
    "kind = 'Spearman'\n",
    "bootstrap_run(X1_data, X2_data, Y_data, kind=kind, X1_label = X1_label, X2_label = X2_label, iterations=iterations, title=None)\n"
   ]
  },
  {
   "cell_type": "code",
   "execution_count": null,
   "metadata": {
    "collapsed": true
   },
   "outputs": [],
   "source": [
    "Y_data  = fd_all[~np.isnan(fd_all)]\n",
    "X1_data = dmass #[~np.isnan(dmass)]\n",
    "X2_data = pahmass #[~np.isnan(pahmass)]\n",
    "#X3_data = phot_ori['im_lnLdust_tot_best.fits']\n",
    "\n",
    "iterations = 10000\n",
    "\n",
    "#kind = 'pearson'\n",
    "\n",
    "#bootstrap_run(X1_data, X2_data, Y_data, X3_data=X3_data, kind=kind, iterations=iterations, title=None)\n",
    "\n",
    "kind = 'spearman'\n",
    "bootstrap_run(X1_data, X2_data, Y_data, kind=kind, iterations=iterations, title=None)\n",
    "# kind = 'pearson'\n",
    "# bootstrap_run(X1_data, X2_data, Y_data, kind=kind, iterations=iterations, title=None)\n"
   ]
  },
  {
   "cell_type": "code",
   "execution_count": null,
   "metadata": {
    "collapsed": true
   },
   "outputs": [],
   "source": [
    "kind = 'spearman'\n",
    "iterations = 10000000\n",
    "\n",
    "\n",
    "Y_data  = fd_all[subset_hs]\n",
    "X1_data = dmass[subset_hs] #[~np.isnan(dmass)]\n",
    "X2_data = pahmass[subset_hs] #[~np.isnan(pahmass)]\n",
    "\n",
    "bootstrap_run(X1_data, X2_data, Y_data, kind=kind, iterations=iterations, title=None)\n",
    "\n",
    "\n",
    "\n"
   ]
  },
  {
   "cell_type": "code",
   "execution_count": null,
   "metadata": {
    "collapsed": true
   },
   "outputs": [],
   "source": [
    "iterations = 1000000\n",
    "\n",
    "\n",
    "Y_data  = fd_all[subset_ls]\n",
    "X1_data = dmass[subset_ls] #[~np.isnan(dmass)]\n",
    "X2_data = pahmass[subset_ls] #[~np.isnan(pahmass)]\n",
    "\n",
    "bootstrap_run(X1_data, X2_data, Y_data, kind=kind, iterations=iterations, title=None)\n"
   ]
  },
  {
   "cell_type": "code",
   "execution_count": null,
   "metadata": {
    "collapsed": true
   },
   "outputs": [],
   "source": [
    "iterations = 1000000\n",
    "\n",
    "Y_data  = sres_ame[subset_hs]\n",
    "X1_data = dmass[subset_hs] #[~np.isnan(dmass)]\n",
    "X2_data = pahmass[subset_hs] #[~np.isnan(pahmass)]\n",
    "\n",
    "bootstrap_run(X1_data, X2_data, Y_data, kind=kind, iterations=iterations, title=None)\n",
    "\n",
    "Y_data  = sres_ame[subset_ls]\n",
    "X1_data = dmass[subset_ls] #[~np.isnan(dmass)]\n",
    "X2_data = pahmass[subset_ls] #[~np.isnan(pahmass)]\n",
    "\n",
    "bootstrap_run(X1_data, X2_data, Y_data, kind=kind, iterations=iterations, title=None)"
   ]
  },
  {
   "cell_type": "code",
   "execution_count": null,
   "metadata": {
    "collapsed": true
   },
   "outputs": [],
   "source": [
    "print len(sres_ame)\n",
    "print len(fd_all)\n",
    "print fd_all[np.isnan(fd_all)==False]\n",
    "print fd_all[np.isnan(fd_all)==True]\n",
    "print sres_ame[np.isnan(sres_ame)==False]\n",
    "print sres_ame[np.isnan(sres_ame)==True]\n",
    "print corr_array_hs[np.isnan(corr_array_hs)==False]"
   ]
  },
  {
   "cell_type": "code",
   "execution_count": null,
   "metadata": {
    "collapsed": true
   },
   "outputs": [],
   "source": []
  },
  {
   "cell_type": "markdown",
   "metadata": {},
   "source": [
    "# AME to Dust comparisons, without background subtraction of the AME:"
   ]
  },
  {
   "cell_type": "code",
   "execution_count": null,
   "metadata": {
    "collapsed": true
   },
   "outputs": [],
   "source": [
    "fig = plt.figure(figsize=(10,10))\n",
    "\n",
    "plt.subplot(2,2,1)\n",
    "Y_ = fd_all[:]+fd_bg_all[:]\n",
    "X_ = qpah*dmass\n",
    "ytitle = \"AME (PR2) [Jy]\"\n",
    "xtitle = \"PAH Mass [kg/m2/sr]\"\n",
    "corr_plot(X_,Y_, title, xtitle, ytitle)\n",
    "\n",
    "plt.subplot(2,2,2)\n",
    "X_ = dmass\n",
    "xtitle = \"Dust Mass [kg/m2/sr]\"\n",
    "corr_plot(X_,Y_, title, xtitle, ytitle)\n",
    "\n",
    "plt.subplot(2,2,3)\n",
    "Y_ = sres_ame\n",
    "X_ = qpah*dmass\n",
    "ytitle = \"AME (PCXV) Photometry [ Jy ]\"\n",
    "xtitle = \"PAH Mass [kg/m2/sr]\"\n",
    "corr_plot(X_,Y_, title, xtitle, ytitle)\n",
    "\n",
    "plt.subplot(2,2,4)\n",
    "X_ = dmass\n",
    "xtitle = \"Dust Mass [kg/m2/sr]\"\n",
    "corr_plot(X_,Y_, title, xtitle, ytitle)\n",
    "\n",
    "plt.show()\n",
    "plt.close()"
   ]
  },
  {
   "cell_type": "code",
   "execution_count": null,
   "metadata": {
    "collapsed": true
   },
   "outputs": [],
   "source": [
    "fig = plt.figure(figsize=(10,10))\n",
    "\n",
    "plt.subplot(2,2,1)\n",
    "Y_ = J_qpah\n",
    "X_ = J_dmass\n",
    "ytitle = \"Dust Mass [kg/m2/sr]\"\n",
    "xtitle = \"q_PAH\"\n",
    "corr_plot(X_,Y_, xtitle, ytitle, logscale=True)\n",
    "\n",
    "plt.show()\n",
    "plt.close()"
   ]
  },
  {
   "cell_type": "markdown",
   "metadata": {},
   "source": [
    "### Dust Mass (THEMIS) vs. AME"
   ]
  },
  {
   "cell_type": "code",
   "execution_count": null,
   "metadata": {
    "collapsed": true
   },
   "outputs": [],
   "source": [
    "\n",
    "fig = plt.figure(figsize=(10,10))\n",
    "\n",
    "plt.subplot(2,2,1)\n",
    "Y_ = fd_all[:]+fd_bg_all[:]\n",
    "X_ = J_qpah*J_dmass\n",
    "ytitle = \"AME (PR2) [Jy]\"\n",
    "xtitle = \"PAH Mass [kg/m2/sr]\"\n",
    "corr_plot(X_,Y_, xtitle, ytitle, logscale=True)\n",
    "\n",
    "plt.subplot(2,2,2)\n",
    "X_ = J_dmass\n",
    "xtitle = \"Dust Mass [kg/m2/sr]\"\n",
    "corr_plot(X_,Y_, xtitle, ytitle, logscale=True)\n",
    "\n",
    "plt.show()\n",
    "plt.close()"
   ]
  },
  {
   "cell_type": "markdown",
   "metadata": {},
   "source": [
    "# Comparison of AME Photometry with $\\tau_{250}$"
   ]
  },
  {
   "cell_type": "code",
   "execution_count": null,
   "metadata": {
    "collapsed": true
   },
   "outputs": [],
   "source": [
    "fig = plt.figure(figsize=(10,10))\n",
    "\n",
    "plt.subplot(2,2,1)\n",
    "# \"Dust vs. High Sig. AME\"\n",
    "Y_ = fd_all[:]\n",
    "X_ = tau_250[:]\n",
    "ytitle = \"AME (PR2) [Jy]\"\n",
    "xtitle = \"$\\\\tau_{250}$ (PCXV)\"\n",
    "corr_plot(X_,Y_, xtitle, ytitle, logscale=True)\n",
    "\n",
    "plt.subplot(2,2,2)\n",
    "Y_ = sres_ame[:]\n",
    "X_ = tau_250[:]\n",
    "#\"Clive's Optical Depth vs. AME\"\n",
    "ytitle = \"AME (PCXV) [Jy]\"\n",
    "xtitle = \"$\\\\tau_{250}$ (PCXV)\"\n",
    "corr_plot(X_,Y_, xtitle, ytitle, logscale=True)\n",
    "\n",
    "\n",
    "plt.tight_layout()\n",
    "plt.show()\n",
    "plt.close()"
   ]
  },
  {
   "cell_type": "code",
   "execution_count": null,
   "metadata": {
    "collapsed": true
   },
   "outputs": [],
   "source": [
    "fig = plt.figure(figsize=(16,16))\n",
    "###############################################################\n",
    "### First, plot the regions /with/ background subtraction######\n",
    "###############################################################\n",
    "Y_ = fd_all\n",
    "X_ = sres_ame\n",
    "\n",
    "plt.subplot(2,2,1,adjustable='box')\n",
    "#plt.title(\"With background subtraction\")\n",
    "ytitle=\"AME (PR2) [Jy]\"\n",
    "xtitle=\"AME (PCXV) [Jy]\"\n",
    "corr_plot(X_,Y_, xtitle, ytitle, logscale=True)\n",
    "\n",
    "\n",
    "from sklearn import svm, datasets\n",
    "\n",
    "C = 1.0\n",
    "svc = svm.SVC(kernel='linear', C=C).fit([X_[50:60], Y_[50:60]],2)\n",
    "\n",
    "\n",
    "###############################################################\n",
    "### Now, plot them  /without/ background subtraction###########\n",
    "################################################################\n",
    "#Y_ = fd_all+fd_bg_all##########################################\n",
    "###############################################################\n",
    "#X_ = sres_ame\n",
    "#plt.subplot(2,2,2,adjustable='box')\n",
    "#plt.title(\"Without background subtraction\")\n",
    "#ytitle=\"AME (PR2) [Jy]\"\n",
    "#xtitle=\"AME (PCXV) [Jy]\"\n",
    "\n",
    "#corr_plot(X_,Y_,  xtitle, ytitle, logscale=True)\n"
   ]
  },
  {
   "cell_type": "code",
   "execution_count": null,
   "metadata": {
    "collapsed": true
   },
   "outputs": [],
   "source": [
    "filters = pd.DataFrame.from_csv(\"/work1/users/aaronb/Codebrary/Python/filters_PAH.dat\", header=0)"
   ]
  },
  {
   "cell_type": "code",
   "execution_count": null,
   "metadata": {
    "collapsed": true
   },
   "outputs": [],
   "source": [
    "print filters['IRAS12/PAH1']"
   ]
  },
  {
   "cell_type": "code",
   "execution_count": null,
   "metadata": {
    "collapsed": true
   },
   "outputs": [],
   "source": [
    "filters.columns"
   ]
  },
  {
   "cell_type": "code",
   "execution_count": null,
   "metadata": {
    "collapsed": true
   },
   "outputs": [],
   "source": [
    "plt.figure(); filters[['IRAS12/PAH0','IRC09/PAH0','IRAS12/PAH1','IRC09/PAH1']].plot(logx=True)"
   ]
  },
  {
   "cell_type": "code",
   "execution_count": null,
   "metadata": {
    "collapsed": true
   },
   "outputs": [],
   "source": [
    "filters[['IRC09/PAH0','IRC09/PAH1','IRAS12/PAH0','IRAS12/PAH1','WISE12/PAH0','WISE12/PAH1']].ix[5].plot(kind='bar',stacked=True); plt.axhline(0, color='k')"
   ]
  },
  {
   "cell_type": "code",
   "execution_count": null,
   "metadata": {
    "collapsed": true
   },
   "outputs": [],
   "source": [
    "filters[['IRAS12/PAH0','IRC09/PAH0','IRAS12/PAH1','IRC09/PAH1']].plot.bar(); plt.axhline(0, color='k')"
   ]
  },
  {
   "cell_type": "code",
   "execution_count": null,
   "metadata": {
    "collapsed": true
   },
   "outputs": [],
   "source": [
    "plt.figure(); filters[['IRAS12/PAH0', 'IRAS12/PAH1', 'IRAS12/SAmC', 'IRAS12/LAmC',\n",
    "       'IRAS12/ASIL', 'IRAS12/TOTAL', 'IRAS25/PAH0', 'IRAS25/PAH1',\n",
    "       'IRAS25/SAmC', 'IRAS25/LAmC', 'IRAS25/ASIL', 'IRAS25/TOTAL',\n",
    "       'WISE12/PAH0', 'WISE12/PAH1', 'WISE12/SAmC', 'WISE12/LAmC',\n",
    "       'WISE12/ASIL', 'WISE12/TOTAL', 'WISE22/PAH0', 'WISE22/PAH1',\n",
    "       'WISE22/SAmC', 'WISE22/LAmC', 'WISE22/ASIL', 'WISE22/TOTAL',\n",
    "       'IRC09/PAH0', 'IRC09/PAH1', 'IRC09/SAmC', 'IRC09/LAmC',\n",
    "       'IRC09/ASIL', 'IRC09/TOTAL', 'IRC18/PAH0', 'IRC18/PAH1',\n",
    "       'IRC18/SAmC', 'IRC18/LAmC', 'IRC18/ASIL', 'IRC18/TOTAL']].plot(logx=True)"
   ]
  },
  {
   "cell_type": "code",
   "execution_count": null,
   "metadata": {
    "collapsed": true
   },
   "outputs": [],
   "source": []
  },
  {
   "cell_type": "code",
   "execution_count": null,
   "metadata": {
    "collapsed": true
   },
   "outputs": [],
   "source": [
    "plt.figure(figsize=(40,40)); filters[['IRAS12/PAH0', 'IRAS12/PAH1', \n",
    "                        'WISE12/PAH0', 'WISE12/PAH1',\n",
    "                       'IRC09/PAH0', 'IRC09/PAH1', ]].plot(logx=True)"
   ]
  },
  {
   "cell_type": "code",
   "execution_count": null,
   "metadata": {
    "collapsed": true
   },
   "outputs": [],
   "source": [
    "plt.figure(figsize=(20,20)); filters[['IRAS12/TOTAL',  \n",
    "                        'WISE12/TOTAL', \n",
    "                       'IRC09/TOTAL']].plot(logx=True)"
   ]
  },
  {
   "cell_type": "code",
   "execution_count": null,
   "metadata": {
    "collapsed": true
   },
   "outputs": [],
   "source": []
  },
  {
   "cell_type": "code",
   "execution_count": null,
   "metadata": {
    "collapsed": true
   },
   "outputs": [],
   "source": []
  },
  {
   "cell_type": "code",
   "execution_count": null,
   "metadata": {
    "collapsed": true
   },
   "outputs": [],
   "source": []
  },
  {
   "cell_type": "code",
   "execution_count": null,
   "metadata": {
    "collapsed": true
   },
   "outputs": [],
   "source": [
    "import matplotlib.pyplot as plt\n",
    "%matplotlib inline\n",
    "import pandas as pd\n",
    "filters_dir = \"/work1/users/aaronb/Databrary/Filters/\"\n",
    "iras12 = pd.read_csv(filters_dir+\"filter_iras12\", names= ['Wavelength','IRAS12'], header=0)\n",
    "wise12 = pd.read_csv(filters_dir+\"filter_wise12\", names= ['Wavelength','WISE12'], header=0)\n",
    "akari9 = pd.read_csv(filters_dir+\"filter_akari9\", names= ['Wavelength','AKARI9'], header=0)\n",
    "akari18 = pd.read_csv(filters_dir+\"filter_akari18\", names= ['Wavelength','AKARI18'], header=0)\n",
    "iras25 = pd.read_csv(filters_dir+\"filter_iras25\", names= ['Wavelength','IRAS25'], header=0)\n",
    "#rsr = wise12.merge(akari9, how = 'outer', on='Wavelength')\n",
    "#rsr = rsr.merge(iras12)\n",
    "#rsr.sort_values(by='Wavelength', inplace=True)\n",
    "fig = plt.figure()\n",
    "ax1 = fig.add_subplot(111)\n",
    "\n",
    "#wise12_norm['WISE12'] = (wise12['WISE12'] - wise12['WISE12'].mean()) / (wise12['WISE12'].max() - wise12['WISE12'].min())\n",
    "wise12_norm = wise12\n",
    "wise12_norm['WISE12'] = (wise12['WISE12']  / wise12['WISE12'].max())\n",
    "\n",
    "wise12_norm.plot(x='Wavelength',logx=False, xlim=(5,35), ax=ax1)\n",
    "akari9.plot(x='Wavelength',logx=False, xlim=(5,35), ax=ax1)\n",
    "iras12.plot(x='Wavelength',logx=False, xlim=(5,35), ax=ax1)\n",
    "akari18.plot(x='Wavelength',logx=False, xlim=(5,35), ax=ax1)\n",
    "iras25.plot(x='Wavelength',logx=False, xlim=(5,35), ylim = (0.1,1), ax=ax1)"
   ]
  },
  {
   "cell_type": "code",
   "execution_count": null,
   "metadata": {
    "collapsed": true
   },
   "outputs": [],
   "source": [
    "wise12_norm.max()"
   ]
  },
  {
   "cell_type": "code",
   "execution_count": null,
   "metadata": {
    "collapsed": true
   },
   "outputs": [],
   "source": [
    "rsr"
   ]
  },
  {
   "cell_type": "code",
   "execution_count": null,
   "metadata": {
    "collapsed": true
   },
   "outputs": [],
   "source": [
    "fd_all[1]"
   ]
  },
  {
   "cell_type": "code",
   "execution_count": null,
   "metadata": {
    "collapsed": true
   },
   "outputs": [],
   "source": [
    "plt.scatter(nu_ame,sres_ame)\n",
    "plt.scatter(nu_ame,sres_ame/fd_all[0])\n",
    "plt.scatter(nu_ame,sres_ame/fd_all[1])\n",
    "plt.ylim(0,50)\n",
    "plt.xlim(20,50)"
   ]
  },
  {
   "cell_type": "code",
   "execution_count": null,
   "metadata": {
    "collapsed": true
   },
   "outputs": [],
   "source": [
    "#plt.hist(nu_ame,bins=100)\n",
    "np.nanmedian(nu_ame)\n",
    "np.nanmean(nu_ame)\n",
    "\n"
   ]
  },
  {
   "cell_type": "code",
   "execution_count": null,
   "metadata": {
    "collapsed": true
   },
   "outputs": [],
   "source": []
  }
 ],
 "metadata": {
  "kernelspec": {
   "display_name": "Python 2",
   "language": "python",
   "name": "python2"
  }
 },
 "nbformat": 4,
 "nbformat_minor": 1
}
