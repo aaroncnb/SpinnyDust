{
 "cells": [
  {
   "cell_type": "code",
   "execution_count": 2,
   "metadata": {},
   "outputs": [],
   "source": [
    "import matplotlib\n",
    "#from IPython.external import mathjax; mathjax.install_mathjax()\n",
    "import numpy as np\n",
    "import math\n",
    "import sys\n",
    "import scipy\n",
    "import matplotlib.pyplot as plt\n",
    "import pandas as pd\n",
    "import statsmodels.formula.api as sm\n",
    "import seaborn as sns\n",
    "#matplotlib.style.use('ggplot')\n",
    "\n",
    "%matplotlib inline\n"
   ]
  },
  {
   "cell_type": "markdown",
   "metadata": {},
   "source": [
    "# Comparing the AME photometry to the dust SED fitting results:\n",
    "\n",
    "In the 'hp_photometry' notebook, we gathered the AME and IR bands' photometry results for the 98 \"AME Regions\".\n",
    "Now that Fred has kindly carried out the SED fitting, based on the AKARI-DIRBE-IRAS-PLANCK IR photometry, we can compare this to the AME.\n",
    "\n",
    "## Step 1: Load-in the photometry results:\n",
    "\n",
    "The first thing we do is just re-load our progress so far (the photometry data) into memory."
   ]
  },
  {
   "cell_type": "code",
   "execution_count": 3,
   "metadata": {},
   "outputs": [
    {
     "name": "stderr",
     "output_type": "stream",
     "text": [
      "/usr/local/lib/python2.7/dist-packages/ipykernel_launcher.py:41: RuntimeWarning: invalid value encountered in greater\n",
      "/usr/local/lib/python2.7/dist-packages/ipykernel_launcher.py:42: RuntimeWarning: invalid value encountered in less_equal\n"
     ]
    }
   ],
   "source": [
    "data_path = \"../Data/\"\n",
    "\n",
    "fileout_phot = \"../Data/photometry.csv\"\n",
    "fileout_err  = \"../Data/errors.csv\"\n",
    "fileout_bg   = \"../Data/backgrounds.csv\"\n",
    "\n",
    "healpix_AME = \"../Data/raw/COM_CompMap_AME-commander_0256_R2.00.fits\" ## Path to AME map\n",
    "pcxv_AME = \"../Data/AME.txt\"\n",
    "\n",
    "fd_all      = np.genfromtxt(fileout_phot,usecols = (0), dtype = 'float', delimiter=',',skip_header=0)\n",
    "fd_err_all  = np.genfromtxt(fileout_err,usecols = (14), dtype = 'float', delimiter=',',skip_header=1)\n",
    "fd_bg_all   = np.genfromtxt(fileout_bg,usecols = (0), dtype = 'float', delimiter=',',skip_header=0)\n",
    "\n",
    "## These lines gets the AME results from Clive's paper, so we can do a comparison:\n",
    "### Residual (anomalous) 28.4 GHz flux\n",
    "sres_ame  = np.genfromtxt(pcxv_AME,usecols = (22), dtype = 'float', delimiter=',',skip_header=1)\n",
    "sres_ame[sres_ame<=0] = np.nan\n",
    "sres_ame_err = np.genfromtxt(pcxv_AME,usecols = (23), dtype = 'float', delimiter=',',skip_header=1)\n",
    "sres_ame_err = sres_ame_err**2\n",
    "sres_ame_err = np.sqrt(sres_ame_err)\n",
    "### Peak frequency\n",
    "nu_ame    = np.genfromtxt(pcxv_AME,usecols = (17), dtype = 'float', delimiter=',',skip_header=1)\n",
    "### Potential fractioanl contribution from an UCHII region...\n",
    "f_uch     = np.genfromtxt(pcxv_AME,usecols = (19), dtype = 'float', delimiter=',',skip_header=1)\n",
    "### AME Significance\n",
    "sig_ame = np.genfromtxt(pcxv_AME,usecols = (16), dtype = 'float', delimiter=',',skip_header=1)\n",
    "### Dust optical depth\n",
    "tau_250 = np.genfromtxt(pcxv_AME,usecols = (6), dtype = 'float', delimiter=',',skip_header=1)\n",
    "## These get the coordinates of the AME regions:\n",
    "#glat    = np.genfromtxt('inputlist_mep_test.list',usecols = (2), dtype = 'float', delimiter=',')\n",
    "#glon    = np.genfromtxt('inputlist_mep_test.list',usecols = (1), dtype = 'float', delimiter=',')\n",
    "\n",
    "### Potential fractioanl contribution from an UCHII region...\n",
    "f_uch     = np.genfromtxt(pcxv_AME,usecols = (19), dtype = 'float', delimiter=',',skip_header=1)\n",
    "### AME Significance\n",
    "sig_ame = np.genfromtxt(pcxv_AME,usecols = (16), dtype = 'float', delimiter=',',skip_header=1)\n",
    "\n",
    "### Subsets separating \"Highly Significant\" AME from \"Low/Non-significant\" AME\n",
    "subset_hs = (\n",
    "    \n",
    "(sig_ame     > 5.000)   | \n",
    "(f_uch       <= 0.25)    #& \n",
    "\n",
    ")\n",
    "#print subset_hs\n",
    "\n",
    "subset_ls = (subset_hs == False)"
   ]
  },
  {
   "cell_type": "markdown",
   "metadata": {},
   "source": [
    "## Step 2: Load-in dust SED fitting results:\n",
    "Now we do the same thing for the SED fitting. Just load the columns from Fred's \"results.csv\" file into python variables.\n",
    "(In the future, it may be better to load these as Pandas DataFrames)"
   ]
  },
  {
   "cell_type": "code",
   "execution_count": 4,
   "metadata": {},
   "outputs": [
    {
     "name": "stderr",
     "output_type": "stream",
     "text": [
      "/usr/local/lib/python2.7/dist-packages/ipykernel_launcher.py:31: RuntimeWarning: invalid value encountered in greater\n",
      "/usr/local/lib/python2.7/dist-packages/ipykernel_launcher.py:32: RuntimeWarning: invalid value encountered in less_equal\n"
     ]
    }
   ],
   "source": [
    "##############Model A: Fred's Model############\n",
    "###############################################\n",
    "### PAH fraction\n",
    "\n",
    "\n",
    "\n",
    "\n",
    "\n",
    "qpah    = np.genfromtxt('../Data/fred_results_82616.csv',usecols = (5), dtype = 'float', delimiter=',',skip_header=1)\n",
    "### Dust mass\n",
    "dmass   = np.exp(np.genfromtxt('../Data/fred_results_82616.csv',usecols = (1), dtype = 'float', delimiter=',',skip_header=1))\n",
    "### ISRF (relative to galactic average)\n",
    "U       = np.exp(np.genfromtxt('../Data/fred_results_82616.csv',usecols = (3), dtype = 'float', delimiter=',',skip_header=1))\n",
    "### PAH Mass\n",
    "pahmass = qpah*dmass\n",
    "\n",
    "\n",
    "import numpy.random as npr\n",
    "import pylab\n",
    "\n",
    "\n",
    "\n",
    "### Potential fractioanl contribution from an UCHII region...\n",
    "#f_uch     = np.genfromtxt(pcxv_AME,usecols = (19), dtype = 'float', delimiter=',',skip_header=1)\n",
    "### AME Significance\n",
    "sig_ame = np.genfromtxt(pcxv_AME,usecols = (16), dtype = 'float', delimiter=',',skip_header=1)\n",
    "\n",
    "### Subsets separating \"Highly Significant\" AME from \"Low/Non-significant\" AME\n",
    "subset_hs = (\n",
    "    \n",
    "    (sig_ame     > 5.000)   & \n",
    "    (f_uch       <= 0.25)    #& \n",
    "\n",
    "    )\n",
    "\n",
    "subset_ls = (subset_hs == False)\n",
    "\n",
    "### Subsets for removing points that have a NaN sres_ame value\n",
    "\n",
    "sres_nonan = np.isnan(sres_ame)==False\n"
   ]
  },
  {
   "cell_type": "markdown",
   "metadata": {},
   "source": [
    "### Load results intp Pandas dataframe, instead of individual variables:"
   ]
  },
  {
   "cell_type": "code",
   "execution_count": 5,
   "metadata": {},
   "outputs": [
    {
     "name": "stdout",
     "output_type": "stream",
     "text": [
      "[-17.44756146   0.24385729  -0.82102316   0.22214018   0.21593254\n",
      "   0.03360164   1.24956487]\n"
     ]
    },
    {
     "data": {
      "text/html": [
       "<div>\n",
       "<style>\n",
       "    .dataframe thead tr:only-child th {\n",
       "        text-align: right;\n",
       "    }\n",
       "\n",
       "    .dataframe thead th {\n",
       "        text-align: left;\n",
       "    }\n",
       "\n",
       "    .dataframe tbody tr th {\n",
       "        vertical-align: top;\n",
       "    }\n",
       "</style>\n",
       "<table border=\"1\" class=\"dataframe\">\n",
       "  <thead>\n",
       "    <tr style=\"text-align: right;\">\n",
       "      <th></th>\n",
       "      <th>ln(Md [kg/m2/sr])</th>\n",
       "      <th>sigma(ln(Md))</th>\n",
       "      <th>ln(&lt;U&gt; [Habings])</th>\n",
       "      <th>sigma(ln(&lt;U&gt;))</th>\n",
       "      <th>qPAH</th>\n",
       "      <th>sigma(qPAH)</th>\n",
       "      <th>reduced chi-square</th>\n",
       "    </tr>\n",
       "  </thead>\n",
       "  <tbody>\n",
       "    <tr>\n",
       "      <th>0</th>\n",
       "      <td>-18.264398</td>\n",
       "      <td>0.387430</td>\n",
       "      <td>-1.090797</td>\n",
       "      <td>0.389612</td>\n",
       "      <td>0.067420</td>\n",
       "      <td>0.037071</td>\n",
       "      <td>0.179391</td>\n",
       "    </tr>\n",
       "    <tr>\n",
       "      <th>1</th>\n",
       "      <td>-17.742847</td>\n",
       "      <td>0.211686</td>\n",
       "      <td>-1.639426</td>\n",
       "      <td>0.193869</td>\n",
       "      <td>0.060807</td>\n",
       "      <td>0.013751</td>\n",
       "      <td>1.075282</td>\n",
       "    </tr>\n",
       "    <tr>\n",
       "      <th>2</th>\n",
       "      <td>-15.433045</td>\n",
       "      <td>0.347861</td>\n",
       "      <td>0.483719</td>\n",
       "      <td>0.341430</td>\n",
       "      <td>0.119198</td>\n",
       "      <td>0.024665</td>\n",
       "      <td>0.811917</td>\n",
       "    </tr>\n",
       "    <tr>\n",
       "      <th>3</th>\n",
       "      <td>-15.139495</td>\n",
       "      <td>0.197391</td>\n",
       "      <td>0.798847</td>\n",
       "      <td>0.189044</td>\n",
       "      <td>0.084759</td>\n",
       "      <td>0.012609</td>\n",
       "      <td>1.731620</td>\n",
       "    </tr>\n",
       "    <tr>\n",
       "      <th>4</th>\n",
       "      <td>-14.865312</td>\n",
       "      <td>0.180398</td>\n",
       "      <td>0.598840</td>\n",
       "      <td>0.167715</td>\n",
       "      <td>0.086649</td>\n",
       "      <td>0.014510</td>\n",
       "      <td>1.491719</td>\n",
       "    </tr>\n",
       "  </tbody>\n",
       "</table>\n",
       "</div>"
      ],
      "text/plain": [
       "   ln(Md [kg/m2/sr])  sigma(ln(Md))  ln(<U> [Habings])  sigma(ln(<U>))  \\\n",
       "0         -18.264398       0.387430          -1.090797        0.389612   \n",
       "1         -17.742847       0.211686          -1.639426        0.193869   \n",
       "2         -15.433045       0.347861           0.483719        0.341430   \n",
       "3         -15.139495       0.197391           0.798847        0.189044   \n",
       "4         -14.865312       0.180398           0.598840        0.167715   \n",
       "\n",
       "       qPAH  sigma(qPAH)  reduced chi-square  \n",
       "0  0.067420     0.037071            0.179391  \n",
       "1  0.060807     0.013751            1.075282  \n",
       "2  0.119198     0.024665            0.811917  \n",
       "3  0.084759     0.012609            1.731620  \n",
       "4  0.086649     0.014510            1.491719  "
      ]
     },
     "execution_count": 5,
     "metadata": {},
     "output_type": "execute_result"
    }
   ],
   "source": [
    "#sed_res_path = '/work1/users/aaronb/Databrary/fred_results_82616.csv'\n",
    "\n",
    "\n",
    "\n",
    "sed_res_path = '../Data/fred_results_83116.csv'\n",
    "\n",
    "sed_res_data = pd.read_csv(sed_res_path, index_col=False)\n",
    "\n",
    "print sed_res_data.values[-1,:]\n",
    "sed_res_data.head()"
   ]
  },
  {
   "cell_type": "markdown",
   "metadata": {},
   "source": [
    "# Plots of dust vs. AME using Galliano+ (2011) model:"
   ]
  },
  {
   "cell_type": "code",
   "execution_count": 6,
   "metadata": {
    "collapsed": true
   },
   "outputs": [],
   "source": [
    "## Force background color to be white:\n",
    "### Note that seaborn plotting functions my override these settings.\n",
    "plt.rcParams['axes.facecolor']='white'\n",
    "plt.rcParams['figure.facecolor']='white'\n",
    "plt.rcParams['savefig.facecolor']='white'"
   ]
  },
  {
   "cell_type": "code",
   "execution_count": 27,
   "metadata": {},
   "outputs": [
    {
     "name": "stderr",
     "output_type": "stream",
     "text": [
      "/usr/local/lib/python2.7/dist-packages/ipykernel_launcher.py:43: RuntimeWarning: invalid value encountered in greater\n",
      "/usr/local/lib/python2.7/dist-packages/ipykernel_launcher.py:44: RuntimeWarning: invalid value encountered in less_equal\n"
     ]
    },
    {
     "data": {
      "image/png": "[encoded data removed]",
      "text/plain": [
       "<matplotlib.figure.Figure at 0x7f9df9154f10>"
      ]
     },
     "metadata": {},
     "output_type": "display_data"
    }
   ],
   "source": [
    "Y_   = sres_ame\n",
    "X_   = qpah*dmass\n",
    "yerr = sres_ame_err\n",
    "xerr = None\n",
    "\n",
    "\n",
    "def pltAMEvsDust(X_, Y_, subset_hs, subset_ls, xlabel, ylabel,yerr,xerr=None, logy=True, ftitle=\"RegPlot.pdf\"):\n",
    "    \n",
    "    \n",
    "    ## Force background color to be white:\n",
    "    ### Note that seaborn plotting functions my override these settings.\n",
    "    plt.rcParams['axes.facecolor']='white'\n",
    "    plt.rcParams['figure.facecolor']='white'\n",
    "    plt.rcParams['savefig.facecolor']='white'\n",
    "    \n",
    "    fig,ax = plt.subplots()\n",
    "    \n",
    "    ax.set_ylabel(ylabel, fontsize=20)\n",
    "    ax.set_xlabel(xlabel, fontsize=20)\n",
    "    ax.set_xscale('log')\n",
    "    if logy == True:\n",
    "        ax.set_yscale('log')\n",
    "    ax.set_xlim((X_.min(), X_.max()))\n",
    "    \n",
    "    ax = sns.regplot(x=X_[subset_hs], y= Y_[subset_hs], ci=68, fit_reg=True, robust=True, n_boot=100,  label=\"High AME$\\sigma$\")\n",
    "    ax = sns.regplot(x=X_[subset_ls], y= Y_[subset_ls], ci=68, fit_reg=True, robust=True, n_boot=100,  label=\"Low AME$\\sigma$\")\n",
    "    if xerr is None:\n",
    "        ax.errorbar(X_[subset_hs], Y_[subset_hs], yerr=yerr[subset_hs], fmt='.',ecolor='b')\n",
    "        ax.errorbar(X_[subset_ls], Y_[subset_ls], yerr=yerr[subset_ls], fmt='.',ecolor='g')\n",
    "    else:\n",
    "        ax.errorbar(X_[subset_hs], Y_[subset_hs], yerr=yerr[subset_hs], xerr=xerr[subset_hs],fmt='.',ecolor='b')\n",
    "        ax.errorbar(X_[subset_ls], Y_[subset_ls], yerr=yerr[subset_ls], xerr=xerr[subset_ls],fmt='.',ecolor='g')\n",
    "\n",
    "    #ax.set_ylim([0,100])\n",
    "    ax.legend()\n",
    "    \n",
    "    fig.savefig(\"../Plots/\"+ftitle)\n",
    "    \n",
    "    \n",
    "### Subsets separating \"Highly Significant\" AME from \"Low/Non-significant\" AME\n",
    "subset_hs = (\n",
    "    \n",
    "    (sig_ame     > 5.000)   & \n",
    "    (f_uch       <= 0.25)    #& \n",
    "\n",
    "    )\n",
    "\n",
    "subset_ls = (subset_hs == False)\n",
    "\n",
    "Y_ = sres_ame\n",
    "ylabel = \"Residual 28.4~GHz Flux\"\n",
    "\n",
    "X_ = qpah*dmass\n",
    "xlabel = \"PAH Mass [kg/m2/sr]\"\n",
    "\n",
    "pltAMEvsDust(X_, Y_, subset_hs, subset_ls, xlabel, ylabel, yerr,  ftitle=\"RegsAMEvsPAHMass.pdf\")"
   ]
  },
  {
   "cell_type": "code",
   "execution_count": 12,
   "metadata": {},
   "outputs": [
    {
     "data": {
      "image/png": "[encoded data removed]",
      "text/plain": [
       "<matplotlib.figure.Figure at 0x7f9df6af6b50>"
      ]
     },
     "metadata": {},
     "output_type": "display_data"
    }
   ],
   "source": [
    "X_ = dmass\n",
    "xlabel = \"Dust Mass [kg/m2/sr]\"\n",
    "\n",
    "pltAMEvsDust(X_, Y_, subset_hs, subset_ls, xlabel, ylabel, yerr, ftitle=\"RegsAMEvsDustMass.pdf\")"
   ]
  },
  {
   "cell_type": "code",
   "execution_count": 13,
   "metadata": {},
   "outputs": [
    {
     "data": {
      "image/png": "[encoded data removed]",
      "text/plain": [
       "<matplotlib.figure.Figure at 0x7f9df6a7ecd0>"
      ]
     },
     "metadata": {},
     "output_type": "display_data"
    }
   ],
   "source": [
    "X_ = qpah\n",
    "xlabel = \"PAH Fraction\"\n",
    "\n",
    "pltAMEvsDust(X_, Y_, subset_hs, subset_ls, xlabel, ylabel, yerr, ftitle=\"RegsAMEvsqPAH.pdf\")"
   ]
  },
  {
   "cell_type": "code",
   "execution_count": 29,
   "metadata": {},
   "outputs": [
    {
     "data": {
      "image/png": "[encoded data removed]",
      "text/plain": [
       "<matplotlib.figure.Figure at 0x7f9df9175150>"
      ]
     },
     "metadata": {},
     "output_type": "display_data"
    }
   ],
   "source": [
    "Y_ = sed_res_data['ln(Md [kg/m2/sr])'].values\n",
    "ylabel = \"ln Dust Mass [kg/m2/sr]\"\n",
    "\n",
    "X_ = qpah*dmass\n",
    "xlabel = \"PAH Mass [kg/m2/sr]\"\n",
    "\n",
    "yerr = np.exp(sed_res_data['sigma(ln(Md))'].values)\n",
    "#xerr = sed_res_data['sigma(qPAH)']\n",
    "\n",
    "pltAMEvsDust(X_, Y_, subset_hs, subset_ls, xlabel, ylabel,yerr=yerr, logy=False, ftitle=\"RegsDustMassvsPAHMass.pdf\")"
   ]
  },
  {
   "cell_type": "code",
   "execution_count": 35,
   "metadata": {},
   "outputs": [
    {
     "data": {
      "image/png": "[encoded data removed]",
      "text/plain": [
       "<matplotlib.figure.Figure at 0x7f9df6da7a10>"
      ]
     },
     "metadata": {},
     "output_type": "display_data"
    }
   ],
   "source": [
    "Y_     = np.exp(sed_res_data['ln(<U> [Habings])'].values)\n",
    "ylabel = 'ln( U [Habings])'\n",
    "\n",
    "X_     = sed_res_data['qPAH']\n",
    "xlabel = \"qPAH\"\n",
    "\n",
    "yerr_exp = sed_res_data['sigma(ln(<U>))'].values\n",
    "yerr_rel = sed_res_data['sigma(ln(<U>))'].values / sed_res_data['ln(<U> [Habings])'].values\n",
    "yerr_lin = np.exp(sed_res_data['ln(<U> [Habings])'].values)*yerr_rel\n",
    "\n",
    "\n",
    "pltAMEvsDust(X_, Y_, subset_hs, subset_ls, xlabel, ylabel,yerr=yerr_lin, logy=True, ftitle=\"RegsUvsqPAH.pdf\")"
   ]
  },
  {
   "cell_type": "markdown",
   "metadata": {},
   "source": [
    "## Experimenting with a boostrap test (Per Doi-san's advice')"
   ]
  },
  {
   "cell_type": "code",
   "execution_count": 44,
   "metadata": {},
   "outputs": [],
   "source": [
    "def bootstrap(data_x, \n",
    "              data_y, \n",
    "              num_samples, \n",
    "              num_subsamples, \n",
    "              kind='Spearman'):\n",
    "    \n",
    "    from scipy import stats\n",
    "    \n",
    "    #\"\"\"Returns bootstrap estimate of 100.0*(1-alpha) CI for statistic.\"\"\"\n",
    "    \n",
    "    n = len(data_x)\n",
    "\n",
    "    \n",
    "    corr_coeff_array = np.ones(num_samples)\n",
    "    \n",
    "    if kind == 'Spearman':\n",
    "    \n",
    "        for i in range(0,num_samples):\n",
    "            idx = npr.randint(0, n, (num_subsamples))\n",
    "            samples_x = data_x[idx]\n",
    "            samples_y = data_y[idx]\n",
    "            stat_r, stat_p = scipy.stats.spearmanr(samples_x,samples_y)\n",
    "            corr_coeff_array[i] = stat_r\n",
    "    \n",
    "    elif kind == 'Pearson':\n",
    "            \n",
    "        for i in range(0,num_samples):\n",
    "            idx = npr.randint(0, n, (num_subsamples))\n",
    "            samples_x = data_x[idx]\n",
    "            samples_y = data_y[idx]\n",
    "            stat_r, stat_p = scipy.stats.pearsonr(samples_x,samples_y)\n",
    "            corr_coeff_array[i] = stat_r\n",
    "    \n",
    "    corr_coeff_array[np.isnan(corr_coeff_array)==False]\n",
    "\n",
    "    return corr_coeff_array\n",
    "\n",
    "\n",
    "\n",
    "def bootstrap_run(X1_data, \n",
    "                  X2_data, \n",
    "                  Y_data,\n",
    "                  kind='Pearson', \n",
    "                  iterations=10000, \n",
    "                  title=None, \n",
    "                  X1_label=None, \n",
    "                  X2_label=None,\n",
    "                  ftitle='Bootstrap' ):\n",
    "    \n",
    "        ## Force background color to be white:\n",
    "    ### Note that seaborn plotting functions my override these settings.\n",
    "    plt.rcParams['axes.facecolor']='white'\n",
    "    plt.rcParams['figure.facecolor']='white'\n",
    "    plt.rcParams['savefig.facecolor']='white'\n",
    "    \n",
    "    \n",
    "    corr_array_X1 = bootstrap(X1_data,Y_data, iterations, len(X1_data),kind=kind )\n",
    "\n",
    "    corr_array_X2 = bootstrap(X2_data,Y_data, iterations, len(X2_data), kind=kind )\n",
    "    \n",
    "    X1 = corr_array_X1\n",
    "    X2 = corr_array_X2\n",
    "    \n",
    "    X1 = X1[~np.isnan(X1)]\n",
    "    X2 = X2[~np.isnan(X2)]\n",
    "    \n",
    "    t, prob = scipy.stats.ttest_ind(X1,X2, axis=0, equal_var=True) #Equal_var=False for Welch's t-test\n",
    "    # make plots\n",
    "    \n",
    "    plt.figure(figsize=(6,6))\n",
    "\n",
    "    round_it = 3\n",
    "\n",
    "    bins = np.linspace(0.1, 1.0, 100)\n",
    "\n",
    "    plt.hist(X1, bins, alpha=0.5, color= 'r', label=X1_label +\" \"+ \n",
    "                                           str(round(np.nanmean(X1),round_it)) + \" +/- \" +  \n",
    "                                           str(round(np.nanstd(X1),round_it)) )\n",
    "    plt.hist(X2, bins, alpha=0.5, color= 'b', label=X2_label+\" \"+ \n",
    "                                           str(round(np.nanmean(X2),round_it)) + \" +/- \" +  \n",
    "                                           str(round(np.nanstd(X2),round_it))\n",
    "                                            + \"\\n\" + \"t-stat: \"+ \n",
    "                                                       str(round(t,round_it))+\", p-value: \"+   str(round(prob,round_it)))\n",
    "    plt.ylabel(\"Count\", fontsize=20)\n",
    "    plt.xlabel(\"$S$\", fontsize=20)\n",
    "    \n",
    "    #if X3_data:\n",
    "    #    corr_array_lOri_L = bootstrap(X3_data, Y_data, iterations, len(X3_data), kind=kind )\n",
    "    #    xL = corr_array_lOri_L\n",
    "        \n",
    "    #    pylab.hist(xL, bins, alpha=0.5, label=(\"Dust Luminosity vs. AME \\n R = \"+ str(round(np.nanmean(xL),round_it))) + \" +/- \" + str(round(np.nanstd(xL),round_it)))\n",
    "    \n",
    "    #corr_array_lOri_L = bootstrap(X3_data, Y_data, iterations, len(X3_data), kind=kind )\n",
    "    #xL = corr_array_lOri_L\n",
    "        \n",
    "    #pylab.hist(xL, bins, alpha=0.5, label=(\"Dust Luminosity vs. AME \\n R = \"+ str(round(np.nanmean(xL),round_it))) + \" +/- \" + str(round(np.nanstd(xL),round_it)))\n",
    "    \n",
    "    \n",
    "    #plt.title('Hist. of Bootstrapped '+kind+' Corr. Results')\n",
    "#     import datetime\n",
    "#     timestamp = datetime.datetime.now().strftime(\"%I:%M%p%B%d,%Y\")\n",
    "\n",
    "    \n",
    "    plt.legend(loc='upper left')\n",
    "    plt.savefig(\"../Plots/\"+ftitle)\n",
    "    plt.show()\n",
    "\n",
    "\n",
    "    "
   ]
  },
  {
   "cell_type": "markdown",
   "metadata": {},
   "source": [
    "## Calculate bootstrap results using PAH Luminosity ( not PAH Mass)"
   ]
  },
  {
   "cell_type": "code",
   "execution_count": 45,
   "metadata": {},
   "outputs": [
    {
     "data": {
      "image/png": "[encoded data removed]",
      "text/plain": [
       "<matplotlib.figure.Figure at 0x2ad42c0bae50>"
      ]
     },
     "metadata": {},
     "output_type": "display_data"
    }
   ],
   "source": [
    "Y_data = sres_ame\n",
    "\n",
    "X1_data = np.exp(sed_res_data['ln(<U> [Habings])'].values)*np.exp(sed_res_data['ln(Md [kg/m2/sr])']) \n",
    "X2_data = X1_data*sed_res_data['qPAH'].values \n",
    "    \n",
    "X1_label = \"Dust Lum. vs. AME \\n  $S$ = \"\n",
    "X2_label = \"PAH Lum. vs. AME \\n   $S$ = \"\n",
    "\n",
    "ftitle =\"RegsAME_Bootstrap_LDustandLPAH.pdf\"\n",
    "\n",
    "iterations = 10000\n",
    "\n",
    "kind = 'Spearman'\n",
    "bootstrap_run(\n",
    "    X1_data, \n",
    "    X2_data, \n",
    "    Y_data, \n",
    "    kind=kind, \n",
    "    X1_label = X1_label, \n",
    "    X2_label = X2_label, \n",
    "    iterations=iterations, \n",
    "    ftitle=ftitle)\n",
    "\n"
   ]
  },
  {
   "cell_type": "code",
   "execution_count": 46,
   "metadata": {},
   "outputs": [
    {
     "data": {
      "image/png": "[encoded data removed]",
      "text/plain": [
       "<matplotlib.figure.Figure at 0x2ad42d2dd250>"
      ]
     },
     "metadata": {},
     "output_type": "display_data"
    }
   ],
   "source": [
    "Y_data = sres_ame\n",
    "X1_data = np.exp(sed_res_data['ln(Md [kg/m2/sr])'].values) \n",
    "X2_data = X1_data*sed_res_data['qPAH'].values \n",
    "X1_data = X1_data - X2_data\n",
    "    \n",
    "X1_label = \"Dust Mass. vs. AME \\n  $S$ = \"\n",
    "X2_label = \"PAH Mass. vs. AME \\n   $S$ = \"\n",
    "\n",
    "iterations = 10000\n",
    "\n",
    "\n",
    "kind = 'Spearman'\n",
    "\n",
    "ftitle =\"RegsAME_Bootstrap_MDustandMPAH.pdf\"\n",
    "\n",
    "bootstrap_run(X1_data, X2_data, Y_data, kind=kind, \n",
    "              X1_label = X1_label, X2_label = X2_label, iterations=iterations, ftitle=ftitle)\n",
    "\n"
   ]
  },
  {
   "cell_type": "code",
   "execution_count": null,
   "metadata": {
    "collapsed": true
   },
   "outputs": [],
   "source": [
    "Y_data = sres_ame\n",
    "X1_data = np.exp(sed_res_data['ln(Md [kg/m2/sr])'].values) \n",
    "X2_data = X1_data*sed_res_data['qPAH'].values \n",
    "X1_data = X1_data - X2_data\n",
    "    \n",
    "X1_label = \"Dust Mass. vs. AME \\n  $S$ = \"\n",
    "X2_label = \"PAH Mass. vs. AME \\n   $S$ = \"\n",
    "\n",
    "iterations = 10000\n",
    "\n",
    "\n",
    "kind = 'Spearman'\n",
    "\n",
    "ftitle =\"RegsAME_Bootstrap_MDustandMPAH.pdf\"\n",
    "\n",
    "bootstrap_run(X1_data, X2_data, Y_data, kind=kind, \n",
    "              X1_label = X1_label, X2_label = X2_label, iterations=iterations, ftitle=ftitle)\n",
    "\n"
   ]
  },
  {
   "cell_type": "code",
   "execution_count": null,
   "metadata": {},
   "outputs": [],
   "source": [
    "Y_data = sres_ame[subset_ls]\n",
    "\n",
    "X1_data = np.exp(sed_res_data['ln(Md [kg/m2/sr])'].values) \n",
    "X2_data = X1_data*sed_res_data['qPAH'].values \n",
    "X1_data = X1_data - X2_data\n",
    "    \n",
    "X1_label = \"Dust Mass. vs. AME \\n  R = \"\n",
    "X2_label = \"PAH Mass. vs. AME \\n   R = \"\n",
    "\n",
    "X1_data=X1_data[subset_ls]\n",
    "X2_data=X2_data[subset_ls]\n",
    "\n",
    "iterations = 10000\n",
    "\n",
    "# kind = 'Pearson'\n",
    "# bootstrap_run(X1_data, X2_data, Y_data, kind=kind, \n",
    "#               X1_label = X1_label, X2_label = X2_label, iterations=iterations, title=None)\n",
    "\n",
    "#bootstrap_run(X1_data, X2_data, Y_data, X3_data=X3_data, kind=kind, iterations=iterations, title=None)\n",
    "\n",
    "kind = 'Spearman'\n",
    "bootstrap_run(X1_data, X2_data, Y_data, kind=kind, \n",
    "              X1_label = X1_label, X2_label = X2_label, iterations=iterations, title=None)\n",
    "\n",
    "\n",
    "Y_data = fd_all[subset_ls]\n",
    "\n",
    "# kind = 'Pearson'\n",
    "# bootstrap_run(X1_data, X2_data, Y_data, kind=kind, \n",
    "#               X1_label = X1_label, X2_label = X2_label, iterations=iterations, title=None)\n",
    "\n",
    "#bootstrap_run(X1_data, X2_data, Y_data, X3_data=X3_data, kind=kind, iterations=iterations, title=None)\n",
    "\n",
    "kind = 'Spearman'\n",
    "bootstrap_run(X1_data, X2_data, Y_data, kind=kind, \n",
    "              X1_label = X1_label, X2_label = X2_label, iterations=iterations, title=None)\n",
    "#kind = 'pearson'\n",
    "#bootstrap_run(X1_data, X2_data, Y_data, kind=kind, iterations=iterations, title=None)"
   ]
  },
  {
   "cell_type": "code",
   "execution_count": null,
   "metadata": {},
   "outputs": [],
   "source": [
    "#Y_data  = fd_all[~np.isnan(fd_all)]\n",
    "#Y_data = sres_ame[~np.isnan(sres_ame)]\n",
    "Y_data = sres_ame\n",
    "\n",
    "X1_data = np.exp(sed_res_data['ln(<U> [Habings])'].values) \n",
    "X2_data = np.exp(sed_res_data['ln(Md [kg/m2/sr])'].values) \n",
    "#X3_data = phot_ori['im_lnLdust_tot_best.fits']\n",
    "\n",
    "iterations = 10000\n",
    "\n",
    "X1_label = \"U [Habings] vs. AME \\n  R = \"\n",
    "X2_label = \"Dust Mass  vs. AME \\n   R = \"\n",
    "\n",
    "# kind = 'Pearson'\n",
    "# bootstrap_run(X1_data, X2_data, Y_data, kind=kind, X1_label = X1_label, X2_label = X2_label, iterations=iterations, title=None)\n",
    "\n",
    "kind = 'Spearman'\n",
    "bootstrap_run(X1_data, X2_data, Y_data, kind=kind, X1_label = X1_label, X2_label = X2_label, iterations=iterations, title=None)\n",
    "#kind = 'pearson'\n",
    "#bootstrap_run(X1_data, X2_data, Y_data, kind=kind, iterations=iterations, title=None)\n"
   ]
  },
  {
   "cell_type": "code",
   "execution_count": null,
   "metadata": {},
   "outputs": [],
   "source": [
    "#Y_data  = fd_all[~np.isnan(fd_all)]\n",
    "#Y_data = sres_ame[~np.isnan(sres_ame)]\n",
    "Y_data = sres_ame\n",
    "\n",
    "X1_data = np.exp(sed_res_data['ln(<U> [Habings])'].values)*np.exp(sed_res_data['ln(Md [kg/m2/sr])'].values) \n",
    "X2_data = np.exp(sed_res_data['ln(Md [kg/m2/sr])'].values) \n",
    "    \n",
    "\n",
    "iterations = 1000000\n",
    "\n",
    "X1_label = \"Dust Lum. vs. AME \\n   R = \"\n",
    "X2_label = \"Dust Mass vs. AME \\n   R = \"\n",
    "\n",
    "# kind = 'Pearson'\n",
    "# bootstrap_run(X1_data, X2_data, Y_data, kind=kind, X1_label = X1_label, X2_label = X2_label, iterations=iterations, title=None)\n",
    "\n",
    "kind = 'Spearman'\n",
    "bootstrap_run(X1_data, X2_data, Y_data, kind=kind, X1_label = X1_label, X2_label = X2_label, iterations=iterations, title=None)\n"
   ]
  },
  {
   "cell_type": "code",
   "execution_count": null,
   "metadata": {},
   "outputs": [],
   "source": [
    "#Y_data  = fd_all[~np.isnan(fd_all)]\n",
    "#Y_data = sres_ame[~np.isnan(sres_ame)]\n",
    "Y_data = sres_ame\n",
    "\n",
    "X1_data = np.exp(sed_res_data['ln(Md [kg/m2/sr])'].values) \n",
    "X2_data = J_dmass\n",
    "\n",
    "\n",
    "#X3_data = phot_ori['im_lnLdust_tot_best.fits']\n",
    "\n",
    "iterations = 100000\n",
    "\n",
    "X1_label = \"Dust Mass (Fred) vs. AME \\n  R = \"\n",
    "X2_label = \"Dust Mass (J13) vs. AME \\n   R = \"\n",
    "\n",
    "# kind = 'Pearson'\n",
    "# bootstrap_run(X1_data, X2_data, Y_data, kind=kind, X1_label = X1_label, X2_label = X2_label, iterations=iterations, title=None)\n",
    "\n",
    "kind = 'Spearman'\n",
    "bootstrap_run(X1_data, X2_data, Y_data, kind=kind, X1_label = X1_label, X2_label = X2_label, iterations=iterations, title=None)\n"
   ]
  },
  {
   "cell_type": "code",
   "execution_count": null,
   "metadata": {},
   "outputs": [],
   "source": [
    "Y_data  = fd_all[~np.isnan(fd_all)]\n",
    "X1_data = dmass #[~np.isnan(dmass)]\n",
    "X2_data = pahmass #[~np.isnan(pahmass)]\n",
    "#X3_data = phot_ori['im_lnLdust_tot_best.fits']\n",
    "\n",
    "iterations = 10000\n",
    "\n",
    "#kind = 'pearson'\n",
    "\n",
    "#bootstrap_run(X1_data, X2_data, Y_data, X3_data=X3_data, kind=kind, iterations=iterations, title=None)\n",
    "\n",
    "kind = 'spearman'\n",
    "bootstrap_run(X1_data, X2_data, Y_data, kind=kind, iterations=iterations, title=None)\n",
    "# kind = 'pearson'\n",
    "# bootstrap_run(X1_data, X2_data, Y_data, kind=kind, iterations=iterations, title=None)\n"
   ]
  },
  {
   "cell_type": "code",
   "execution_count": null,
   "metadata": {},
   "outputs": [],
   "source": [
    "kind = 'spearman'\n",
    "iterations = 10000000\n",
    "\n",
    "\n",
    "Y_data  = fd_all[subset_hs]\n",
    "X1_data = dmass[subset_hs] #[~np.isnan(dmass)]\n",
    "X2_data = pahmass[subset_hs] #[~np.isnan(pahmass)]\n",
    "\n",
    "bootstrap_run(X1_data, X2_data, Y_data, kind=kind, iterations=iterations, title=None)\n",
    "\n",
    "\n",
    "\n"
   ]
  },
  {
   "cell_type": "code",
   "execution_count": null,
   "metadata": {},
   "outputs": [],
   "source": [
    "iterations = 1000000\n",
    "\n",
    "\n",
    "Y_data  = fd_all[subset_ls]\n",
    "X1_data = dmass[subset_ls] #[~np.isnan(dmass)]\n",
    "X2_data = pahmass[subset_ls] #[~np.isnan(pahmass)]\n",
    "\n",
    "bootstrap_run(X1_data, X2_data, Y_data, kind=kind, iterations=iterations, title=None)\n"
   ]
  },
  {
   "cell_type": "code",
   "execution_count": null,
   "metadata": {},
   "outputs": [],
   "source": [
    "iterations = 1000000\n",
    "\n",
    "Y_data  = sres_ame[subset_hs]\n",
    "X1_data = dmass[subset_hs] #[~np.isnan(dmass)]\n",
    "X2_data = pahmass[subset_hs] #[~np.isnan(pahmass)]\n",
    "\n",
    "bootstrap_run(X1_data, X2_data, Y_data, kind=kind, iterations=iterations, title=None)\n",
    "\n",
    "Y_data  = sres_ame[subset_ls]\n",
    "X1_data = dmass[subset_ls] #[~np.isnan(dmass)]\n",
    "X2_data = pahmass[subset_ls] #[~np.isnan(pahmass)]\n",
    "\n",
    "bootstrap_run(X1_data, X2_data, Y_data, kind=kind, iterations=iterations, title=None)"
   ]
  },
  {
   "cell_type": "code",
   "execution_count": null,
   "metadata": {},
   "outputs": [],
   "source": [
    "print len(sres_ame)\n",
    "print len(fd_all)\n",
    "print fd_all[np.isnan(fd_all)==False]\n",
    "print fd_all[np.isnan(fd_all)==True]\n",
    "print sres_ame[np.isnan(sres_ame)==False]\n",
    "print sres_ame[np.isnan(sres_ame)==True]\n",
    "print corr_array_hs[np.isnan(corr_array_hs)==False]"
   ]
  },
  {
   "cell_type": "code",
   "execution_count": null,
   "metadata": {},
   "outputs": [],
   "source": []
  },
  {
   "cell_type": "markdown",
   "metadata": {},
   "source": [
    "# AME to Dust comparisons, without background subtraction of the AME:"
   ]
  },
  {
   "cell_type": "code",
   "execution_count": null,
   "metadata": {},
   "outputs": [],
   "source": [
    "fig = plt.figure(figsize=(10,10))\n",
    "\n",
    "plt.subplot(2,2,1)\n",
    "Y_ = fd_all[:]+fd_bg_all[:]\n",
    "X_ = qpah*dmass\n",
    "ytitle = \"AME (PR2) [Jy]\"\n",
    "xtitle = \"PAH Mass [kg/m2/sr]\"\n",
    "corr_plot(X_,Y_, title, xtitle, ytitle)\n",
    "\n",
    "plt.subplot(2,2,2)\n",
    "X_ = dmass\n",
    "xtitle = \"Dust Mass [kg/m2/sr]\"\n",
    "corr_plot(X_,Y_, title, xtitle, ytitle)\n",
    "\n",
    "plt.subplot(2,2,3)\n",
    "Y_ = sres_ame\n",
    "X_ = qpah*dmass\n",
    "ytitle = \"AME (PCXV) Photometry [ Jy ]\"\n",
    "xtitle = \"PAH Mass [kg/m2/sr]\"\n",
    "corr_plot(X_,Y_, title, xtitle, ytitle)\n",
    "\n",
    "plt.subplot(2,2,4)\n",
    "X_ = dmass\n",
    "xtitle = \"Dust Mass [kg/m2/sr]\"\n",
    "corr_plot(X_,Y_, title, xtitle, ytitle)\n",
    "\n",
    "plt.show()\n",
    "plt.close()"
   ]
  },
  {
   "cell_type": "code",
   "execution_count": null,
   "metadata": {},
   "outputs": [],
   "source": [
    "fig = plt.figure(figsize=(10,10))\n",
    "\n",
    "plt.subplot(2,2,1)\n",
    "Y_ = J_qpah\n",
    "X_ = J_dmass\n",
    "ytitle = \"Dust Mass [kg/m2/sr]\"\n",
    "xtitle = \"q_PAH\"\n",
    "corr_plot(X_,Y_, xtitle, ytitle, logscale=True)\n",
    "\n",
    "plt.show()\n",
    "plt.close()"
   ]
  },
  {
   "cell_type": "markdown",
   "metadata": {},
   "source": [
    "### Dust Mass (THEMIS) vs. AME"
   ]
  },
  {
   "cell_type": "code",
   "execution_count": null,
   "metadata": {},
   "outputs": [],
   "source": [
    "\n",
    "fig = plt.figure(figsize=(10,10))\n",
    "\n",
    "plt.subplot(2,2,1)\n",
    "Y_ = fd_all[:]+fd_bg_all[:]\n",
    "X_ = J_qpah*J_dmass\n",
    "ytitle = \"AME (PR2) [Jy]\"\n",
    "xtitle = \"PAH Mass [kg/m2/sr]\"\n",
    "corr_plot(X_,Y_, xtitle, ytitle, logscale=True)\n",
    "\n",
    "plt.subplot(2,2,2)\n",
    "X_ = J_dmass\n",
    "xtitle = \"Dust Mass [kg/m2/sr]\"\n",
    "corr_plot(X_,Y_, xtitle, ytitle, logscale=True)\n",
    "\n",
    "plt.show()\n",
    "plt.close()"
   ]
  },
  {
   "cell_type": "markdown",
   "metadata": {},
   "source": [
    "# Comparison of AME Photometry with $\\tau_{250}$"
   ]
  },
  {
   "cell_type": "code",
   "execution_count": null,
   "metadata": {},
   "outputs": [],
   "source": [
    "fig = plt.figure(figsize=(10,10))\n",
    "\n",
    "plt.subplot(2,2,1)\n",
    "# \"Dust vs. High Sig. AME\"\n",
    "Y_ = fd_all[:]\n",
    "X_ = tau_250[:]\n",
    "ytitle = \"AME (PR2) [Jy]\"\n",
    "xtitle = \"$\\\\tau_{250}$ (PCXV)\"\n",
    "corr_plot(X_,Y_, xtitle, ytitle, logscale=True)\n",
    "\n",
    "plt.subplot(2,2,2)\n",
    "Y_ = sres_ame[:]\n",
    "X_ = tau_250[:]\n",
    "#\"Clive's Optical Depth vs. AME\"\n",
    "ytitle = \"AME (PCXV) [Jy]\"\n",
    "xtitle = \"$\\\\tau_{250}$ (PCXV)\"\n",
    "corr_plot(X_,Y_, xtitle, ytitle, logscale=True)\n",
    "\n",
    "\n",
    "plt.tight_layout()\n",
    "plt.show()\n",
    "plt.close()"
   ]
  },
  {
   "cell_type": "code",
   "execution_count": null,
   "metadata": {},
   "outputs": [],
   "source": [
    "fig = plt.figure(figsize=(16,16))\n",
    "###############################################################\n",
    "### First, plot the regions /with/ background subtraction######\n",
    "###############################################################\n",
    "Y_ = fd_all\n",
    "X_ = sres_ame\n",
    "\n",
    "plt.subplot(2,2,1,adjustable='box')\n",
    "#plt.title(\"With background subtraction\")\n",
    "ytitle=\"AME (PR2) [Jy]\"\n",
    "xtitle=\"AME (PCXV) [Jy]\"\n",
    "corr_plot(X_,Y_, xtitle, ytitle, logscale=True)\n",
    "\n",
    "\n",
    "from sklearn import svm, datasets\n",
    "\n",
    "C = 1.0\n",
    "svc = svm.SVC(kernel='linear', C=C).fit([X_[50:60], Y_[50:60]],2)\n",
    "\n",
    "\n",
    "###############################################################\n",
    "### Now, plot them  /without/ background subtraction###########\n",
    "################################################################\n",
    "#Y_ = fd_all+fd_bg_all##########################################\n",
    "###############################################################\n",
    "#X_ = sres_ame\n",
    "#plt.subplot(2,2,2,adjustable='box')\n",
    "#plt.title(\"Without background subtraction\")\n",
    "#ytitle=\"AME (PR2) [Jy]\"\n",
    "#xtitle=\"AME (PCXV) [Jy]\"\n",
    "\n",
    "#corr_plot(X_,Y_,  xtitle, ytitle, logscale=True)\n"
   ]
  },
  {
   "cell_type": "code",
   "execution_count": null,
   "metadata": {},
   "outputs": [],
   "source": [
    "filters = pd.DataFrame.from_csv(\"/work1/users/aaronb/Codebrary/Python/filters_PAH.dat\", header=0)"
   ]
  },
  {
   "cell_type": "code",
   "execution_count": null,
   "metadata": {},
   "outputs": [],
   "source": [
    "print filters['IRAS12/PAH1']"
   ]
  },
  {
   "cell_type": "code",
   "execution_count": null,
   "metadata": {},
   "outputs": [],
   "source": [
    "filters.columns"
   ]
  },
  {
   "cell_type": "code",
   "execution_count": null,
   "metadata": {},
   "outputs": [],
   "source": [
    "plt.figure(); filters[['IRAS12/PAH0','IRC09/PAH0','IRAS12/PAH1','IRC09/PAH1']].plot(logx=True)"
   ]
  },
  {
   "cell_type": "code",
   "execution_count": null,
   "metadata": {},
   "outputs": [],
   "source": [
    "filters[['IRC09/PAH0','IRC09/PAH1','IRAS12/PAH0','IRAS12/PAH1','WISE12/PAH0','WISE12/PAH1']].ix[5].plot(kind='bar',stacked=True); plt.axhline(0, color='k')"
   ]
  },
  {
   "cell_type": "code",
   "execution_count": null,
   "metadata": {},
   "outputs": [],
   "source": [
    "filters[['IRAS12/PAH0','IRC09/PAH0','IRAS12/PAH1','IRC09/PAH1']].plot.bar(); plt.axhline(0, color='k')"
   ]
  },
  {
   "cell_type": "code",
   "execution_count": null,
   "metadata": {},
   "outputs": [],
   "source": [
    "plt.figure(); filters[['IRAS12/PAH0', 'IRAS12/PAH1', 'IRAS12/SAmC', 'IRAS12/LAmC',\n",
    "       'IRAS12/ASIL', 'IRAS12/TOTAL', 'IRAS25/PAH0', 'IRAS25/PAH1',\n",
    "       'IRAS25/SAmC', 'IRAS25/LAmC', 'IRAS25/ASIL', 'IRAS25/TOTAL',\n",
    "       'WISE12/PAH0', 'WISE12/PAH1', 'WISE12/SAmC', 'WISE12/LAmC',\n",
    "       'WISE12/ASIL', 'WISE12/TOTAL', 'WISE22/PAH0', 'WISE22/PAH1',\n",
    "       'WISE22/SAmC', 'WISE22/LAmC', 'WISE22/ASIL', 'WISE22/TOTAL',\n",
    "       'IRC09/PAH0', 'IRC09/PAH1', 'IRC09/SAmC', 'IRC09/LAmC',\n",
    "       'IRC09/ASIL', 'IRC09/TOTAL', 'IRC18/PAH0', 'IRC18/PAH1',\n",
    "       'IRC18/SAmC', 'IRC18/LAmC', 'IRC18/ASIL', 'IRC18/TOTAL']].plot(logx=True)"
   ]
  },
  {
   "cell_type": "code",
   "execution_count": null,
   "metadata": {
    "collapsed": true
   },
   "outputs": [],
   "source": []
  },
  {
   "cell_type": "code",
   "execution_count": null,
   "metadata": {},
   "outputs": [],
   "source": [
    "plt.figure(figsize=(40,40)); filters[['IRAS12/PAH0', 'IRAS12/PAH1', \n",
    "                        'WISE12/PAH0', 'WISE12/PAH1',\n",
    "                       'IRC09/PAH0', 'IRC09/PAH1', ]].plot(logx=True)"
   ]
  },
  {
   "cell_type": "code",
   "execution_count": null,
   "metadata": {},
   "outputs": [],
   "source": [
    "plt.figure(figsize=(20,20)); filters[['IRAS12/TOTAL',  \n",
    "                        'WISE12/TOTAL', \n",
    "                       'IRC09/TOTAL']].plot(logx=True)"
   ]
  },
  {
   "cell_type": "code",
   "execution_count": null,
   "metadata": {},
   "outputs": [],
   "source": []
  },
  {
   "cell_type": "code",
   "execution_count": null,
   "metadata": {
    "collapsed": true
   },
   "outputs": [],
   "source": []
  },
  {
   "cell_type": "code",
   "execution_count": null,
   "metadata": {
    "collapsed": true
   },
   "outputs": [],
   "source": []
  },
  {
   "cell_type": "code",
   "execution_count": null,
   "metadata": {},
   "outputs": [],
   "source": [
    "import matplotlib.pyplot as plt\n",
    "%matplotlib inline\n",
    "import pandas as pd\n",
    "filters_dir = \"/work1/users/aaronb/Databrary/Filters/\"\n",
    "iras12 = pd.read_csv(filters_dir+\"filter_iras12\", names= ['Wavelength','IRAS12'], header=0)\n",
    "wise12 = pd.read_csv(filters_dir+\"filter_wise12\", names= ['Wavelength','WISE12'], header=0)\n",
    "akari9 = pd.read_csv(filters_dir+\"filter_akari9\", names= ['Wavelength','AKARI9'], header=0)\n",
    "akari18 = pd.read_csv(filters_dir+\"filter_akari18\", names= ['Wavelength','AKARI18'], header=0)\n",
    "iras25 = pd.read_csv(filters_dir+\"filter_iras25\", names= ['Wavelength','IRAS25'], header=0)\n",
    "#rsr = wise12.merge(akari9, how = 'outer', on='Wavelength')\n",
    "#rsr = rsr.merge(iras12)\n",
    "#rsr.sort_values(by='Wavelength', inplace=True)\n",
    "fig = plt.figure()\n",
    "ax1 = fig.add_subplot(111)\n",
    "\n",
    "#wise12_norm['WISE12'] = (wise12['WISE12'] - wise12['WISE12'].mean()) / (wise12['WISE12'].max() - wise12['WISE12'].min())\n",
    "wise12_norm = wise12\n",
    "wise12_norm['WISE12'] = (wise12['WISE12']  / wise12['WISE12'].max())\n",
    "\n",
    "wise12_norm.plot(x='Wavelength',logx=False, xlim=(5,35), ax=ax1)\n",
    "akari9.plot(x='Wavelength',logx=False, xlim=(5,35), ax=ax1)\n",
    "iras12.plot(x='Wavelength',logx=False, xlim=(5,35), ax=ax1)\n",
    "akari18.plot(x='Wavelength',logx=False, xlim=(5,35), ax=ax1)\n",
    "iras25.plot(x='Wavelength',logx=False, xlim=(5,35), ylim = (0.1,1), ax=ax1)"
   ]
  },
  {
   "cell_type": "code",
   "execution_count": null,
   "metadata": {},
   "outputs": [],
   "source": [
    "wise12_norm.max()"
   ]
  },
  {
   "cell_type": "code",
   "execution_count": null,
   "metadata": {},
   "outputs": [],
   "source": [
    "rsr"
   ]
  },
  {
   "cell_type": "code",
   "execution_count": null,
   "metadata": {},
   "outputs": [],
   "source": [
    "fd_all[1]"
   ]
  },
  {
   "cell_type": "code",
   "execution_count": null,
   "metadata": {},
   "outputs": [],
   "source": [
    "plt.scatter(nu_ame,sres_ame)\n",
    "plt.scatter(nu_ame,sres_ame/fd_all[0])\n",
    "plt.scatter(nu_ame,sres_ame/fd_all[1])\n",
    "plt.ylim(0,50)\n",
    "plt.xlim(20,50)"
   ]
  },
  {
   "cell_type": "code",
   "execution_count": null,
   "metadata": {},
   "outputs": [],
   "source": [
    "#plt.hist(nu_ame,bins=100)\n",
    "np.nanmedian(nu_ame)\n",
    "np.nanmean(nu_ame)\n",
    "\n"
   ]
  },
  {
   "cell_type": "code",
   "execution_count": null,
   "metadata": {
    "collapsed": true
   },
   "outputs": [],
   "source": []
  }
 ],
 "metadata": {
  "kernelspec": {
   "display_name": "Python 2",
   "language": "python",
   "name": "python2"
  },
  "language_info": {
   "codemirror_mode": {
    "name": "ipython",
    "version": 2
   },
   "file_extension": ".py",
   "mimetype": "text/x-python",
   "name": "python",
   "nbconvert_exporter": "python",
   "pygments_lexer": "ipython2",
   "version": "2.7.12"
  }
 },
 "nbformat": 4,
 "nbformat_minor": 1
}
