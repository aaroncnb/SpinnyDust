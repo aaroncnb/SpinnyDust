{
 "cells": [
  {
   "cell_type": "code",
   "execution_count": 4,
   "metadata": {},
   "outputs": [],
   "source": [
    "#from IPython.external import mathjax; mathjax.install_mathjax()\n",
    "import numpy as np\n",
    "import matplotlib.pyplot as plt\n",
    "import astropy.io.fits as fits\n",
    "import pandas as pd\n",
    "import pickle\n",
    "import seaborn as sb\n",
    "%matplotlib inline"
   ]
  },
  {
   "cell_type": "code",
   "execution_count": 5,
   "metadata": {},
   "outputs": [
    {
     "data": {
      "text/plain": [
       "{'axes.axisbelow': True,\n",
       " 'axes.edgecolor': '.15',\n",
       " 'axes.facecolor': 'white',\n",
       " 'axes.grid': False,\n",
       " 'axes.labelcolor': '.15',\n",
       " 'axes.linewidth': 1.25,\n",
       " 'figure.facecolor': 'white',\n",
       " 'font.family': ['sans-serif'],\n",
       " 'font.sans-serif': ['Arial',\n",
       "  'Liberation Sans',\n",
       "  'Bitstream Vera Sans',\n",
       "  'sans-serif'],\n",
       " 'grid.color': '.8',\n",
       " 'grid.linestyle': '-',\n",
       " 'image.cmap': 'Greys',\n",
       " 'legend.frameon': False,\n",
       " 'legend.numpoints': 1,\n",
       " 'legend.scatterpoints': 1,\n",
       " 'lines.solid_capstyle': 'round',\n",
       " 'text.color': '.15',\n",
       " 'xtick.color': '.15',\n",
       " 'xtick.direction': 'out',\n",
       " 'xtick.major.size': 0,\n",
       " 'xtick.minor.size': 0,\n",
       " 'ytick.color': '.15',\n",
       " 'ytick.direction': 'out',\n",
       " 'ytick.major.size': 0,\n",
       " 'ytick.minor.size': 0}"
      ]
     },
     "execution_count": 5,
     "metadata": {},
     "output_type": "execute_result"
    }
   ],
   "source": [
    "with open('../Data/maps_nest.pickle') as f:  # Python 3: open(..., 'rb')\n",
    "    coords, planck_bb, planck_mw,  phot, phot_modesub, phot_mpsub = pickle.load(f)\n",
    "planck_bb.columns\n",
    "\n"
   ]
  },
  {
   "cell_type": "code",
   "execution_count": 6,
   "metadata": {},
   "outputs": [
    {
     "name": "stdout",
     "output_type": "stream",
     "text": [
      "0.991409848538\n"
     ]
    }
   ],
   "source": [
    "# Chapter 1:\n",
    "### Data dimensionality\n",
    "from sklearn.decomposition import PCA\n",
    "\n",
    "def getPCA(X, n_components=12, whiten=True): # In principle, you can have as many components as input vectors\n",
    "    \n",
    "    X_ = X.dropna()\n",
    "    # Principal component analysis\n",
    "    pca = PCA(n_components=n_components, whiten=whiten)\n",
    "    S_pca_ = pca.fit(X_).transform(X_)\n",
    "  \n",
    "    return S_pca_, pca\n",
    "\n",
    "S_pca_, pca = getPCA(phot_mpsub)\n",
    "\n",
    "print pca.explained_variance_ratio_[0]+pca.explained_variance_ratio_[1]+pca.explained_variance_ratio_[2]\n",
    "#+pca.explained_variance_ratio_[3]+pca.explained_variance_ratio_[4]"
   ]
  },
  {
   "cell_type": "code",
   "execution_count": null,
   "metadata": {},
   "outputs": [],
   "source": []
  }
 ],
 "metadata": {
  "kernelspec": {
   "display_name": "Python 2",
   "language": "python",
   "name": "python2"
  },
  "language_info": {
   "codemirror_mode": {
    "name": "ipython",
    "version": 2
   },
   "file_extension": ".py",
   "mimetype": "text/x-python",
   "name": "python",
   "nbconvert_exporter": "python",
   "pygments_lexer": "ipython2",
   "version": "2.7.12"
  },
  "latex_envs": {
   "LaTeX_envs_menu_present": true,
   "autocomplete": true,
   "bibliofile": "biblio.bib",
   "cite_by": "apalike",
   "current_citInitial": 1,
   "eqLabelWithNumbers": true,
   "eqNumInitial": 1,
   "hotkeys": {
    "equation": "Ctrl-E",
    "itemize": "Ctrl-I"
   },
   "labels_anchors": false,
   "latex_user_defs": false,
   "report_style_numbering": false,
   "user_envs_cfg": false
  }
 },
 "nbformat": 4,
 "nbformat_minor": 2
}
