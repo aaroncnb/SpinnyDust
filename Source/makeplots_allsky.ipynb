{
 "cells": [
  {
   "cell_type": "markdown",
   "metadata": {},
   "source": [
    "### All-sky AME vs. IR Scatter Plots"
   ]
  },
  {
   "cell_type": "code",
   "execution_count": null,
   "metadata": {
    "collapsed": true
   },
   "outputs": [],
   "source": []
  },
  {
   "cell_type": "code",
   "execution_count": 3,
   "metadata": {
    "collapsed": false,
    "scrolled": true,
    "slideshow": {
     "slide_type": "skip"
    }
   },
   "outputs": [],
   "source": [
    "%matplotlib inline\n",
    "#from IPython.external import mathjax; mathjax.install_mathjax()\n",
    "import matplotlib\n",
    "import numpy as np\n",
    "import matplotlib.pyplot as plt\n",
    "import healpy as hp\n",
    "import healpy.projector as pro\n",
    "import astropy.io.fits as fits\n",
    "from scipy.stats import gaussian_kde\n",
    "import scipy\n",
    "import pandas as pd\n",
    "import pickle"
   ]
  },
  {
   "cell_type": "code",
   "execution_count": 4,
   "metadata": {
    "collapsed": false
   },
   "outputs": [
    {
     "data": {
      "text/html": [
       "<div>\n",
       "<table border=\"1\" class=\"dataframe\">\n",
       "  <thead>\n",
       "    <tr style=\"text-align: right;\">\n",
       "      <th></th>\n",
       "      <th>A9</th>\n",
       "      <th>D12</th>\n",
       "      <th>I12</th>\n",
       "      <th>W12</th>\n",
       "      <th>A18</th>\n",
       "      <th>D25</th>\n",
       "      <th>I25</th>\n",
       "      <th>D60</th>\n",
       "      <th>I60</th>\n",
       "      <th>A65</th>\n",
       "      <th>A90</th>\n",
       "      <th>D100</th>\n",
       "      <th>I100</th>\n",
       "      <th>D140</th>\n",
       "      <th>A140</th>\n",
       "      <th>A160</th>\n",
       "      <th>D240</th>\n",
       "      <th>P857</th>\n",
       "      <th>P545</th>\n",
       "    </tr>\n",
       "  </thead>\n",
       "  <tbody>\n",
       "    <tr>\n",
       "      <th>0</th>\n",
       "      <td>NaN</td>\n",
       "      <td>1.083658</td>\n",
       "      <td>1.071264</td>\n",
       "      <td>0.018346</td>\n",
       "      <td>NaN</td>\n",
       "      <td>2.099690</td>\n",
       "      <td>2.142549</td>\n",
       "      <td>0.610734</td>\n",
       "      <td>0.598758</td>\n",
       "      <td>2.073384</td>\n",
       "      <td>1.688520</td>\n",
       "      <td>1.546775</td>\n",
       "      <td>1.529856</td>\n",
       "      <td>0.787866</td>\n",
       "      <td>2.403259</td>\n",
       "      <td>2.195928</td>\n",
       "      <td>0.991204</td>\n",
       "      <td>0.583666</td>\n",
       "      <td>0.258794</td>\n",
       "    </tr>\n",
       "    <tr>\n",
       "      <th>1</th>\n",
       "      <td>NaN</td>\n",
       "      <td>1.091430</td>\n",
       "      <td>1.045220</td>\n",
       "      <td>0.017045</td>\n",
       "      <td>NaN</td>\n",
       "      <td>2.119253</td>\n",
       "      <td>2.171547</td>\n",
       "      <td>0.690011</td>\n",
       "      <td>0.596552</td>\n",
       "      <td>1.928738</td>\n",
       "      <td>1.394335</td>\n",
       "      <td>1.506179</td>\n",
       "      <td>1.455086</td>\n",
       "      <td>3.546372</td>\n",
       "      <td>2.527890</td>\n",
       "      <td>2.874538</td>\n",
       "      <td>0.672390</td>\n",
       "      <td>0.620408</td>\n",
       "      <td>0.269439</td>\n",
       "    </tr>\n",
       "    <tr>\n",
       "      <th>2</th>\n",
       "      <td>NaN</td>\n",
       "      <td>1.093857</td>\n",
       "      <td>1.064194</td>\n",
       "      <td>0.012653</td>\n",
       "      <td>NaN</td>\n",
       "      <td>2.122237</td>\n",
       "      <td>2.159359</td>\n",
       "      <td>0.697645</td>\n",
       "      <td>0.596992</td>\n",
       "      <td>1.806098</td>\n",
       "      <td>1.456207</td>\n",
       "      <td>1.512805</td>\n",
       "      <td>1.544730</td>\n",
       "      <td>3.832097</td>\n",
       "      <td>2.485977</td>\n",
       "      <td>2.421713</td>\n",
       "      <td>0.951366</td>\n",
       "      <td>0.629106</td>\n",
       "      <td>0.272736</td>\n",
       "    </tr>\n",
       "    <tr>\n",
       "      <th>3</th>\n",
       "      <td>NaN</td>\n",
       "      <td>1.082492</td>\n",
       "      <td>1.066986</td>\n",
       "      <td>0.029448</td>\n",
       "      <td>NaN</td>\n",
       "      <td>2.092455</td>\n",
       "      <td>2.135687</td>\n",
       "      <td>0.612444</td>\n",
       "      <td>0.616380</td>\n",
       "      <td>2.072155</td>\n",
       "      <td>1.593516</td>\n",
       "      <td>1.554953</td>\n",
       "      <td>1.524600</td>\n",
       "      <td>0.697479</td>\n",
       "      <td>2.373043</td>\n",
       "      <td>2.408980</td>\n",
       "      <td>0.558173</td>\n",
       "      <td>0.612663</td>\n",
       "      <td>0.284378</td>\n",
       "    </tr>\n",
       "    <tr>\n",
       "      <th>4</th>\n",
       "      <td>NaN</td>\n",
       "      <td>1.086391</td>\n",
       "      <td>1.082960</td>\n",
       "      <td>0.003322</td>\n",
       "      <td>NaN</td>\n",
       "      <td>2.100158</td>\n",
       "      <td>2.150484</td>\n",
       "      <td>0.644721</td>\n",
       "      <td>0.611308</td>\n",
       "      <td>2.598172</td>\n",
       "      <td>1.715493</td>\n",
       "      <td>1.545120</td>\n",
       "      <td>1.503084</td>\n",
       "      <td>1.173915</td>\n",
       "      <td>2.235033</td>\n",
       "      <td>2.398738</td>\n",
       "      <td>1.534221</td>\n",
       "      <td>0.521117</td>\n",
       "      <td>0.238315</td>\n",
       "    </tr>\n",
       "  </tbody>\n",
       "</table>\n",
       "</div>"
      ],
      "text/plain": [
       "   A9       D12       I12       W12  A18       D25       I25       D60  \\\n",
       "0 NaN  1.083658  1.071264  0.018346  NaN  2.099690  2.142549  0.610734   \n",
       "1 NaN  1.091430  1.045220  0.017045  NaN  2.119253  2.171547  0.690011   \n",
       "2 NaN  1.093857  1.064194  0.012653  NaN  2.122237  2.159359  0.697645   \n",
       "3 NaN  1.082492  1.066986  0.029448  NaN  2.092455  2.135687  0.612444   \n",
       "4 NaN  1.086391  1.082960  0.003322  NaN  2.100158  2.150484  0.644721   \n",
       "\n",
       "        I60       A65       A90      D100      I100      D140      A140  \\\n",
       "0  0.598758  2.073384  1.688520  1.546775  1.529856  0.787866  2.403259   \n",
       "1  0.596552  1.928738  1.394335  1.506179  1.455086  3.546372  2.527890   \n",
       "2  0.596992  1.806098  1.456207  1.512805  1.544730  3.832097  2.485977   \n",
       "3  0.616380  2.072155  1.593516  1.554953  1.524600  0.697479  2.373043   \n",
       "4  0.611308  2.598172  1.715493  1.545120  1.503084  1.173915  2.235033   \n",
       "\n",
       "       A160      D240      P857      P545  \n",
       "0  2.195928  0.991204  0.583666  0.258794  \n",
       "1  2.874538  0.672390  0.620408  0.269439  \n",
       "2  2.421713  0.951366  0.629106  0.272736  \n",
       "3  2.408980  0.558173  0.612663  0.284378  \n",
       "4  2.398738  1.534221  0.521117  0.238315  "
      ]
     },
     "execution_count": 4,
     "metadata": {},
     "output_type": "execute_result"
    }
   ],
   "source": [
    "with open('../Data/maps.pickle') as f:  # Python 3: open(..., 'rb')\n",
    "    coords, planck_bb, planck_mw, phot, phot_modesub = pickle.load(f)\n",
    "    \n",
    "phot.head()\n",
    "#planck_bb.head()\n",
    "#planck_mw.head()\n",
    "#coords.head()"
   ]
  },
  {
   "cell_type": "code",
   "execution_count": 49,
   "metadata": {
    "collapsed": false
   },
   "outputs": [],
   "source": [
    "glatrange     = 10.0\n",
    "glatrange_mid = 2.5\n",
    "elatrange     = 10\n",
    "\n",
    "\n",
    "gcut_l = np.where((abs(coords['glat']) < glatrange) & (abs(coords['elat']) > elatrange))\n",
    "gcut_h = np.where((abs(coords['glat']) > glatrange) & (abs(coords['elat']) > elatrange))\n",
    "\n",
    "\n",
    "\n",
    "\n",
    "\n"
   ]
  },
  {
   "cell_type": "code",
   "execution_count": 9,
   "metadata": {
    "collapsed": false
   },
   "outputs": [],
   "source": [
    "from sklearn.pipeline import Pipeline\n",
    "from sklearn.preprocessing import Imputer\n",
    "from sklearn.preprocessing import StandardScaler\n",
    "\n",
    "\n",
    "### Setup the standard pipeline to apply to all the data:\n",
    "allsky_pipeline = Pipeline([\n",
    "    ('imputer', Imputer(strategy=\"median\")),\n",
    "    ('std_scaler', StandardScaler()),\n",
    "])\n",
    "\n",
    "phot_tr = pd.DataFrame(allsky_pipeline.fit_transform(phot),columns=phot.columns)\n",
    "planck_bb_tr = pd.DataFrame(allsky_pipeline.fit_transform(planck_bb),columns=planck_bb.columns)\n",
    "planck_mw_tr = pd.DataFrame(allsky_pipeline.fit_transform(planck_mw),columns=planck_mw.columns)\n",
    "\n",
    "\n",
    "phot_corr = phot_tr.corr(method='spearman')\n",
    "planck_bb_corr = planck_bb_tr.corr(method='spearman')\n",
    "planck_mw_corr = planck_mw_tr.corr(method='spearman')\n"
   ]
  },
  {
   "cell_type": "code",
   "execution_count": 50,
   "metadata": {
    "collapsed": false
   },
   "outputs": [],
   "source": [
    "import seaborn as sb\n",
    "phot_corr     = phot_tr.join(planck_mw_tr['AME']).corr(method='spearman')\n",
    "phot_corr_lgl = phot_tr.join(planck_mw_tr['AME']).iloc[gcut_l].corr(method='spearman')\n",
    "phot_corr_hgl = phot_tr.join(planck_mw_tr['AME']).iloc[gcut_h].corr(method='spearman')"
   ]
  },
  {
   "cell_type": "code",
   "execution_count": 73,
   "metadata": {
    "collapsed": false
   },
   "outputs": [
    {
     "data": {
      "image/png": "[encoded data removed]",
      "text/plain": [
       "<matplotlib.figure.Figure at 0x7efc26d62510>"
      ]
     },
     "metadata": {},
     "output_type": "display_data"
    }
   ],
   "source": [
    "#bb_corr_drop = bb_corr.drop('AME',axis=0).drop('A9',axis=1)\n",
    "mask = np.zeros_like(phot_corr.values)\n",
    "mask[np.triu_indices_from(mask,k=1)] = True\n",
    "\n",
    "with sb.axes_style(\"white\"):\n",
    "\n",
    "    \n",
    "    fig, ax = plt.subplots(1,3,figsize=(15,5))\n",
    "    cbar_ax = fig.add_axes([.91, .2, .03, .7])\n",
    "    \n",
    "    sb.heatmap(\n",
    "        phot_corr,\n",
    "        #linewidths=.5,\n",
    "        annot=False,\n",
    "        mask=mask,\n",
    "        cbar=False,\n",
    "        yticklabels=True,\n",
    "        xticklabels=True,\n",
    "        ax = ax[0],\n",
    "        vmin=0,\n",
    "        vmax=1)\n",
    "    \n",
    "    ax[0].set_title(\"All-sky\", fontsize=20)\n",
    "\n",
    "    \n",
    "    sb.heatmap(\n",
    "        phot_corr_hgl,\n",
    "        #linewidths=.5,\n",
    "        annot=False,\n",
    "        mask=mask,\n",
    "        cbar=False,\n",
    "        yticklabels=False,\n",
    "        xticklabels=False,\n",
    "        ax=ax[1],\n",
    "        vmin=0,\n",
    "        vmax=1)\n",
    "    \n",
    "    ax[1].set_title(\"|GLAT| > 10\", fontsize=20)\n",
    "\n",
    "    \n",
    "    \n",
    "    sb.heatmap(\n",
    "        phot_corr_lgl,\n",
    "        #linewidths=.5,\n",
    "        annot=False,\n",
    "        mask=mask,\n",
    "        cbar=True,\n",
    "        cbar_ax=cbar_ax,\n",
    "        yticklabels=False,\n",
    "        xticklabels=False,\n",
    "        ax=ax[2],\n",
    "        vmin=0,\n",
    "        vmax=1)\n",
    "    \n",
    "    ax[2].set_title(\"|GLAT| < 10\", fontsize=20)\n",
    "\n",
    "\n",
    "    fig.tight_layout(rect=[0, 0, .9, 1])\n",
    "    \n",
    "    plt.show()\n",
    "\n",
    "    fig.savefig(\"../Plots/all_bands_corr_matrix_wAME_spearman.pdf\", bbox_inches='tight')"
   ]
  },
  {
   "cell_type": "code",
   "execution_count": 81,
   "metadata": {
    "collapsed": false
   },
   "outputs": [
    {
     "data": {
      "image/png": "[encoded data removed]",
      "text/plain": [
       "<matplotlib.figure.Figure at 0x7efc26ccdb10>"
      ]
     },
     "metadata": {},
     "output_type": "display_data"
    }
   ],
   "source": [
    "import seaborn as sb\n",
    "planck_bb_corr = planck_bb_tr.join(phot_tr['A9']).join(planck_mw_tr['AME']).corr(method='spearman')\n",
    "#bb_corr_drop = bb_corr.drop('AME',axis=0).drop('A9',axis=1)\n",
    "mask = np.zeros_like(planck_bb_corr.values)\n",
    "mask[np.triu_indices_from(mask,k=1)] = True\n",
    "\n",
    "\n",
    "\n",
    "with sb.axes_style(\"white\"):\n",
    "    \n",
    "    fig = plt.figure(figsize=(12,10))\n",
    "    sb.heatmap(\n",
    "        planck_bb_corr,\n",
    "        linewidths=.5,\n",
    "        annot=True,\n",
    "        mask=mask)\n",
    "    \n",
    "    \n",
    "    fig.show()\n",
    "    \n",
    "    plt.title(\"Planck Mod-BB vs. AME and AKARI 9 um emission\",fontsize=15)\n",
    "    \n",
    "    fig.tight_layout(rect=[0, 0, .9, 1])\n",
    "\n",
    "    fig.savefig(\"../Plots/PlanckModBBvsAMEandA9.pdf\", bbox_inches='tight')\n",
    "    \n"
   ]
  },
  {
   "cell_type": "code",
   "execution_count": 75,
   "metadata": {
    "collapsed": false
   },
   "outputs": [],
   "source": [
    "start = -90\n",
    "stop = 90\n",
    "step = 1\n",
    "\n",
    "glat_intervs = np.arange(start,stop,step)\n",
    "\n",
    "glats = [np.where(np.logical_and(coords['glat']>i, coords['glat']< i+1))  for i in glat_intervs]\n",
    "\n"
   ]
  },
  {
   "cell_type": "code",
   "execution_count": null,
   "metadata": {
    "collapsed": false
   },
   "outputs": [],
   "source": [
    "bb_corr_glats = [bba.iloc[i].corr(method='spearman') for i in glats]\n",
    "\n",
    "bb_corr_glats_A9 = [bb_corr_glats[i]['A9']]"
   ]
  },
  {
   "cell_type": "code",
   "execution_count": null,
   "metadata": {
    "collapsed": false
   },
   "outputs": [],
   "source": [
    "try:\n",
    "    p = sb.PairGrid(bb_normd)\n",
    "    p.map_upper(plt.scatter,alpha=0.1)\n",
    "    p.map_lower(sb.kdeplot,cmap = \"Blues_d\")\n",
    "    p.map_diag(sb.kdeplot, lw=3, legend=False)\n",
    "except ValueError:  #raised if `y` is empty.\n",
    "    pass\n",
    "\n"
   ]
  },
  {
   "cell_type": "code",
   "execution_count": null,
   "metadata": {
    "collapsed": true
   },
   "outputs": [],
   "source": [
    "try:\n",
    "    p = sb.PairGrid(bb_normd)\n",
    "    p.map_upper(plt.scatter)\n",
    "    p.map_lower(sb.kdeplot,cmap = \"Blues_d\")\n",
    "    g.map_diag(sb.kdeplot, lw=3, legend=False)\n",
    "except ValueError:  #raised if `y` is empty.\n",
    "    pass\n",
    "\n"
   ]
  },
  {
   "cell_type": "code",
   "execution_count": null,
   "metadata": {
    "collapsed": false
   },
   "outputs": [],
   "source": [
    "bba.iloc[glats[40]].corr(method='spearman')\n",
    "#glats"
   ]
  },
  {
   "cell_type": "code",
   "execution_count": null,
   "metadata": {
    "collapsed": false
   },
   "outputs": [],
   "source": [
    "bb_corr_glats_pn = pd.Panel({i: bb_corr_glats[i] for i in glat_intervs})"
   ]
  },
  {
   "cell_type": "code",
   "execution_count": null,
   "metadata": {
    "collapsed": false
   },
   "outputs": [],
   "source": [
    "X = glat_intervs\n",
    "\n",
    "Y = bb_corr_glats_pn.values[:,:,0]\n",
    "\n",
    "plt.figure(figsize=(12,12))\n",
    "\n",
    "for i in range(1,5):\n",
    "    plt.scatter(X,Y[:,i], alpha=0.7, label=bba.columns[i])\n",
    "plt.legend(loc=1,prop={'size':15},fancybox=True, framealpha=0.9)\n",
    "#leg.get_frame().set_alpha(0.5)\n",
    "plt.xlim(-90,90)\n",
    "plt.ylabel(\"Spearman Rank Coefficient (rel. to AME)\")\n",
    "plt.xlabel(\"Galactic Latitude [1-deg. bins]\")\n",
    "plt.xkcd()\n",
    "plt.show()\n",
    "plt.close()\n",
    "# plt.hist(bb_corr_glats_pn.dropna().values[:,2,0], bins=10, alpha=0.4, label='Beta')\n",
    "# plt.hist(bb_corr_glats_pn.dropna().values[:,3,0], bins=10, alpha=0.4, label='FIR')\n",
    "# plt.hist(bb_corr_glats_pn.dropna().values[:,4,0], bins=10, alpha=0.4, label='A9')\n"
   ]
  },
  {
   "cell_type": "code",
   "execution_count": null,
   "metadata": {
    "collapsed": false
   },
   "outputs": [],
   "source": [
    "plt.figure(figsize=(10,10))\n",
    "plt.hist(bb_corr_glats_pn.dropna().values[:,1,0], bins=10, alpha=0.4, label='T')\n",
    "plt.hist(bb_corr_glats_pn.dropna().values[:,2,0], bins=10, alpha=0.4, label='Beta')\n",
    "plt.hist(bb_corr_glats_pn.dropna().values[:,3,0], bins=10, alpha=0.4, label='FIR')\n",
    "plt.hist(bb_corr_glats_pn.dropna().values[:,4,0], bins=10, alpha=0.4, label='A9')\n",
    "plt.legend()\n",
    "#plt.xkcd()\n",
    "#plt.plot[bb_corr_glats_pn.values[]])"
   ]
  },
  {
   "cell_type": "code",
   "execution_count": null,
   "metadata": {
    "collapsed": false
   },
   "outputs": [],
   "source": [
    "labels = [str(bb.columns[i]) for i in range(0,5)]\n",
    "plt.figure(figsize=(5,5))\n",
    "\n",
    "for i in range(0,np.size(S_ica_,axis=1)):\n",
    "#for i in range(1,2):\n",
    "    plt.subplot(3,2,i+1)\n",
    "    \n",
    "    x_ = range(0,np.size(ica.components_,axis=1))\n",
    "    y_ = ica.components_[i]\n",
    "    \n",
    "    #fig, ax = plt.subplots()\n",
    "    plt.scatter(x_,y_)\n",
    "    for i, txt in enumerate(labels):\n",
    "        #print x_[i], y_[i], labels[i]\n",
    "        plt.annotate(labels[i], (x_[i],y_[i]))\n",
    "        \n",
    "    \n",
    "    #plt.xscale('log')\n",
    "    #plt.yscale('log')\n",
    "    #plt.xlim(8,1000)\n",
    "    #plt.xlabel(\"Wavelength (microns)       [EV_\"+str(i)+\"] \"+str(round(eig_values[i]/sum(eig_values)*100,2))+\"%\")\n",
    "    plt.ylabel(\"Relative Contribution\")\n",
    "    #plt.show()\n",
    "    #plt.close()\n",
    "    \n",
    "    "
   ]
  },
  {
   "cell_type": "code",
   "execution_count": null,
   "metadata": {
    "collapsed": false
   },
   "outputs": [],
   "source": [
    "labels = [str(bb.columns[i]) for i in range(0,5)]\n",
    "plt.figure(figsize=(20,20))\n",
    "\n",
    "for i in range(0,np.size(S_pca_,axis=1)):\n",
    "#for i in range(1,2):\n",
    "    plt.subplot(3,2,i+1)\n",
    "    \n",
    "    x_ = range(0,np.size(pca.components_,axis=1))\n",
    "    y_ = pca.components_[i]\n",
    "    \n",
    "    #fig, ax = plt.subplots()\n",
    "    plt.scatter(x_,y_)\n",
    "    for i, txt in enumerate(labels):\n",
    "        #print x_[i], y_[i], labels[i]\n",
    "        plt.annotate(labels[i], (x_[i],y_[i]))\n",
    "        \n",
    "    \n",
    "    #plt.xscale('log')\n",
    "    #plt.yscale('log')\n",
    "    #plt.xlim(8,1000)\n",
    "    #plt.xlabel(\"Wavelength (microns)       [EV_\"+str(i)+\"] \"+str(round(eig_values[i]/sum(eig_values)*100,2))+\"%\")\n",
    "    plt.ylabel(\"Relative Contribution\")\n",
    "    #plt.show()\n",
    "    #plt.close()"
   ]
  },
  {
   "cell_type": "code",
   "execution_count": null,
   "metadata": {
    "collapsed": false
   },
   "outputs": [],
   "source": [
    "plt.figure(figsize=(20,20))\n",
    "plt.scatter(S_pca_[:,0], S_pca_[:,1], alpha= 0.1)"
   ]
  },
  {
   "cell_type": "code",
   "execution_count": null,
   "metadata": {
    "collapsed": false
   },
   "outputs": [],
   "source": [
    "plt.figure(figsize=(20,20))\n",
    "plt.scatter(S_ica_[:,0], S_ica_[:,1], alpha= 0.1)"
   ]
  },
  {
   "cell_type": "code",
   "execution_count": null,
   "metadata": {
    "collapsed": false
   },
   "outputs": [],
   "source": [
    "plt.figure(figsize=(20,20))\n",
    "plt.scatter(S_nmf_[:,0], S_nmf_[:,1], alpha= 0.1)"
   ]
  },
  {
   "cell_type": "code",
   "execution_count": null,
   "metadata": {
    "collapsed": false
   },
   "outputs": [],
   "source": [
    "model = TSNE(\n",
    "    n_components=2,\n",
    "    random_state=42,\n",
    "    perplexity=50,\n",
    "    verbose=2\n",
    "        )\n",
    "np.set_printoptions(suppress=True)\n",
    "# for i in range(0,100):\n",
    "#     try:\n",
    "#         model.fit_transform(X[::i]) \n",
    "#     except:\n",
    "#         print \"Memory Error\""
   ]
  },
  {
   "cell_type": "code",
   "execution_count": null,
   "metadata": {
    "collapsed": false
   },
   "outputs": [],
   "source": [
    "S_tsne =model.fit_transform(X[::100]) "
   ]
  },
  {
   "cell_type": "code",
   "execution_count": null,
   "metadata": {
    "collapsed": false
   },
   "outputs": [],
   "source": [
    "plt.figure(figsize=(20,20))\n",
    "plt.scatter(S_tsne[:,0],S_tsne[:,1], alpha=0.2)\n"
   ]
  },
  {
   "cell_type": "code",
   "execution_count": null,
   "metadata": {
    "collapsed": false
   },
   "outputs": [],
   "source": [
    "model = TSNE(\n",
    "    n_components=2,\n",
    "    random_state=42,\n",
    "    perplexity=25,\n",
    "    verbose=2\n",
    "        )\n",
    "#np.set_printoptions(suppress=True)\n",
    "# for i in range(0,100):\n",
    "#     try:\n",
    "#         model.fit_transform(X[::i]) \n",
    "#     except:\n",
    "#         print \"Memory Error\"\n",
    "\n",
    "S_tsne =model.fit_transform(X[::100]) \n",
    "\n",
    "plt.figure(figsize=(20,20))\n",
    "plt.scatter(S_tsne[:,0],S_tsne[:,1], alpha=0.2)"
   ]
  },
  {
   "cell_type": "code",
   "execution_count": null,
   "metadata": {
    "collapsed": false
   },
   "outputs": [],
   "source": [
    "model = TSNE(\n",
    "    n_components=2,\n",
    "    random_state=42,\n",
    "    perplexity=25,\n",
    "    verbose=2\n",
    "        )\n",
    "#np.set_printoptions(suppress=True)\n",
    "# for i in range(0,100):\n",
    "#     try:\n",
    "#         model.fit_transform(X[::i]) \n",
    "#     except:\n",
    "#         print \"Memory Error\"\n",
    "\n",
    "X \n",
    "\n",
    "S_tsne =model.fit_transform(X[gcut_1]) \n",
    "\n",
    "plt.figure(figsize=(20,20))\n",
    "plt.scatter(S_tsne[:,0],S_tsne[:,1], alpha=0.2)"
   ]
  },
  {
   "cell_type": "code",
   "execution_count": null,
   "metadata": {
    "collapsed": false
   },
   "outputs": [],
   "source": [
    "model = TSNE(\n",
    "    n_components=2,\n",
    "    random_state=42,\n",
    "    perplexity=50,\n",
    "    verbose=2\n",
    "        )\n",
    "#np.set_printoptions(suppress=True)\n",
    "# for i in range(0,100):\n",
    "#     try:\n",
    "#         model.fit_transform(X[::i]) \n",
    "#     except:\n",
    "#         print \"Memory Error\"\n",
    "\n",
    "S_tsne =model.fit_transform(X[gcut_2]) \n",
    "\n",
    "plt.figure(figsize=(20,20))\n",
    "plt.scatter(S_tsne[:,0],S_tsne[:,1], alpha=0.2)"
   ]
  },
  {
   "cell_type": "code",
   "execution_count": null,
   "metadata": {
    "collapsed": true
   },
   "outputs": [],
   "source": []
  }
 ],
 "metadata": {
  "kernelspec": {
   "display_name": "Python 2",
   "language": "python",
   "name": "python2"
  },
  "language_info": {
   "codemirror_mode": {
    "name": "ipython",
    "version": 2
   },
   "file_extension": ".py",
   "mimetype": "text/x-python",
   "name": "python",
   "nbconvert_exporter": "python",
   "pygments_lexer": "ipython2",
   "version": "2.7.13"
  }
 },
 "nbformat": 4,
 "nbformat_minor": 0
}
