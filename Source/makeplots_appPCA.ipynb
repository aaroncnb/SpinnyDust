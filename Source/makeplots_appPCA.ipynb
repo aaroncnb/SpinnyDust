{
 "cells": [
  {
   "cell_type": "code",
   "execution_count": 4,
   "metadata": {},
   "outputs": [],
   "source": [
    "#from IPython.external import mathjax; mathjax.install_mathjax()\n",
    "import numpy as np\n",
    "import matplotlib.pyplot as plt\n",
    "import astropy.io.fits as fits\n",
    "import pandas as pd\n",
    "import pickle\n",
    "import seaborn as sb\n",
    "%matplotlib inline"
   ]
  },
  {
   "cell_type": "code",
   "execution_count": 5,
   "metadata": {},
   "outputs": [
    {
     "data": {
      "text/plain": [
       "{'axes.axisbelow': True,\n",
       " 'axes.edgecolor': '.15',\n",
       " 'axes.facecolor': 'white',\n",
       " 'axes.grid': False,\n",
       " 'axes.labelcolor': '.15',\n",
       " 'axes.linewidth': 1.25,\n",
       " 'figure.facecolor': 'white',\n",
       " 'font.family': ['sans-serif'],\n",
       " 'font.sans-serif': ['Arial',\n",
       "  'Liberation Sans',\n",
       "  'Bitstream Vera Sans',\n",
       "  'sans-serif'],\n",
       " 'grid.color': '.8',\n",
       " 'grid.linestyle': '-',\n",
       " 'image.cmap': 'Greys',\n",
       " 'legend.frameon': False,\n",
       " 'legend.numpoints': 1,\n",
       " 'legend.scatterpoints': 1,\n",
       " 'lines.solid_capstyle': 'round',\n",
       " 'text.color': '.15',\n",
       " 'xtick.color': '.15',\n",
       " 'xtick.direction': 'out',\n",
       " 'xtick.major.size': 0,\n",
       " 'xtick.minor.size': 0,\n",
       " 'ytick.color': '.15',\n",
       " 'ytick.direction': 'out',\n",
       " 'ytick.major.size': 0,\n",
       " 'ytick.minor.size': 0}"
      ]
     },
     "execution_count": 5,
     "metadata": {},
     "output_type": "execute_result"
    }
   ],
   "source": [
    "with open('../Data/maps_nest.pickle') as f:  # Python 3: open(..., 'rb')\n",
    "    coords, planck_bb, planck_mw,  phot, phot_modesub, phot_mpsub = pickle.load(f)\n",
    "planck_bb.columns\n",
    "\n"
   ]
  },
  {
   "cell_type": "code",
   "execution_count": 6,
   "metadata": {},
   "outputs": [
    {
     "name": "stdout",
     "output_type": "stream",
     "text": [
      "0.991409848538\n"
     ]
    }
   ],
   "source": [
    "# Chapter 1:\n",
    "### Data dimensionality\n",
    "from sklearn.decomposition import PCA\n",
    "\n",
    "def getPCA(X, n_components=12, whiten=True): # In principle, you can have as many components as input vectors\n",
    "    \n",
    "    X_ = X.dropna()\n",
    "    # Principal component analysis\n",
    "    pca = PCA(n_components=n_components, whiten=whiten)\n",
    "    S_pca_ = pca.fit(X_).transform(X_)\n",
    "  \n",
    "    return S_pca_, pca\n",
    "\n",
    "S_pca_, pca = getPCA(phot_mpsub)\n",
    "\n",
    "print pca.explained_variance_ratio_[0]+pca.explained_variance_ratio_[1]+pca.explained_variance_ratio_[2]\n",
    "#+pca.explained_variance_ratio_[3]+pca.explained_variance_ratio_[4]"
   ]
  },
  {
   "cell_type": "code",
   "execution_count": 12,
   "metadata": {},
   "outputs": [
    {
     "data": {
      "text/plain": [
       "array([  8.91784573e+04,   4.60929251e+03,   5.15707372e+02,\n",
       "         4.44167828e+02,   1.43034320e+02,   9.64289514e+01,\n",
       "         5.08513435e+01,   4.42866700e+01,   2.96735742e+01,\n",
       "         5.89878771e+00,   2.36904577e+00,   3.89473431e-01])"
      ]
     },
     "execution_count": 12,
     "metadata": {},
     "output_type": "execute_result"
    }
   ],
   "source": [
    "pca.explained_variance_"
   ]
  },
  {
   "cell_type": "code",
   "execution_count": 20,
   "metadata": {},
   "outputs": [
    {
     "data": {
      "text/plain": [
       "<Container object of 12 artists>"
      ]
     },
     "execution_count": 20,
     "metadata": {},
     "output_type": "execute_result"
    },
    {
     "data": {
      "image/png": "[encoded data removed]",
      "text/plain": [
       "<matplotlib.figure.Figure at 0x2b2929a56dd0>"
      ]
     },
     "metadata": {},
     "output_type": "display_data"
    }
   ],
   "source": [
    "plt.bar(range(0,np.size(pca.explained_variance_ratio_)),\n",
    "        pca.explained_variance_ratio_[:])"
   ]
  },
  {
   "cell_type": "code",
   "execution_count": 22,
   "metadata": {},
   "outputs": [
    {
     "ename": "NameError",
     "evalue": "name 'mwframe' is not defined",
     "output_type": "error",
     "traceback": [
      "\u001b[0;31m---------------------------------------------------------------------------\u001b[0m",
      "\u001b[0;31mNameError\u001b[0m                                 Traceback (most recent call last)",
      "\u001b[0;32m<ipython-input-22-e22a22aa2791>\u001b[0m in \u001b[0;36m<module>\u001b[0;34m()\u001b[0m\n\u001b[0;32m----> 1\u001b[0;31m \u001b[0mplt\u001b[0m\u001b[0;34m.\u001b[0m\u001b[0mscatter\u001b[0m\u001b[0;34m(\u001b[0m\u001b[0mpca\u001b[0m\u001b[0;34m.\u001b[0m\u001b[0mcomponents_\u001b[0m\u001b[0;34m[\u001b[0m\u001b[0;36m1\u001b[0m\u001b[0;34m]\u001b[0m\u001b[0;34m,\u001b[0m \u001b[0mmwframe\u001b[0m\u001b[0;34m.\u001b[0m\u001b[0mcolumns\u001b[0m\u001b[0;34m)\u001b[0m\u001b[0;34m\u001b[0m\u001b[0m\n\u001b[0m",
      "\u001b[0;31mNameError\u001b[0m: name 'mwframe' is not defined"
     ]
    }
   ],
   "source": [
    "plt.scatter(pca.components_[1], mwframe.columns)"
   ]
  },
  {
   "cell_type": "code",
   "execution_count": null,
   "metadata": {},
   "outputs": [],
   "source": []
  }
 ],
 "metadata": {
  "kernelspec": {
   "display_name": "Python 2",
   "language": "python",
   "name": "python2"
  },
  "language_info": {
   "codemirror_mode": {
    "name": "ipython",
    "version": 2
   },
   "file_extension": ".py",
   "mimetype": "text/x-python",
   "name": "python",
   "nbconvert_exporter": "python",
   "pygments_lexer": "ipython2",
   "version": "2.7.12"
  },
  "latex_envs": {
   "LaTeX_envs_menu_present": true,
   "autocomplete": true,
   "bibliofile": "biblio.bib",
   "cite_by": "apalike",
   "current_citInitial": 1,
   "eqLabelWithNumbers": true,
   "eqNumInitial": 1,
   "hotkeys": {
    "equation": "Ctrl-E",
    "itemize": "Ctrl-I"
   },
   "labels_anchors": false,
   "latex_user_defs": false,
   "report_style_numbering": false,
   "user_envs_cfg": false
  }
 },
 "nbformat": 4,
 "nbformat_minor": 2
}
