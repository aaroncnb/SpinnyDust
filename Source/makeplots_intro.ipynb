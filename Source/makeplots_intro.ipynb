{
 "cells": [
  {
   "cell_type": "markdown",
   "metadata": {},
   "source": [
    "%\\begin{center}\n",
    "%\\begin{equation}\n",
    "%j_{ff,\\nu}=\\frac{8}{3}(\\frac{2\\pi}{3})^{1/2}g_{ff,i}\\frac{e^6}{m^{2}_{e}c^{3}}\n",
    "%(\\frac{m_{e}}{kT})^{1/2}e^{\\frac{-h\\nu{}}{kT}}n_{e}Z^{2}_{i}n_{i}\n",
    "%\\end{equation}\n",
    "%\\end{center}"
   ]
  },
  {
   "cell_type": "markdown",
   "metadata": {},
   "source": [
    "$j_{ff,\\nu}=\\frac{8}{3}(\\frac{2\\pi}{3})^{1/2}g_{ff,i}\\frac{e^6}{m^{2}_{e}c^{3}}(\\frac{m_{e}}{kT})^{1/2}e^{\\frac{-h\\nu{}}{kT}}n_{e}Z^{2}_{i}n_{i}$"
   ]
  },
  {
   "cell_type": "code",
   "execution_count": null,
   "metadata": {},
   "outputs": [],
   "source": []
  }
 ],
 "metadata": {
  "kernelspec": {
   "display_name": "Python 2",
   "language": "python",
   "name": "python2"
  },
  "language_info": {
   "codemirror_mode": {
    "name": "ipython",
    "version": 2
   },
   "file_extension": ".py",
   "mimetype": "text/x-python",
   "name": "python",
   "nbconvert_exporter": "python",
   "pygments_lexer": "ipython2",
   "version": "2.7.12"
  },
  "latex_envs": {
   "LaTeX_envs_menu_present": true,
   "autocomplete": true,
   "bibliofile": "biblio.bib",
   "cite_by": "apalike",
   "current_citInitial": 1,
   "eqLabelWithNumbers": true,
   "eqNumInitial": 1,
   "hotkeys": {
    "equation": "Ctrl-E",
    "itemize": "Ctrl-I"
   },
   "labels_anchors": false,
   "latex_user_defs": false,
   "report_style_numbering": false,
   "user_envs_cfg": false
  }
 },
 "nbformat": 4,
 "nbformat_minor": 2
}
