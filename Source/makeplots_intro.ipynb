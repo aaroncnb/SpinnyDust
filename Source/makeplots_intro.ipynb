{
 "cells": [
  {
   "cell_type": "markdown",
   "metadata": {},
   "source": [
    "%\\begin{center}\n",
    "%\\begin{equation}\n",
    "%j_{ff,\\nu}=\\frac{8}{3}(\\frac{2\\pi}{3})^{1/2}g_{ff,i}\\frac{e^6}{m^{2}_{e}c^{3}}\n",
    "%(\\frac{m_{e}}{kT})^{1/2}e^{\\frac{-h\\nu{}}{kT}}n_{e}Z^{2}_{i}n_{i}\n",
    "%\\end{equation}\n",
    "%\\end{center}"
   ]
  },
  {
   "cell_type": "code",
   "execution_count": 2,
   "metadata": {},
   "outputs": [],
   "source": [
    "import os\n",
    "import astropy\n",
    "import astropy.io.fits as fits\n",
    "import astropy.units as u\n",
    "import numpy as np\n",
    "import healpy as hp\n",
    "import pandas as pd\n",
    "import matplotlib.pyplot as plt\n",
    "import seaborn as sb\n",
    "import matplotlib\n",
    "matplotlib.rcParams.update({'font.size': 22})\n",
    "%matplotlib inline"
   ]
  },
  {
   "cell_type": "markdown",
   "metadata": {},
   "source": [
    "# Make Microwave Foreggrounds demo SED:"
   ]
  },
  {
   "cell_type": "markdown",
   "metadata": {},
   "source": [
    "$j_{ff,\\nu}=\\frac{8}{3}(\\frac{2\\pi}{3})^{1/2}g_{ff,i}\\frac{e^6}{m^{2}_{e}c^{3}}(\\frac{m_{e}}{kT})^{1/2}e^{\\frac{-h\\nu{}}{kT}}n_{e}Z^{2}_{i}n_{i}$\n",
    "\n",
    "where g_{ff,i} is the Gaunt factor (subject to its own uncertainties)"
   ]
  },
  {
   "cell_type": "markdown",
   "metadata": {},
   "source": [
    "### Import WMAP data"
   ]
  },
  {
   "cell_type": "code",
   "execution_count": 3,
   "metadata": {},
   "outputs": [
    {
     "name": "stdout",
     "output_type": "stream",
     "text": [
      "NSIDE = 512\n",
      "ORDERING = NESTED in fits file\n",
      "INDXSCHM = IMPLICIT\n"
     ]
    },
    {
     "name": "stderr",
     "output_type": "stream",
     "text": [
      "/work1/users/aaronb/Softbrary/Anaconda/lib/python2.7/site-packages/healpy/fitsfunc.py:326: UserWarning: No INDXSCHM keyword in header file : assume IMPLICIT\n",
      "  \"assume {}\".format(schm))\n"
     ]
    },
    {
     "name": "stdout",
     "output_type": "stream",
     "text": [
      "NSIDE = 512\n",
      "ORDERING = NESTED in fits file\n",
      "INDXSCHM = IMPLICIT\n",
      "NSIDE = 512\n",
      "ORDERING = NESTED in fits file\n",
      "INDXSCHM = IMPLICIT\n",
      "NSIDE = 512\n",
      "ORDERING = NESTED in fits file\n",
      "INDXSCHM = IMPLICIT\n",
      "NSIDE = 512\n",
      "ORDERING = NESTED in fits file\n",
      "INDXSCHM = IMPLICIT\n"
     ]
    }
   ],
   "source": [
    "wmaplist = ['K','Ka','Q','V','W']\n",
    "wmapfreqlist = [23,33,41,61,94]\n",
    "\n",
    "wmapframe = pd.DataFrame()\n",
    "\n",
    "for i in range(0,len(wmaplist)):\n",
    "    \n",
    "    band = wmaplist[i]\n",
    "    freq = wmapfreqlist[i]\n",
    "    \n",
    "    wmapfilen = '../Data/raw/WMAP/wmap_band_imap_r9_5yr_{}_v3.fits'.format(band)\n",
    "\n",
    "    \n",
    "    map512 = hp.read_map(wmapfilen\n",
    "                         , nest=True)\n",
    "    \n",
    "    map256 = hp.ud_grade(map512, \n",
    "                      nside_out = 256, \n",
    "                      order_in = 'NESTED', \n",
    "                      order_out = 'NESTED',\n",
    "                      pess=True)\n",
    "    \n",
    "    wmapframe[freq] = map256"
   ]
  },
  {
   "cell_type": "markdown",
   "metadata": {},
   "source": [
    "### Import Planck Data"
   ]
  },
  {
   "cell_type": "code",
   "execution_count": 4,
   "metadata": {},
   "outputs": [
    {
     "name": "stdout",
     "output_type": "stream",
     "text": [
      "NSIDE = 2048\n",
      "ORDERING = NESTED in fits file\n",
      "INDXSCHM = IMPLICIT\n",
      "NSIDE = 2048\n",
      "ORDERING = NESTED in fits file\n",
      "INDXSCHM = IMPLICIT\n",
      "NSIDE = 2048\n",
      "ORDERING = NESTED in fits file\n",
      "INDXSCHM = IMPLICIT\n",
      "NSIDE = 2048\n",
      "ORDERING = NESTED in fits file\n",
      "INDXSCHM = IMPLICIT\n",
      "NSIDE = 2048\n",
      "ORDERING = NESTED in fits file\n",
      "INDXSCHM = IMPLICIT\n",
      "NSIDE = 2048\n",
      "ORDERING = NESTED in fits file\n",
      "INDXSCHM = IMPLICIT\n",
      "NSIDE = 256\n",
      "ORDERING = NESTED in fits file\n",
      "INDXSCHM = IMPLICIT\n",
      "NSIDE = 256\n",
      "ORDERING = NESTED in fits file\n",
      "INDXSCHM = IMPLICIT\n",
      "NSIDE = 256\n",
      "ORDERING = NESTED in fits file\n",
      "INDXSCHM = IMPLICIT\n"
     ]
    }
   ],
   "source": [
    "\n",
    "planckpcadir = '/work1/users/aaronb/Codebrary/Python/Projects/PlanckPCA/data/planck'\n",
    "maplist = os.listdir(planckpcadir)\n",
    "\n",
    "mapframe = pd.DataFrame()\n",
    "planckfreqlist = [100,143,217,353,545,857,30,44,70]\n",
    "for i in range(0,len(maplist)):\n",
    "    map = maplist[i]\n",
    "    freq = planckfreqlist[i]\n",
    "    mapframe[freq] = hp.ud_grade(hp.read_map(planckpcadir+\"/\"+map,nest=True), \n",
    "                                       nside_out = 256, \n",
    "                                       order_in = 'NESTED', \n",
    "                                       order_out = 'NESTED')"
   ]
  },
  {
   "cell_type": "markdown",
   "metadata": {},
   "source": [
    "### Convert WMAPs to K from $\\mu$K"
   ]
  },
  {
   "cell_type": "code",
   "execution_count": 5,
   "metadata": {},
   "outputs": [],
   "source": [
    "mwframe = (wmapframe/1000).join(mapframe)"
   ]
  },
  {
   "cell_type": "markdown",
   "metadata": {},
   "source": [
    "### Convert HFI 545 and 857 to K_CMB from Mjy/sr"
   ]
  },
  {
   "cell_type": "code",
   "execution_count": 6,
   "metadata": {},
   "outputs": [],
   "source": [
    "mwframe[857] /= 2.27"
   ]
  },
  {
   "cell_type": "code",
   "execution_count": 7,
   "metadata": {},
   "outputs": [],
   "source": [
    "mwframe[545] /= 58.04"
   ]
  },
  {
   "cell_type": "markdown",
   "metadata": {},
   "source": [
    "### Chose coords for obs example. Calculate emission components. Import spdust template."
   ]
  },
  {
   "cell_type": "code",
   "execution_count": 8,
   "metadata": {},
   "outputs": [],
   "source": [
    "glon = 353.05\n",
    "glat = 16.90\n",
    "\n",
    "pixnum = hp.ang2pix(256,\n",
    "                    glon,\n",
    "                    glat,\n",
    "                    lonlat=True, \n",
    "                     nest=True)\n",
    "\n",
    "# Constants\n",
    "## CMB\n",
    "T_cmb  = 2.7255\n",
    "h      = astropy.constants.h\n",
    "k_B    = astropy.constants.k_B\n",
    "A_cmb  = 1e-3\n",
    "## Dust\n",
    "beta   = 1.7\n",
    "\n",
    "# Templates\n",
    "nu     = np.linspace(0.1,1000,1000)\n",
    "\n",
    "ame_hdu = fits.open('../Data/raw/COM_CompMap_AME-commander_0256_R2.00.fits.gz')\n",
    "#ame_hdu.info()\n",
    "spdust_temp = pd.DataFrame(ame_hdu[3].data)\n",
    "f_sd   = spdust_temp.copy()\n",
    "\n",
    "# Calculations\n",
    "\n",
    "nu_hz  = nu.copy()*1e9\n",
    "x_cmb  = (h*nu_hz*u.Hz)/(k_B*T_cmb*u.K)\n",
    "g      = ((np.exp(x_cmb)-1)**2)/((x_cmb**2)*np.exp(x_cmb))\n",
    "cmb    = A_cmb/g\n",
    "\n",
    "# Emmission components\n",
    "\n",
    "ff     = (nu**(-0.118))*1e-4\n",
    "thdust = (nu**(4+beta))*1e-15\n",
    "sync   = (nu**-1)*1e-4\n",
    "spdust = np.interp(nu, f_sd.NU, f_sd.J_NU)*0.3e15\n",
    "total  = ff + sync + spdust +thdust +cmb"
   ]
  },
  {
   "cell_type": "markdown",
   "metadata": {},
   "source": [
    "### Make the plot"
   ]
  },
  {
   "cell_type": "code",
   "execution_count": 33,
   "metadata": {},
   "outputs": [
    {
     "data": {
      "image/png": "[encoded data removed]",
      "text/plain": [
       "<matplotlib.figure.Figure at 0x2b8df01ddc10>"
      ]
     },
     "metadata": {},
     "output_type": "display_data"
    },
    {
     "data": {
      "image/png": "[encoded data removed]",
      "text/plain": [
       "<matplotlib.figure.Figure at 0x2b8df071e190>"
      ]
     },
     "metadata": {},
     "output_type": "display_data"
    }
   ],
   "source": [
    "def makeExampleSED():\n",
    "    with sb.axes_style(\"white\"):\n",
    "        #plt.figure(figsize=(8,6))\n",
    "        plt.xscale('log')\n",
    "        plt.yscale('log')\n",
    "        plt.xlim(1e1, 1e3)\n",
    "        plt.ylim(1e-6, 1e3)\n",
    "        plt.ylabel('$K_{CMB}$')\n",
    "        plt.xlabel('$\\\\nu$ [GHz]')\n",
    "        \n",
    "        layers = [cmb, sync, ff, thdust, total, spdust]\n",
    "        labels = [\"CMB\",\"Synchrotron\", \"free-free\",\"Thermal dust\",\"Total\",\"AME\"]\n",
    "        \n",
    "        \n",
    "        plt.scatter( mwframe.columns, \n",
    "                     mwframe.iloc[pixnum], \n",
    "                     label = \"WMAP and Planck\")\n",
    "        \n",
    "        plt.errorbar(mwframe.columns, \n",
    "                     mwframe.iloc[pixnum],\n",
    "                     yerr=mwframe.iloc[pixnum]*0.5,\n",
    "                     fmt=None,\n",
    "                    label=None,\n",
    "                    color='b', \n",
    "                     capthick=2)\n",
    "        plt.legend()\n",
    "        plt.show()\n",
    "        plt.savefig('../Plots/ch_intro/mw_foregrounds_demo_rOph_sub0.pdf')\n",
    "        \n",
    "        for i in range(0,len(layers)):\n",
    "            \n",
    "            \n",
    "\n",
    "            plt.scatter( mwframe.columns, \n",
    "                         mwframe.iloc[pixnum], \n",
    "                         label = \"WMAP and Planck\")\n",
    "\n",
    "            plt.errorbar(mwframe.columns, \n",
    "                         mwframe.iloc[pixnum],\n",
    "                         yerr=mwframe.iloc[pixnum]*0.5,\n",
    "                         fmt=None,\n",
    "                        label=None,\n",
    "                        color='b', \n",
    "                         capthick=2)\n",
    "        \n",
    "            plt.xscale('log')\n",
    "            plt.yscale('log')\n",
    "            plt.xlim(1e1, 1e3)\n",
    "            plt.ylim(1e-6, 1e3)\n",
    "            plt.ylabel('$K_{CMB}$')\n",
    "            plt.xlabel('$\\\\nu$ [GHz]')\n",
    "            \n",
    "            for j in range(0,i+1):\n",
    "                plt.plot(nu, layers[j], label = labels[j])\n",
    "                \n",
    "            plt.legend()\n",
    "            \n",
    "            plt.savefig('../Plots/ch_intro/mw_foregrounds_demo_rOph_sub{}.pdf'.format(i+1))\n",
    "            plt.show()\n",
    "        \n",
    "        plt.savefig('../Plots/ch_intro/mw_foregrounds_demo_rOph.pdf')\n",
    "        \n",
    "makeExampleSED()"
   ]
  },
  {
   "cell_type": "code",
   "execution_count": null,
   "metadata": {},
   "outputs": [],
   "source": []
  },
  {
   "cell_type": "code",
   "execution_count": 10,
   "metadata": {},
   "outputs": [],
   "source": [
    "import pickle\n",
    "with open('../Data/maps_nest.pickle') as f:  # Python 3: open(..., 'rb')\n",
    "    coords, planck_bb, planck_mw,  phot, phot_modesub, phot_mpsub = pickle.load(f) "
   ]
  },
  {
   "cell_type": "code",
   "execution_count": 11,
   "metadata": {},
   "outputs": [],
   "source": [
    "import astropy.units as u\n",
    "import astropy.constants as c"
   ]
  },
  {
   "cell_type": "code",
   "execution_count": 12,
   "metadata": {},
   "outputs": [],
   "source": [
    "# Calculations\n",
    "from astropy.modeling.blackbody import blackbody_lambda, blackbody_nu\n",
    "\n",
    "wavelengths = np.linspace(1, 1000, 1000) * u.micron\n",
    "temperature = 18 * u.K\n",
    "\n",
    "with np.errstate(all='ignore'):\n",
    "    flux_lam = blackbody_lambda(wavelengths, temperature)\n",
    "\n",
    "#print flux_lam\n",
    "\n",
    "#irframe = phot[[u'A9', u'I12', u'A18', u'I25', u'I60', u'A65', u'A90', u'I100', u'A140',\n",
    "#       u'A160',]].copy()\n",
    "\n",
    "phot_mpsub.columns = [9, 12, 18, 25, 60, 65, 90, 100, 140, 160, 345, 550]\n",
    "\n",
    "#irframe.columns = (np.array([9, 12, 18, 25, 60, 65, 90, 100, 140, 160, 345, 550])*1e-6)/c.c"
   ]
  },
  {
   "cell_type": "code",
   "execution_count": 13,
   "metadata": {},
   "outputs": [
    {
     "data": {
      "text/plain": [
       "(0.1, 3000)"
      ]
     },
     "execution_count": 13,
     "metadata": {},
     "output_type": "execute_result"
    },
    {
     "data": {
      "image/png": "[encoded data removed]",
      "text/plain": [
       "<matplotlib.figure.Figure at 0x2b2d9605fe10>"
      ]
     },
     "metadata": {},
     "output_type": "display_data"
    }
   ],
   "source": [
    "\n",
    "glon = 139\n",
    "glat = -1\n",
    "\n",
    "pixnum = hp.ang2pix(256,\n",
    "                    glon,\n",
    "                    glat,\n",
    "                    lonlat=True, \n",
    "                     nest=True)\n",
    "\n",
    "plt.scatter( phot_mpsub.columns, \n",
    "                 phot_mpsub.iloc[pixnum], \n",
    "                 label = \"IR Dust Emission\")\n",
    "plt.plot(wavelengths, (flux_lam/flux_lam.max())*2000)\n",
    "plt.xlim(1,1000)\n",
    "plt.xscale('log')\n",
    "plt.yscale('log')\n",
    "plt.ylim(0.1, 3000)"
   ]
  },
  {
   "cell_type": "code",
   "execution_count": 14,
   "metadata": {},
   "outputs": [
    {
     "ename": "NameError",
     "evalue": "name 'irframe' is not defined",
     "output_type": "error",
     "traceback": [
      "\u001b[0;31m---------------------------------------------------------------------------\u001b[0m",
      "\u001b[0;31mNameError\u001b[0m                                 Traceback (most recent call last)",
      "\u001b[0;32m<ipython-input-14-d9864238356b>\u001b[0m in \u001b[0;36m<module>\u001b[0;34m()\u001b[0m\n\u001b[0;32m----> 1\u001b[0;31m \u001b[0mirframe\u001b[0m\u001b[0;34m.\u001b[0m\u001b[0mcolumns\u001b[0m\u001b[0;34m\u001b[0m\u001b[0m\n\u001b[0m",
      "\u001b[0;31mNameError\u001b[0m: name 'irframe' is not defined"
     ]
    }
   ],
   "source": [
    "irframe.columns"
   ]
  },
  {
   "cell_type": "markdown",
   "metadata": {},
   "source": [
    "# References\n",
    "\n",
    "<mark> <b>The bib file biblio.bib was not found\n",
    "\n",
    "</b> </mark>(<a id=\"cit-ishihara10\" href=\"#call-ishihara10\">?</a>) !! _This reference was not found in biblio.bib _ !!\n",
    "\n",
    "(<a id=\"cit-doi15\" href=\"#call-doi15\">1</a>) !! _This reference was not found in biblio.bib _ !!\n",
    "\n"
   ]
  }
 ],
 "metadata": {
  "kernelspec": {
   "display_name": "Python 2",
   "language": "python",
   "name": "python2"
  },
  "language_info": {
   "codemirror_mode": {
    "name": "ipython",
    "version": 2
   },
   "file_extension": ".py",
   "mimetype": "text/x-python",
   "name": "python",
   "nbconvert_exporter": "python",
   "pygments_lexer": "ipython2",
   "version": "2.7.12"
  },
  "latex_envs": {
   "LaTeX_envs_menu_present": true,
   "autocomplete": true,
   "bibliofile": "reference.bib",
   "cite_by": "apalike",
   "current_citInitial": 1,
   "eqLabelWithNumbers": true,
   "eqNumInitial": 1,
   "hotkeys": {
    "equation": "Ctrl-E",
    "itemize": "Ctrl-I"
   },
   "labels_anchors": true,
   "latex_user_defs": true,
   "report_style_numbering": true,
   "user_envs_cfg": true
  }
 },
 "nbformat": 4,
 "nbformat_minor": 2
}
