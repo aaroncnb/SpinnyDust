{
 "cells": [
  {
   "cell_type": "code",
   "execution_count": null,
   "metadata": {},
   "outputs": [],
   "source": [
    "#from IPython.external import mathjax; mathjax.install_mathjax()\n",
    "import matplotlib\n",
    "import numpy as np\n",
    "import matplotlib.pyplot as plt\n",
    "import healpy as hp\n",
    "import healpy.projector as pro\n",
    "import astropy.io.fits as fits\n",
    "from scipy.stats import gaussian_kde\n",
    "import scipy\n",
    "import pandas as pd\n",
    "import pickle\n",
    "matplotlib.style.use('seaborn-bright')\n",
    "%matplotlib inline"
   ]
  },
  {
   "cell_type": "code",
   "execution_count": null,
   "metadata": {},
   "outputs": [],
   "source": [
    "with open('../Data/maps_nest.pickle') as f:  # Python 3: open(..., 'rb')\n",
    "    coords, planck_bb, planck_mw,  phot, phot_modesub, phot_mpsub = pickle.load(f)\n",
    "planck_bb.columns\n",
    "\n",
    "sb.axes_style(\"white\")"
   ]
  },
  {
   "cell_type": "code",
   "execution_count": null,
   "metadata": {},
   "outputs": [],
   "source": [
    "# Chapter 1:\n",
    "### Data dimensionality\n",
    "from sklearn.decomposition import PCA\n",
    "\n",
    "def getPCA(X, n_components=12, whiten=True): # In principle, you can have as many components as input vectors\n",
    "    \n",
    "    X_ = X.dropna()\n",
    "    # Principal component analysis\n",
    "    pca = PCA(n_components=n_components, whiten=whiten)\n",
    "    S_pca_ = pca.fit(X_).transform(X_)\n",
    "  \n",
    "    return S_pca_, pca\n",
    "\n",
    "S_pca_, pca = getPCA(phot_mpsub)\n",
    "\n",
    "print pca.explained_variance_ratio_[0]+pca.explained_variance_ratio_[1]+pca.explained_variance_ratio_[2]\n",
    "#+pca.explained_variance_ratio_[3]+pca.explained_variance_ratio_[4]"
   ]
  }
 ],
 "metadata": {
  "kernelspec": {
   "display_name": "Python 2",
   "language": "python",
   "name": "python2"
  },
  "language_info": {
   "codemirror_mode": {
    "name": "ipython",
    "version": 2
   },
   "file_extension": ".py",
   "mimetype": "text/x-python",
   "name": "python",
   "nbconvert_exporter": "python",
   "pygments_lexer": "ipython2",
   "version": "2.7.12"
  },
  "latex_envs": {
   "LaTeX_envs_menu_present": true,
   "autocomplete": true,
   "bibliofile": "biblio.bib",
   "cite_by": "apalike",
   "current_citInitial": 1,
   "eqLabelWithNumbers": true,
   "eqNumInitial": 1,
   "hotkeys": {
    "equation": "Ctrl-E",
    "itemize": "Ctrl-I"
   },
   "labels_anchors": false,
   "latex_user_defs": false,
   "report_style_numbering": false,
   "user_envs_cfg": false
  }
 },
 "nbformat": 4,
 "nbformat_minor": 2
}
