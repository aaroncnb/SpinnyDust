{
 "cells": [
  {
   "cell_type": "markdown",
   "metadata": {},
   "source": [
    "### All-sky AME vs. IR Scatter Plots"
   ]
  },
  {
   "cell_type": "code",
   "execution_count": 1,
   "metadata": {
    "collapsed": false,
    "scrolled": true,
    "slideshow": {
     "slide_type": "skip"
    }
   },
   "outputs": [],
   "source": [
    "%matplotlib inline\n",
    "#from IPython.external import mathjax; mathjax.install_mathjax()\n",
    "import matplotlib\n",
    "import numpy as np\n",
    "import matplotlib.pyplot as plt\n",
    "import healpy as hp\n",
    "import healpy.projector as pro\n",
    "import astropy.io.fits as fits\n",
    "from scipy.stats import gaussian_kde\n",
    "import scipy\n",
    "import pandas as pd\n",
    "import healpy as hp"
   ]
  },
  {
   "cell_type": "code",
   "execution_count": 2,
   "metadata": {
    "collapsed": false,
    "scrolled": true
   },
   "outputs": [
    {
     "name": "stdout",
     "output_type": "stream",
     "text": [
      "NSIDE = 256\n",
      "ORDERING = RING in fits file\n",
      "INDXSCHM = IMPLICIT\n",
      "NSIDE = 256\n",
      "ORDERING = RING in fits file\n",
      "INDXSCHM = IMPLICIT\n",
      "NSIDE = 256\n",
      "ORDERING = RING in fits file\n",
      "INDXSCHM = IMPLICIT\n",
      "NSIDE = 256\n",
      "ORDERING = RING in fits file\n",
      "INDXSCHM = IMPLICIT\n",
      "NSIDE = 256\n",
      "ORDERING = RING in fits file\n",
      "INDXSCHM = IMPLICIT\n",
      "NSIDE = 256\n",
      "ORDERING = NESTED in fits file\n",
      "INDXSCHM = IMPLICIT\n",
      "Ordering converted to RING\n",
      "NSIDE = 256\n",
      "ORDERING = RING in fits file\n",
      "INDXSCHM = IMPLICIT\n",
      "NSIDE = 256\n",
      "ORDERING = RING in fits file\n",
      "INDXSCHM = IMPLICIT\n",
      "NSIDE = 256\n",
      "ORDERING = RING in fits file\n",
      "INDXSCHM = IMPLICIT\n",
      "NSIDE = 256\n",
      "ORDERING = NESTED in fits file\n",
      "INDXSCHM = IMPLICIT\n",
      "Ordering converted to RING\n",
      "NSIDE = 256\n",
      "ORDERING = RING in fits file\n",
      "INDXSCHM = IMPLICIT\n",
      "NSIDE = 256\n",
      "ORDERING = NESTED in fits file\n",
      "INDXSCHM = IMPLICIT\n",
      "Ordering converted to RING\n",
      "NSIDE = 256\n",
      "ORDERING = RING in fits file\n",
      "INDXSCHM = IMPLICIT\n",
      "NSIDE = 256\n",
      "ORDERING = RING in fits file\n",
      "INDXSCHM = IMPLICIT\n",
      "NSIDE = 256\n",
      "ORDERING = RING in fits file\n",
      "INDXSCHM = IMPLICIT\n",
      "NSIDE = 256\n",
      "ORDERING = NESTED in fits file\n",
      "INDXSCHM = IMPLICIT\n",
      "Ordering converted to RING\n",
      "NSIDE = 256\n",
      "ORDERING = RING in fits file\n",
      "INDXSCHM = IMPLICIT\n",
      "NSIDE = 256\n",
      "ORDERING = NESTED in fits file\n",
      "INDXSCHM = IMPLICIT\n",
      "Ordering converted to RING\n",
      "NSIDE = 256\n",
      "ORDERING = RING in fits file\n",
      "INDXSCHM = IMPLICIT\n",
      "NSIDE = 256\n",
      "ORDERING = RING in fits file\n",
      "INDXSCHM = IMPLICIT\n",
      "NSIDE = 256\n",
      "ORDERING = NESTED in fits file\n",
      "INDXSCHM = IMPLICIT\n",
      "Ordering converted to RING\n",
      "NSIDE = 256\n",
      "ORDERING = RING in fits file\n",
      "INDXSCHM = IMPLICIT\n",
      "NSIDE = 256\n",
      "ORDERING = RING in fits file\n",
      "INDXSCHM = IMPLICIT\n",
      "IR Maps Read\n"
     ]
    },
    {
     "name": "stderr",
     "output_type": "stream",
     "text": [
      "/work1/users/aaronb/Softbrary/Anaconda/lib/python2.7/site-packages/healpy/fitsfunc.py:335: UserWarning: No INDXSCHM keyword in header file : assume IMPLICIT\n",
      "  \"assume {}\".format(schm))\n"
     ]
    },
    {
     "ename": "IOError",
     "evalue": "[Errno 2] No such file or directory: '/work1/users/aaronb/Databrary/HEALPix/COM_CompMap_AME-commander_0256_R2.00.fits'",
     "output_type": "error",
     "traceback": [
      "\u001b[1;31m---------------------------------------------------------------------------\u001b[0m",
      "\u001b[1;31mIOError\u001b[0m                                   Traceback (most recent call last)",
      "\u001b[1;32m<ipython-input-2-0954a4b89c73>\u001b[0m in \u001b[0;36m<module>\u001b[1;34m()\u001b[0m\n\u001b[0;32m    105\u001b[0m \u001b[0mphot\u001b[0m \u001b[1;33m=\u001b[0m \u001b[0mpd\u001b[0m\u001b[1;33m.\u001b[0m\u001b[0mDataFrame\u001b[0m\u001b[1;33m(\u001b[0m\u001b[0mphot\u001b[0m\u001b[1;33m,\u001b[0m \u001b[0mcolumns\u001b[0m \u001b[1;33m=\u001b[0m \u001b[0mband_abbr\u001b[0m\u001b[1;33m)\u001b[0m\u001b[1;33m\u001b[0m\u001b[0m\n\u001b[0;32m    106\u001b[0m \u001b[1;33m\u001b[0m\u001b[0m\n\u001b[1;32m--> 107\u001b[1;33m \u001b[0mAME\u001b[0m\u001b[1;33m,\u001b[0m \u001b[0mAME_hdr\u001b[0m \u001b[1;33m=\u001b[0m \u001b[0mhp\u001b[0m\u001b[1;33m.\u001b[0m\u001b[0mread_map\u001b[0m\u001b[1;33m(\u001b[0m\u001b[1;34m'/work1/users/aaronb/Databrary/HEALPix/COM_CompMap_AME-commander_0256_R2.00.fits'\u001b[0m\u001b[1;33m,\u001b[0m\u001b[0mfield\u001b[0m \u001b[1;33m=\u001b[0m \u001b[1;36m0\u001b[0m\u001b[1;33m,\u001b[0m \u001b[0mmemmap\u001b[0m\u001b[1;33m=\u001b[0m\u001b[0mFalse\u001b[0m\u001b[1;33m,\u001b[0m \u001b[0mh\u001b[0m\u001b[1;33m=\u001b[0m\u001b[0mTrue\u001b[0m\u001b[1;33m)\u001b[0m\u001b[1;33m;\u001b[0m\u001b[1;33m\u001b[0m\u001b[0m\n\u001b[0m\u001b[0;32m    108\u001b[0m \u001b[1;32mprint\u001b[0m \u001b[1;34m\"AME Map read\"\u001b[0m\u001b[1;33m\u001b[0m\u001b[0m\n\u001b[0;32m    109\u001b[0m \u001b[0mCO\u001b[0m\u001b[1;33m,\u001b[0m \u001b[0mCO_hdr\u001b[0m   \u001b[1;33m=\u001b[0m \u001b[0mhp\u001b[0m\u001b[1;33m.\u001b[0m\u001b[0mread_map\u001b[0m\u001b[1;33m(\u001b[0m\u001b[1;34m'/work1/users/aaronb/Databrary/HEALPix/COM_CompMap_CO-commander_0256_R2.00.fits'\u001b[0m\u001b[1;33m,\u001b[0m\u001b[0mfield\u001b[0m \u001b[1;33m=\u001b[0m \u001b[1;36m0\u001b[0m\u001b[1;33m,\u001b[0m \u001b[0mmemmap\u001b[0m\u001b[1;33m=\u001b[0m\u001b[0mFalse\u001b[0m\u001b[1;33m,\u001b[0m \u001b[0mh\u001b[0m\u001b[1;33m=\u001b[0m\u001b[0mTrue\u001b[0m\u001b[1;33m)\u001b[0m\u001b[1;33m;\u001b[0m\u001b[1;33m\u001b[0m\u001b[0m\n",
      "\u001b[1;32m/work1/users/aaronb/Softbrary/Anaconda/lib/python2.7/site-packages/healpy/fitsfunc.pyc\u001b[0m in \u001b[0;36mread_map\u001b[1;34m(filename, field, dtype, nest, partial, hdu, h, verbose, memmap)\u001b[0m\n\u001b[0;32m    290\u001b[0m     \"\"\"\n\u001b[0;32m    291\u001b[0m \u001b[1;33m\u001b[0m\u001b[0m\n\u001b[1;32m--> 292\u001b[1;33m     \u001b[0mfits_hdu\u001b[0m \u001b[1;33m=\u001b[0m \u001b[0m_get_hdu\u001b[0m\u001b[1;33m(\u001b[0m\u001b[0mfilename\u001b[0m\u001b[1;33m,\u001b[0m \u001b[0mhdu\u001b[0m\u001b[1;33m=\u001b[0m\u001b[0mhdu\u001b[0m\u001b[1;33m,\u001b[0m \u001b[0mmemmap\u001b[0m\u001b[1;33m=\u001b[0m\u001b[0mmemmap\u001b[0m\u001b[1;33m)\u001b[0m\u001b[1;33m\u001b[0m\u001b[0m\n\u001b[0m\u001b[0;32m    293\u001b[0m \u001b[1;33m\u001b[0m\u001b[0m\n\u001b[0;32m    294\u001b[0m     \u001b[0mnside\u001b[0m \u001b[1;33m=\u001b[0m \u001b[0mfits_hdu\u001b[0m\u001b[1;33m.\u001b[0m\u001b[0mheader\u001b[0m\u001b[1;33m.\u001b[0m\u001b[0mget\u001b[0m\u001b[1;33m(\u001b[0m\u001b[1;34m'NSIDE'\u001b[0m\u001b[1;33m)\u001b[0m\u001b[1;33m\u001b[0m\u001b[0m\n",
      "\u001b[1;32m/work1/users/aaronb/Softbrary/Anaconda/lib/python2.7/site-packages/healpy/fitsfunc.pyc\u001b[0m in \u001b[0;36m_get_hdu\u001b[1;34m(input_data, hdu, memmap)\u001b[0m\n\u001b[0;32m    526\u001b[0m \u001b[1;33m\u001b[0m\u001b[0m\n\u001b[0;32m    527\u001b[0m     \u001b[1;32mif\u001b[0m \u001b[0misinstance\u001b[0m\u001b[1;33m(\u001b[0m\u001b[0minput_data\u001b[0m\u001b[1;33m,\u001b[0m \u001b[0msix\u001b[0m\u001b[1;33m.\u001b[0m\u001b[0mstring_types\u001b[0m\u001b[1;33m)\u001b[0m\u001b[1;33m:\u001b[0m\u001b[1;33m\u001b[0m\u001b[0m\n\u001b[1;32m--> 528\u001b[1;33m         \u001b[0mhdulist\u001b[0m \u001b[1;33m=\u001b[0m \u001b[0mpf\u001b[0m\u001b[1;33m.\u001b[0m\u001b[0mopen\u001b[0m\u001b[1;33m(\u001b[0m\u001b[0minput_data\u001b[0m\u001b[1;33m,\u001b[0m \u001b[0mmemmap\u001b[0m\u001b[1;33m=\u001b[0m\u001b[0mmemmap\u001b[0m\u001b[1;33m)\u001b[0m\u001b[1;33m\u001b[0m\u001b[0m\n\u001b[0m\u001b[0;32m    529\u001b[0m         \u001b[1;32mreturn\u001b[0m \u001b[0m_get_hdu\u001b[0m\u001b[1;33m(\u001b[0m\u001b[0mhdulist\u001b[0m\u001b[1;33m,\u001b[0m \u001b[0mhdu\u001b[0m\u001b[1;33m=\u001b[0m\u001b[0mhdu\u001b[0m\u001b[1;33m)\u001b[0m\u001b[1;33m\u001b[0m\u001b[0m\n\u001b[0;32m    530\u001b[0m \u001b[1;33m\u001b[0m\u001b[0m\n",
      "\u001b[1;32m/work1/users/aaronb/Softbrary/Anaconda/lib/python2.7/site-packages/astropy/io/fits/hdu/hdulist.pyc\u001b[0m in \u001b[0;36mfitsopen\u001b[1;34m(name, mode, memmap, save_backup, cache, **kwargs)\u001b[0m\n\u001b[0;32m    137\u001b[0m         \u001b[1;32mraise\u001b[0m \u001b[0mValueError\u001b[0m\u001b[1;33m(\u001b[0m\u001b[1;34m'Empty filename: %s'\u001b[0m \u001b[1;33m%\u001b[0m \u001b[0mrepr\u001b[0m\u001b[1;33m(\u001b[0m\u001b[0mname\u001b[0m\u001b[1;33m)\u001b[0m\u001b[1;33m)\u001b[0m\u001b[1;33m\u001b[0m\u001b[0m\n\u001b[0;32m    138\u001b[0m \u001b[1;33m\u001b[0m\u001b[0m\n\u001b[1;32m--> 139\u001b[1;33m     \u001b[1;32mreturn\u001b[0m \u001b[0mHDUList\u001b[0m\u001b[1;33m.\u001b[0m\u001b[0mfromfile\u001b[0m\u001b[1;33m(\u001b[0m\u001b[0mname\u001b[0m\u001b[1;33m,\u001b[0m \u001b[0mmode\u001b[0m\u001b[1;33m,\u001b[0m \u001b[0mmemmap\u001b[0m\u001b[1;33m,\u001b[0m \u001b[0msave_backup\u001b[0m\u001b[1;33m,\u001b[0m \u001b[0mcache\u001b[0m\u001b[1;33m,\u001b[0m \u001b[1;33m**\u001b[0m\u001b[0mkwargs\u001b[0m\u001b[1;33m)\u001b[0m\u001b[1;33m\u001b[0m\u001b[0m\n\u001b[0m\u001b[0;32m    140\u001b[0m \u001b[1;33m\u001b[0m\u001b[0m\n\u001b[0;32m    141\u001b[0m \u001b[1;33m\u001b[0m\u001b[0m\n",
      "\u001b[1;32m/work1/users/aaronb/Softbrary/Anaconda/lib/python2.7/site-packages/astropy/io/fits/hdu/hdulist.pyc\u001b[0m in \u001b[0;36mfromfile\u001b[1;34m(cls, fileobj, mode, memmap, save_backup, cache, **kwargs)\u001b[0m\n\u001b[0;32m    279\u001b[0m \u001b[1;33m\u001b[0m\u001b[0m\n\u001b[0;32m    280\u001b[0m         return cls._readfrom(fileobj=fileobj, mode=mode, memmap=memmap,\n\u001b[1;32m--> 281\u001b[1;33m                              save_backup=save_backup, cache=cache, **kwargs)\n\u001b[0m\u001b[0;32m    282\u001b[0m \u001b[1;33m\u001b[0m\u001b[0m\n\u001b[0;32m    283\u001b[0m     \u001b[1;33m@\u001b[0m\u001b[0mclassmethod\u001b[0m\u001b[1;33m\u001b[0m\u001b[0m\n",
      "\u001b[1;32m/work1/users/aaronb/Softbrary/Anaconda/lib/python2.7/site-packages/astropy/io/fits/hdu/hdulist.pyc\u001b[0m in \u001b[0;36m_readfrom\u001b[1;34m(cls, fileobj, data, mode, memmap, save_backup, cache, **kwargs)\u001b[0m\n\u001b[0;32m    800\u001b[0m             \u001b[1;32mif\u001b[0m \u001b[1;32mnot\u001b[0m \u001b[0misinstance\u001b[0m\u001b[1;33m(\u001b[0m\u001b[0mfileobj\u001b[0m\u001b[1;33m,\u001b[0m \u001b[0m_File\u001b[0m\u001b[1;33m)\u001b[0m\u001b[1;33m:\u001b[0m\u001b[1;33m\u001b[0m\u001b[0m\n\u001b[0;32m    801\u001b[0m                 \u001b[1;31m# instantiate a FITS file object (ffo)\u001b[0m\u001b[1;33m\u001b[0m\u001b[1;33m\u001b[0m\u001b[0m\n\u001b[1;32m--> 802\u001b[1;33m                 \u001b[0mffo\u001b[0m \u001b[1;33m=\u001b[0m \u001b[0m_File\u001b[0m\u001b[1;33m(\u001b[0m\u001b[0mfileobj\u001b[0m\u001b[1;33m,\u001b[0m \u001b[0mmode\u001b[0m\u001b[1;33m=\u001b[0m\u001b[0mmode\u001b[0m\u001b[1;33m,\u001b[0m \u001b[0mmemmap\u001b[0m\u001b[1;33m=\u001b[0m\u001b[0mmemmap\u001b[0m\u001b[1;33m,\u001b[0m \u001b[0mcache\u001b[0m\u001b[1;33m=\u001b[0m\u001b[0mcache\u001b[0m\u001b[1;33m)\u001b[0m\u001b[1;33m\u001b[0m\u001b[0m\n\u001b[0m\u001b[0;32m    803\u001b[0m             \u001b[1;32melse\u001b[0m\u001b[1;33m:\u001b[0m\u001b[1;33m\u001b[0m\u001b[0m\n\u001b[0;32m    804\u001b[0m                 \u001b[0mffo\u001b[0m \u001b[1;33m=\u001b[0m \u001b[0mfileobj\u001b[0m\u001b[1;33m\u001b[0m\u001b[0m\n",
      "\u001b[1;32m/work1/users/aaronb/Softbrary/Anaconda/lib/python2.7/site-packages/astropy/io/fits/file.pyc\u001b[0m in \u001b[0;36m__init__\u001b[1;34m(self, fileobj, mode, memmap, clobber, cache)\u001b[0m\n\u001b[0;32m    148\u001b[0m             \u001b[0mself\u001b[0m\u001b[1;33m.\u001b[0m\u001b[0m_open_fileobj\u001b[0m\u001b[1;33m(\u001b[0m\u001b[0mfileobj\u001b[0m\u001b[1;33m,\u001b[0m \u001b[0mmode\u001b[0m\u001b[1;33m,\u001b[0m \u001b[0mclobber\u001b[0m\u001b[1;33m)\u001b[0m\u001b[1;33m\u001b[0m\u001b[0m\n\u001b[0;32m    149\u001b[0m         \u001b[1;32melif\u001b[0m \u001b[0misinstance\u001b[0m\u001b[1;33m(\u001b[0m\u001b[0mfileobj\u001b[0m\u001b[1;33m,\u001b[0m \u001b[0mstring_types\u001b[0m\u001b[1;33m)\u001b[0m\u001b[1;33m:\u001b[0m\u001b[1;33m\u001b[0m\u001b[0m\n\u001b[1;32m--> 150\u001b[1;33m             \u001b[0mself\u001b[0m\u001b[1;33m.\u001b[0m\u001b[0m_open_filename\u001b[0m\u001b[1;33m(\u001b[0m\u001b[0mfileobj\u001b[0m\u001b[1;33m,\u001b[0m \u001b[0mmode\u001b[0m\u001b[1;33m,\u001b[0m \u001b[0mclobber\u001b[0m\u001b[1;33m)\u001b[0m\u001b[1;33m\u001b[0m\u001b[0m\n\u001b[0m\u001b[0;32m    151\u001b[0m         \u001b[1;32melse\u001b[0m\u001b[1;33m:\u001b[0m\u001b[1;33m\u001b[0m\u001b[0m\n\u001b[0;32m    152\u001b[0m             \u001b[0mself\u001b[0m\u001b[1;33m.\u001b[0m\u001b[0m_open_filelike\u001b[0m\u001b[1;33m(\u001b[0m\u001b[0mfileobj\u001b[0m\u001b[1;33m,\u001b[0m \u001b[0mmode\u001b[0m\u001b[1;33m,\u001b[0m \u001b[0mclobber\u001b[0m\u001b[1;33m)\u001b[0m\u001b[1;33m\u001b[0m\u001b[0m\n",
      "\u001b[1;32m/work1/users/aaronb/Softbrary/Anaconda/lib/python2.7/site-packages/astropy/io/fits/file.pyc\u001b[0m in \u001b[0;36m_open_filename\u001b[1;34m(self, filename, mode, clobber)\u001b[0m\n\u001b[0;32m    500\u001b[0m             \u001b[0mself\u001b[0m\u001b[1;33m.\u001b[0m\u001b[0m_file\u001b[0m \u001b[1;33m=\u001b[0m \u001b[0mbz2\u001b[0m\u001b[1;33m.\u001b[0m\u001b[0mBZ2File\u001b[0m\u001b[1;33m(\u001b[0m\u001b[0mself\u001b[0m\u001b[1;33m.\u001b[0m\u001b[0mname\u001b[0m\u001b[1;33m,\u001b[0m \u001b[0mbzip2_mode\u001b[0m\u001b[1;33m)\u001b[0m\u001b[1;33m\u001b[0m\u001b[0m\n\u001b[0;32m    501\u001b[0m         \u001b[1;32melse\u001b[0m\u001b[1;33m:\u001b[0m\u001b[1;33m\u001b[0m\u001b[0m\n\u001b[1;32m--> 502\u001b[1;33m             \u001b[0mself\u001b[0m\u001b[1;33m.\u001b[0m\u001b[0m_file\u001b[0m \u001b[1;33m=\u001b[0m \u001b[0mfileobj_open\u001b[0m\u001b[1;33m(\u001b[0m\u001b[0mself\u001b[0m\u001b[1;33m.\u001b[0m\u001b[0mname\u001b[0m\u001b[1;33m,\u001b[0m \u001b[0mPYFITS_MODES\u001b[0m\u001b[1;33m[\u001b[0m\u001b[0mmode\u001b[0m\u001b[1;33m]\u001b[0m\u001b[1;33m)\u001b[0m\u001b[1;33m\u001b[0m\u001b[0m\n\u001b[0m\u001b[0;32m    503\u001b[0m \u001b[1;33m\u001b[0m\u001b[0m\n\u001b[0;32m    504\u001b[0m         \u001b[1;31m# Make certain we're back at the beginning of the file\u001b[0m\u001b[1;33m\u001b[0m\u001b[1;33m\u001b[0m\u001b[0m\n",
      "\u001b[1;32m/work1/users/aaronb/Softbrary/Anaconda/lib/python2.7/site-packages/astropy/io/fits/util.pyc\u001b[0m in \u001b[0;36mfileobj_open\u001b[1;34m(filename, mode)\u001b[0m\n\u001b[0;32m    401\u001b[0m         \"\"\"\n\u001b[0;32m    402\u001b[0m \u001b[1;33m\u001b[0m\u001b[0m\n\u001b[1;32m--> 403\u001b[1;33m         \u001b[1;32mreturn\u001b[0m \u001b[0mopen\u001b[0m\u001b[1;33m(\u001b[0m\u001b[0mfilename\u001b[0m\u001b[1;33m,\u001b[0m \u001b[0mmode\u001b[0m\u001b[1;33m)\u001b[0m\u001b[1;33m\u001b[0m\u001b[0m\n\u001b[0m\u001b[0;32m    404\u001b[0m \u001b[1;33m\u001b[0m\u001b[0m\n\u001b[0;32m    405\u001b[0m \u001b[1;33m\u001b[0m\u001b[0m\n",
      "\u001b[1;31mIOError\u001b[0m: [Errno 2] No such file or directory: '/work1/users/aaronb/Databrary/HEALPix/COM_CompMap_AME-commander_0256_R2.00.fits'"
     ]
    }
   ],
   "source": [
    "### Make a gargantuan cube. The \"layers\" are the FIR data:\n",
    "\n",
    "filepath      =  \"/work1/users/aaronb/Databrary/HEALPix/AKARI_HEALPix_orig/\"\n",
    "\n",
    "nside         = 256\n",
    "\n",
    "bands         = [\"akari_90\",\\\n",
    "                    \"dirbe_100\", \"iras_100\",\\\n",
    "                    \"dirbe_140\", \"akari_140\",\\\n",
    "                    \"akari_160\", \\\n",
    "                    \"dirbe_240\", \\\n",
    "                    \"planck_857\", \"planck_545\"]\n",
    "\n",
    "\n",
    "band_names =   [ \"akari_9\",\\\n",
    "                    \"dirbe_12\",\"iras_12\", \"wise_12\", \\\n",
    "                    \"akari_18\", \\\n",
    "                    \"dirbe_25\",\"iras_25\", \\\n",
    "                    \"dirbe_60\",\"iras_60\",\"akari_65\",\\\n",
    "                    \"akari_90\",\\\n",
    "                    \"dirbe_100\", \"iras_100\",\\\n",
    "                    \"dirbe_140\", \"akari_140\",\\\n",
    "                    \"akari_160\", \\\n",
    "                    \"dirbe_240\", \\\n",
    "                    \"planck_857\", \"planck_545\"]\n",
    "\n",
    "\n",
    "band_abbr =   [ \"A9\",\\\n",
    "                    \"D12\",\"I12\", \"W12\", \\\n",
    "                    \"A18\", \\\n",
    "                    \"D25\",\"I25\", \\\n",
    "                    \"D60\",\"I60\",\"A65\",\\\n",
    "                    \"A90\",\\\n",
    "                    \"D100\", \"I100\",\\\n",
    "                    \"D140\", \"A140\",\\\n",
    "                    \"A160\", \\\n",
    "                    \"D240\", \\\n",
    "                    \"P857\", \"P545\"]\n",
    "\n",
    "\n",
    "\n",
    "band_labels  = [\"AKARI 9 $\\mu{m}$\",\\\n",
    "                \"DIRBE 12 $\\mu{m}$\",\"IRAS 12 $\\mu{m}$\",\"WISE 12 $\\mu{m}$\", \\\n",
    "                \"AKARI 18 $\\mu{m}$\",\\\n",
    "                \"DIRBE 25 $\\mu{m}$\", \"IRAS 25 $\\mu{m}$\", \\\n",
    "                \"DIRBE 60 $\\mu{m}$\",\"IRAS 60 $\\mu{m}$\",\"AKARI 65 $\\mu{m}$\", \\\n",
    "                \"AKARI 90 $\\mu{m}$\", \\\n",
    "                \"DIRBE 100 $\\mu{m}$\",\"IRAS 100 $\\mu{m}$\",\\\n",
    "                \"DIRBE 140 $\\mu{m}$\",\"AKARI 140 $\\mu{m}$\",\\\n",
    "                \"AKARI 160 $\\mu{m}$\",\\\n",
    "                \"DIRBE 240 $\\mu{m}$\",\\\n",
    "                \"PLANCK 350 $\\mu{m}$\",\"PLANCK 550 $\\mu{m}$\" ]\n",
    "\n",
    "waves         = [90e-6, 100e-6, 100e-6, 140e-6, 140e-6, 160e-6, 240e-6, 350e-6, 550e-6]\n",
    "waves_micron = [ 9,12,12,12,18,25,25,60,60,65,90,100,100,140,140,160,240,350,550]\n",
    "simple_sigma  = [ 0.25,   0.25,   0.25,   0.25,   0.25,   0.25,   0.25,   0.25,   0.25]\n",
    "\n",
    "nbands            = len(bands)\n",
    "nbands_all        = len(band_names)\n",
    "\n",
    "# http://stackoverflow.com/questions/16330831/most-efficient-way-to-find-mode-in-numpy-array\n",
    "\n",
    "import numpy\n",
    "\n",
    "def mode(ndarray,axis=0):\n",
    "    if ndarray.size == 1:\n",
    "        return (ndarray[0],1)\n",
    "    elif ndarray.size == 0:\n",
    "        raise Exception('Attempted to find mode on an empty array!')\n",
    "    try:\n",
    "        axis = [i for i in range(ndarray.ndim)][axis]\n",
    "    except IndexError:\n",
    "        raise Exception('Axis %i out of range for array with %i dimension(s)' % (axis,ndarray.ndim))\n",
    "    srt = numpy.sort(ndarray,axis=axis)\n",
    "    dif = numpy.diff(srt,axis=axis)\n",
    "    shape = [i for i in dif.shape]\n",
    "    shape[axis] += 2\n",
    "    indices = numpy.indices(shape)[axis]\n",
    "    index = tuple([slice(None) if i != axis else slice(1,-1) for i in range(dif.ndim)])\n",
    "    indices[index][dif == 0] = 0\n",
    "    indices.sort(axis=axis)\n",
    "    bins = numpy.diff(indices,axis=axis)\n",
    "    location = numpy.argmax(bins,axis=axis)\n",
    "    mesh = numpy.indices(bins.shape)\n",
    "    index = tuple([slice(None) if i != axis else 0 for i in range(dif.ndim)])\n",
    "    index = [mesh[i][index].ravel() if i != axis else location.ravel() for i in range(bins.ndim)]\n",
    "    counts = bins[tuple(index)].reshape(location.shape)\n",
    "    index[axis] = indices[tuple(index)]\n",
    "    modals = srt[tuple(index)].reshape(location.shape)\n",
    "    return (modals, counts)\n",
    "\n",
    "\n",
    "glatrange = 10.0\n",
    "glatrange_mid = 2.5\n",
    "elatrange = 15.0\n",
    "    \n",
    "### Import the Galactic coordinate reference columns:\n",
    "### These are just \"maps\" of glat and glon. That way you can easily get the center pixel coordinates from a given pixel index\n",
    "\n",
    "glon = hp.read_map(filepath+str(nside)+\"_nside/pixel_coords_map_ring_galactic_res8.fits\", field = 0, memmap=False)\n",
    "glat = hp.read_map(filepath+str(nside)+\"_nside/pixel_coords_map_ring_galactic_res8.fits\", field = 1, memmap=False)\n",
    "elon = hp.read_map(filepath+str(nside)+\"_nside/pixel_coords_map_ring_ecliptic_res8.fits\", field = 0, memmap=False)\n",
    "elat = hp.read_map(filepath+str(nside)+\"_nside/pixel_coords_map_ring_ecliptic_res8.fits\", field = 1, memmap=False)\n",
    "    \n",
    "\n",
    "gcut_1 = np.where((abs(glat > glatrange)) & (abs(elat) > elatrange))\n",
    "gcut_2 = np.where((abs(glat < glatrange)) & (abs(elat) > elatrange))\n",
    "                  \n",
    "glon = pd.DataFrame(glon, columns=['GLON'])\n",
    "glat = pd.DataFrame(glat, columns=['GLAT'])                  \n",
    "\n",
    "### Same for the ecliptic coordinates:\n",
    "\n",
    "\n",
    "##### Now, we have a cube of the FIR data saved as \"fir\"\n",
    "##### We want to compare the individual maps in a way that makes some physical sense\n",
    "##### How about we start by assuming an SED? Next: Modified blackbody fitting\n",
    "layer = 0\n",
    "nside = 256\n",
    "npix  = 12*nside**2\n",
    "phot  = np.ones([npix, nbands_all])\n",
    "\n",
    "\n",
    "\n",
    "\n",
    "\n",
    "### Let's play with pandas:\n",
    "### --famous last words-- ###\n",
    "\n",
    "import pandas as pd\n",
    "\n",
    "#s = pd.Series(  [\n",
    "\n",
    "for band in band_names:\n",
    "    \n",
    "    phot[:,layer] = hp.read_map(filepath+str(nside)+\"_nside/\"+band+\"_\"+str(nside)+\"_1dres.fits\",memmap=False);  \n",
    "    layer += 1\n",
    "    \n",
    "print \"IR Maps Read\"\n",
    "phot = pd.DataFrame(phot, columns = band_abbr)    \n",
    "    \n",
    "AME, AME_hdr = hp.read_map('/work1/users/aaronb/Databrary/HEALPix/COM_CompMap_AME-commander_0256_R2.00.fits',field = 0, memmap=False, h=True);\n",
    "print \"AME Map read\"\n",
    "CO, CO_hdr   = hp.read_map('/work1/users/aaronb/Databrary/HEALPix/COM_CompMap_CO-commander_0256_R2.00.fits',field = 0, memmap=False, h=True);\n",
    "print \"CO Map Read\"\n",
    "ff, ff_hdr   = hp.read_map('/work1/users/aaronb/Databrary/HEALPix/COM_CompMap_freefree-commander_0256_R2.00.fits', field = 0, memmap=False, h=True)\n",
    "print \"Free-free Map Read\"\n",
    "Sync, Sync_hdr   = hp.read_map('/work1/users/aaronb/Databrary/HEALPix/COM_CompMap_Synchrotron-commander_0256_R2.00.fits', field = 0, memmap=False, h=True)\n",
    "print \"Synchrotron Map Read\"\n",
    "\n",
    "\n",
    "\n",
    "Planck_T   = hp.read_map(\n",
    "    filepath+str(nside)+\"_nside/COM_CompMap_dust-commander_0256_R2.00.fits\", \n",
    "    field = 4)\n",
    "print \"T Map Read\"\n",
    "\n",
    "Planck_B   = hp.read_map(\n",
    "    filepath+str(nside)+\"_nside/COM_CompMap_dust-commander_0256_R2.00.fits\", \n",
    "    field = 7)\n",
    "print \"beta Map Read\"\n",
    "\n",
    "Planck_FIR = hp.read_map(\n",
    "    filepath+str(nside)+\"_nside/COM_CompMap_dust-commander_0256_R2.00.fits\",\n",
    "    field = 1)\n",
    "\n",
    "\n",
    "\n",
    "\n",
    "## Replace the HEALPix \"UNSEEN\" pixels with NaN, in a Pandas Dataframe:\n",
    "\n",
    "\n",
    "\n",
    "phot = phot.join(pd.DataFrame(AME,  columns= ['AME']))\n",
    "phot = phot.join(pd.DataFrame(ff,   columns= ['FF']))\n",
    "phot = phot.join(pd.DataFrame(CO,   columns= ['CO']))\n",
    "phot = phot.join(pd.DataFrame(Sync, columns= ['Syn']))\n",
    "\n",
    "bb = pd.DataFrame(AME,  columns= ['AME'])\n",
    "bb = bb.join(pd.DataFrame(Planck_T, columns= ['T']))\n",
    "bb = bb.join(pd.DataFrame(Planck_B, columns= ['Beta']))\n",
    "bb = bb.join(pd.DataFrame(Planck_FIR, columns= ['FIR']))\n",
    "\n",
    "phot.replace(\n",
    "    to_replace =hp.UNSEEN,\n",
    "    value=np.nan,\n",
    "    inplace=True\n",
    "    )\n",
    "\n",
    "bb.replace(\n",
    "    to_replace =hp.UNSEEN,\n",
    "    value=np.nan,\n",
    "    inplace=True\n",
    "    )\n",
    "\n",
    "# bb = bb.join(\n",
    "#       pd.DataFrame(\n",
    "#             (bb['T'].values / 17.5)**(4+2),\n",
    "#             columns=['G0']\n",
    "#                 )\n",
    "#                 )\n",
    "    \n",
    "# print \"G0 Map Calculated\"\n",
    "\n",
    "\n",
    "    \n",
    "    \n",
    "## Calculate the mode of each HEALPix map.\n",
    "## Round to 3 decimal places, to consolidate multipleunique modes\n",
    "\n",
    "allsky_modes = phot.round(3).mode(axis=0)\n",
    "\n",
    "## Subtract the all-sky mode from each map:\n",
    "## Trying a vectorized way now, using the Pandas \".subtract\" method\n",
    "phot_modesub = pd.DataFrame(phot.values-allsky_modes.values,columns=phot.columns)\n",
    "\n",
    "\n",
    "#allsky_corrcoeff = pd.DataFrame(pd.DataFrame.corr(phot, method='pearson'))\n",
    "#allsky_corrcoeff_gcut1 = pd.DataFrame(pd.DataFrame.corr(phot.iloc[gcut_1], method='pearson'))\n",
    "#allsky_corrcoeff_gcut2 = pd.DataFrame(pd.DataFrame.corr(phot.iloc[gcut_2], method='pearson'))\n",
    "\n"
   ]
  },
  {
   "cell_type": "code",
   "execution_count": null,
   "metadata": {
    "collapsed": false
   },
   "outputs": [],
   "source": [
    "glon = pd.DataFrame(glon, columns=['GLON'])\n",
    "glat = pd.DataFrame(glat, columns=['GLAT']) \n",
    "\n",
    "#phot.at['GLON']"
   ]
  },
  {
   "cell_type": "markdown",
   "metadata": {},
   "source": [
    "## Applying Independent Component Analysis (ICA) from 'skitlearn':\n",
    "\n",
    "(From: \n",
    "http://scikit-learn.org/stable/auto_examples/decomposition/plot_ica_vs_pca.html#sphx-glr-auto-examples-decomposition-plot-ica-vs-pca-py)\n"
   ]
  },
  {
   "cell_type": "code",
   "execution_count": null,
   "metadata": {
    "collapsed": false
   },
   "outputs": [],
   "source": [
    "from sklearn.decomposition import PCA, FastICA, NMF\n",
    "from sklearn.manifold import TSNE\n",
    "from sklearn.preprocessing import Imputer\n",
    "\n",
    "imp = Imputer()\n",
    "\n",
    "imp.fit(phot.values)\n",
    "X = imp.transform(phot.values)\n",
    "\n",
    "from sklearn.preprocessing import StandardScaler, MinMaxScaler\n",
    "\n",
    "scaler = MinMaxScaler(feature_range=(0, 1))\n",
    "\n",
    "# Don't cheat - fit only on training data\n",
    "scaler.fit(X)  \n",
    "X = scaler.transform(X)  \n",
    "\n",
    "\n",
    "\n",
    "#X = X[:,[0,1,-2]]"
   ]
  },
  {
   "cell_type": "code",
   "execution_count": null,
   "metadata": {
    "collapsed": false
   },
   "outputs": [],
   "source": [
    "nmf = NMF()\n",
    "S_nmf_ = nmf.fit(X).transform(X)\n",
    "\n",
    "pca = PCA(n_components=5)\n",
    "S_pca_ = pca.fit(X).transform(X)\n",
    "\n",
    "rng = np.random.RandomState(42)\n",
    "ica = FastICA(random_state = rng, n_components=np.size(X,axis=1))\n",
    "S_ica_ = ica.fit(X).transform(X)\n",
    "\n",
    "\n",
    "tsne = TSNE\n",
    "\n",
    "S_ica_ /= S_ica_.std(axis=0)\n"
   ]
  },
  {
   "cell_type": "code",
   "execution_count": null,
   "metadata": {
    "collapsed": false
   },
   "outputs": [],
   "source": [
    "np.size(nmf.components_[1])"
   ]
  },
  {
   "cell_type": "code",
   "execution_count": null,
   "metadata": {
    "collapsed": false
   },
   "outputs": [],
   "source": [
    "print np.shape(S_ica_)\n",
    "print np.shape(S_pca_)\n",
    "print np.shape(S_nmf_)"
   ]
  },
  {
   "cell_type": "code",
   "execution_count": null,
   "metadata": {
    "collapsed": false
   },
   "outputs": [],
   "source": [
    "from matplotlib.colors import SymLogNorm\n",
    "\n",
    "plt.figure(figsize=(20,20))\n",
    "for i in range(1,np.size(S_pca_,axis=1)):\n",
    "    #plt.subplot(5,4,i+1)\n",
    "    #plt.figure(figsize=(20,20))\n",
    "    hp.cartview(\n",
    "    #hp.gnomview(\n",
    "        S_pca_[:,i-1], title=\"PCA_\"+str(i-1),\n",
    "        cmap = \"rainbow\", \n",
    "        norm = SymLogNorm(linthresh=0.01,linscale=1,vmin=0),\n",
    "        sub  = (6,4,i)\n",
    "    )\n",
    "plt.show()\n",
    "plt.close()"
   ]
  },
  {
   "cell_type": "code",
   "execution_count": 3,
   "metadata": {
    "collapsed": false
   },
   "outputs": [
    {
     "ename": "NameError",
     "evalue": "name 'S_ica_' is not defined",
     "output_type": "error",
     "traceback": [
      "\u001b[1;31m---------------------------------------------------------------------------\u001b[0m",
      "\u001b[1;31mNameError\u001b[0m                                 Traceback (most recent call last)",
      "\u001b[1;32m<ipython-input-3-9c6b50e8ef78>\u001b[0m in \u001b[0;36m<module>\u001b[1;34m()\u001b[0m\n\u001b[0;32m      2\u001b[0m \u001b[1;33m\u001b[0m\u001b[0m\n\u001b[0;32m      3\u001b[0m \u001b[0mplt\u001b[0m\u001b[1;33m.\u001b[0m\u001b[0mfigure\u001b[0m\u001b[1;33m(\u001b[0m\u001b[0mfigsize\u001b[0m\u001b[1;33m=\u001b[0m\u001b[1;33m(\u001b[0m\u001b[1;36m20\u001b[0m\u001b[1;33m,\u001b[0m\u001b[1;36m20\u001b[0m\u001b[1;33m)\u001b[0m\u001b[1;33m)\u001b[0m\u001b[1;33m\u001b[0m\u001b[0m\n\u001b[1;32m----> 4\u001b[1;33m \u001b[1;32mfor\u001b[0m \u001b[0mi\u001b[0m \u001b[1;32min\u001b[0m \u001b[0mrange\u001b[0m\u001b[1;33m(\u001b[0m\u001b[1;36m1\u001b[0m\u001b[1;33m,\u001b[0m\u001b[0mnp\u001b[0m\u001b[1;33m.\u001b[0m\u001b[0msize\u001b[0m\u001b[1;33m(\u001b[0m\u001b[0mS_ica_\u001b[0m\u001b[1;33m,\u001b[0m\u001b[0maxis\u001b[0m\u001b[1;33m=\u001b[0m\u001b[1;36m1\u001b[0m\u001b[1;33m)\u001b[0m\u001b[1;33m)\u001b[0m\u001b[1;33m:\u001b[0m\u001b[1;33m\u001b[0m\u001b[0m\n\u001b[0m\u001b[0;32m      5\u001b[0m     \u001b[1;31m#plt.subplot(5,4,i+1)\u001b[0m\u001b[1;33m\u001b[0m\u001b[1;33m\u001b[0m\u001b[0m\n\u001b[0;32m      6\u001b[0m     \u001b[1;31m#plt.figure(figsize=(20,20))\u001b[0m\u001b[1;33m\u001b[0m\u001b[1;33m\u001b[0m\u001b[0m\n",
      "\u001b[1;31mNameError\u001b[0m: name 'S_ica_' is not defined"
     ]
    },
    {
     "data": {
      "text/plain": [
       "<matplotlib.figure.Figure at 0x2aefb38fcc10>"
      ]
     },
     "metadata": {},
     "output_type": "display_data"
    }
   ],
   "source": [
    "from matplotlib.colors import SymLogNorm\n",
    "\n",
    "plt.figure(figsize=(20,20))\n",
    "for i in range(1,np.size(S_ica_,axis=1)):\n",
    "    #plt.subplot(5,4,i+1)\n",
    "    #plt.figure(figsize=(20,20))\n",
    "    hp.cartview(\n",
    "    #hp.gnomview(\n",
    "        S_ica_[:,i-1], title=\"IC_\"+str(i-1),\n",
    "        cmap = \"rainbow\", \n",
    "        norm = SymLogNorm(linthresh=0.01,linscale=1,vmin=0),\n",
    "        sub  = (7,4,i)\n",
    "    )\n",
    "plt.show()\n",
    "plt.close()"
   ]
  },
  {
   "cell_type": "code",
   "execution_count": 4,
   "metadata": {
    "collapsed": false
   },
   "outputs": [
    {
     "ename": "NameError",
     "evalue": "name 'S_nmf_' is not defined",
     "output_type": "error",
     "traceback": [
      "\u001b[1;31m---------------------------------------------------------------------------\u001b[0m",
      "\u001b[1;31mNameError\u001b[0m                                 Traceback (most recent call last)",
      "\u001b[1;32m<ipython-input-4-cd788e0bff4d>\u001b[0m in \u001b[0;36m<module>\u001b[1;34m()\u001b[0m\n\u001b[0;32m      2\u001b[0m \u001b[1;33m\u001b[0m\u001b[0m\n\u001b[0;32m      3\u001b[0m \u001b[0mplt\u001b[0m\u001b[1;33m.\u001b[0m\u001b[0mfigure\u001b[0m\u001b[1;33m(\u001b[0m\u001b[0mfigsize\u001b[0m\u001b[1;33m=\u001b[0m\u001b[1;33m(\u001b[0m\u001b[1;36m20\u001b[0m\u001b[1;33m,\u001b[0m\u001b[1;36m20\u001b[0m\u001b[1;33m)\u001b[0m\u001b[1;33m)\u001b[0m\u001b[1;33m\u001b[0m\u001b[0m\n\u001b[1;32m----> 4\u001b[1;33m \u001b[1;32mfor\u001b[0m \u001b[0mi\u001b[0m \u001b[1;32min\u001b[0m \u001b[0mrange\u001b[0m\u001b[1;33m(\u001b[0m\u001b[1;36m1\u001b[0m\u001b[1;33m,\u001b[0m\u001b[0mnp\u001b[0m\u001b[1;33m.\u001b[0m\u001b[0msize\u001b[0m\u001b[1;33m(\u001b[0m\u001b[0mS_nmf_\u001b[0m\u001b[1;33m,\u001b[0m\u001b[0maxis\u001b[0m\u001b[1;33m=\u001b[0m\u001b[1;36m1\u001b[0m\u001b[1;33m)\u001b[0m\u001b[1;33m)\u001b[0m\u001b[1;33m:\u001b[0m\u001b[1;33m\u001b[0m\u001b[0m\n\u001b[0m\u001b[0;32m      5\u001b[0m     \u001b[1;31m#plt.subplot(5,4,i+1)\u001b[0m\u001b[1;33m\u001b[0m\u001b[1;33m\u001b[0m\u001b[0m\n\u001b[0;32m      6\u001b[0m     \u001b[1;31m#plt.figure(figsize=(20,20))\u001b[0m\u001b[1;33m\u001b[0m\u001b[1;33m\u001b[0m\u001b[0m\n",
      "\u001b[1;31mNameError\u001b[0m: name 'S_nmf_' is not defined"
     ]
    },
    {
     "data": {
      "text/plain": [
       "<matplotlib.figure.Figure at 0x2aefb390a890>"
      ]
     },
     "metadata": {},
     "output_type": "display_data"
    }
   ],
   "source": [
    "from matplotlib.colors import SymLogNorm\n",
    "\n",
    "plt.figure(figsize=(20,20))\n",
    "for i in range(1,np.size(S_nmf_,axis=1)):\n",
    "    #plt.subplot(5,4,i+1)\n",
    "    #plt.figure(figsize=(20,20))\n",
    "    hp.cartview(\n",
    "    #hp.gnomview(\n",
    "        S_nmf_[:,i-1], title=\"NMF_\"+str(i-1),\n",
    "        cmap = \"rainbow\", \n",
    "        norm = SymLogNorm(linthresh=0.01,linscale=1,vmin=0),\n",
    "        sub  = (7,4,i)\n",
    "    )\n",
    "plt.show()\n",
    "plt.close()"
   ]
  },
  {
   "cell_type": "code",
   "execution_count": 5,
   "metadata": {
    "collapsed": false,
    "scrolled": true
   },
   "outputs": [
    {
     "ename": "IndexError",
     "evalue": "index 19 is out of bounds for axis 0 with size 19",
     "output_type": "error",
     "traceback": [
      "\u001b[1;31m---------------------------------------------------------------------------\u001b[0m",
      "\u001b[1;31mIndexError\u001b[0m                                Traceback (most recent call last)",
      "\u001b[1;32m<ipython-input-5-42d9817f3e8f>\u001b[0m in \u001b[0;36m<module>\u001b[1;34m()\u001b[0m\n\u001b[1;32m----> 1\u001b[1;33m \u001b[0mlabels\u001b[0m \u001b[1;33m=\u001b[0m \u001b[1;33m[\u001b[0m\u001b[0mstr\u001b[0m\u001b[1;33m(\u001b[0m\u001b[0mphot\u001b[0m\u001b[1;33m.\u001b[0m\u001b[0mcolumns\u001b[0m\u001b[1;33m[\u001b[0m\u001b[0mi\u001b[0m\u001b[1;33m]\u001b[0m\u001b[1;33m)\u001b[0m \u001b[1;32mfor\u001b[0m \u001b[0mi\u001b[0m \u001b[1;32min\u001b[0m \u001b[0mrange\u001b[0m\u001b[1;33m(\u001b[0m\u001b[1;36m0\u001b[0m\u001b[1;33m,\u001b[0m\u001b[1;36m26\u001b[0m\u001b[1;33m)\u001b[0m\u001b[1;33m]\u001b[0m\u001b[1;33m\u001b[0m\u001b[0m\n\u001b[0m\u001b[0;32m      2\u001b[0m \u001b[0mplt\u001b[0m\u001b[1;33m.\u001b[0m\u001b[0mfigure\u001b[0m\u001b[1;33m(\u001b[0m\u001b[0mfigsize\u001b[0m\u001b[1;33m=\u001b[0m\u001b[1;33m(\u001b[0m\u001b[1;36m30\u001b[0m\u001b[1;33m,\u001b[0m\u001b[1;36m30\u001b[0m\u001b[1;33m)\u001b[0m\u001b[1;33m)\u001b[0m\u001b[1;33m\u001b[0m\u001b[0m\n\u001b[0;32m      3\u001b[0m \u001b[1;33m\u001b[0m\u001b[0m\n\u001b[0;32m      4\u001b[0m \u001b[1;32mfor\u001b[0m \u001b[0mi\u001b[0m \u001b[1;32min\u001b[0m \u001b[0mrange\u001b[0m\u001b[1;33m(\u001b[0m\u001b[1;36m0\u001b[0m\u001b[1;33m,\u001b[0m\u001b[0mnp\u001b[0m\u001b[1;33m.\u001b[0m\u001b[0msize\u001b[0m\u001b[1;33m(\u001b[0m\u001b[0mS_nmf_\u001b[0m\u001b[1;33m,\u001b[0m\u001b[0maxis\u001b[0m\u001b[1;33m=\u001b[0m\u001b[1;36m1\u001b[0m\u001b[1;33m)\u001b[0m\u001b[1;33m)\u001b[0m\u001b[1;33m:\u001b[0m\u001b[1;33m\u001b[0m\u001b[0m\n\u001b[0;32m      5\u001b[0m \u001b[1;31m#for i in range(1,2):\u001b[0m\u001b[1;33m\u001b[0m\u001b[1;33m\u001b[0m\u001b[0m\n",
      "\u001b[1;32m/work1/users/aaronb/Softbrary/Anaconda/lib/python2.7/site-packages/pandas/indexes/base.pyc\u001b[0m in \u001b[0;36m__getitem__\u001b[1;34m(self, key)\u001b[0m\n\u001b[0;32m   1421\u001b[0m \u001b[1;33m\u001b[0m\u001b[0m\n\u001b[0;32m   1422\u001b[0m         \u001b[1;32mif\u001b[0m \u001b[0mis_scalar\u001b[0m\u001b[1;33m(\u001b[0m\u001b[0mkey\u001b[0m\u001b[1;33m)\u001b[0m\u001b[1;33m:\u001b[0m\u001b[1;33m\u001b[0m\u001b[0m\n\u001b[1;32m-> 1423\u001b[1;33m             \u001b[1;32mreturn\u001b[0m \u001b[0mgetitem\u001b[0m\u001b[1;33m(\u001b[0m\u001b[0mkey\u001b[0m\u001b[1;33m)\u001b[0m\u001b[1;33m\u001b[0m\u001b[0m\n\u001b[0m\u001b[0;32m   1424\u001b[0m \u001b[1;33m\u001b[0m\u001b[0m\n\u001b[0;32m   1425\u001b[0m         \u001b[1;32mif\u001b[0m \u001b[0misinstance\u001b[0m\u001b[1;33m(\u001b[0m\u001b[0mkey\u001b[0m\u001b[1;33m,\u001b[0m \u001b[0mslice\u001b[0m\u001b[1;33m)\u001b[0m\u001b[1;33m:\u001b[0m\u001b[1;33m\u001b[0m\u001b[0m\n",
      "\u001b[1;31mIndexError\u001b[0m: index 19 is out of bounds for axis 0 with size 19"
     ]
    }
   ],
   "source": [
    "labels = [str(phot.columns[i]) for i in range(0,26)]\n",
    "plt.figure(figsize=(30,30))\n",
    "\n",
    "for i in range(0,np.size(S_nmf_,axis=1)):\n",
    "#for i in range(1,2):\n",
    "    plt.subplot(7,4,i+1)\n",
    "    \n",
    "    x_ = range(0,np.size(nmf.components_,axis=1))\n",
    "    y_ = nmf.components_[i]\n",
    "    \n",
    "    #fig, ax = plt.subplots()\n",
    "    plt.scatter(x_,y_)\n",
    "    for i, txt in enumerate(labels):\n",
    "        #print x_[i], y_[i], labels[i]\n",
    "        plt.annotate(labels[i], (x_[i],y_[i]))\n",
    "        \n",
    "    \n",
    "    #plt.xscale('log')\n",
    "    #plt.yscale('log')\n",
    "    #plt.xlim(8,1000)\n",
    "    #plt.xlabel(\"Wavelength (microns)       [EV_\"+str(i)+\"] \"+str(round(eig_values[i]/sum(eig_values)*100,2))+\"%\")\n",
    "    plt.ylabel(\"Relative Contribution\")\n",
    "    #plt.show()\n",
    "    #plt.close()"
   ]
  },
  {
   "cell_type": "markdown",
   "metadata": {},
   "source": [
    "## Applying decomposition of AME with Blackbody Parameters (Planck):"
   ]
  },
  {
   "cell_type": "code",
   "execution_count": 6,
   "metadata": {
    "collapsed": false
   },
   "outputs": [
    {
     "ename": "NameError",
     "evalue": "name 'bb' is not defined",
     "output_type": "error",
     "traceback": [
      "\u001b[1;31m---------------------------------------------------------------------------\u001b[0m",
      "\u001b[1;31mNameError\u001b[0m                                 Traceback (most recent call last)",
      "\u001b[1;32m<ipython-input-6-458a8e90f1e1>\u001b[0m in \u001b[0;36m<module>\u001b[1;34m()\u001b[0m\n\u001b[0;32m      5\u001b[0m \u001b[0mimp\u001b[0m \u001b[1;33m=\u001b[0m \u001b[0mImputer\u001b[0m\u001b[1;33m(\u001b[0m\u001b[1;33m)\u001b[0m\u001b[1;33m\u001b[0m\u001b[0m\n\u001b[0;32m      6\u001b[0m \u001b[1;33m\u001b[0m\u001b[0m\n\u001b[1;32m----> 7\u001b[1;33m \u001b[0mimp\u001b[0m\u001b[1;33m.\u001b[0m\u001b[0mfit\u001b[0m\u001b[1;33m(\u001b[0m\u001b[0mbb\u001b[0m\u001b[1;33m.\u001b[0m\u001b[0mvalues\u001b[0m\u001b[1;33m)\u001b[0m\u001b[1;33m\u001b[0m\u001b[0m\n\u001b[0m\u001b[0;32m      8\u001b[0m \u001b[0mX\u001b[0m \u001b[1;33m=\u001b[0m \u001b[0mimp\u001b[0m\u001b[1;33m.\u001b[0m\u001b[0mtransform\u001b[0m\u001b[1;33m(\u001b[0m\u001b[0mbb\u001b[0m\u001b[1;33m.\u001b[0m\u001b[0mvalues\u001b[0m\u001b[1;33m)\u001b[0m\u001b[1;33m\u001b[0m\u001b[0m\n\u001b[0;32m      9\u001b[0m \u001b[1;33m\u001b[0m\u001b[0m\n",
      "\u001b[1;31mNameError\u001b[0m: name 'bb' is not defined"
     ]
    }
   ],
   "source": [
    "from sklearn.decomposition import PCA, FastICA, NMF\n",
    "from sklearn.manifold import TSNE\n",
    "from sklearn.preprocessing import Imputer\n",
    "\n",
    "imp = Imputer()\n",
    "\n",
    "imp.fit(bb.values)\n",
    "X = imp.transform(bb.values)\n",
    "\n",
    "from sklearn.preprocessing import StandardScaler, MinMaxScaler\n",
    "\n",
    "scaler = MinMaxScaler(feature_range=(0, 1))\n",
    "\n",
    "# Don't cheat - fit only on training data\n",
    "scaler.fit(X)  \n",
    "X = scaler.transform(X)  \n",
    "\n",
    "\n",
    "\n",
    "#X = X[:,[0,1,-2]]"
   ]
  },
  {
   "cell_type": "code",
   "execution_count": null,
   "metadata": {
    "collapsed": false
   },
   "outputs": [],
   "source": [
    "nmf = NMF(n_components=5)\n",
    "S_nmf_ = nmf.fit(X).transform(X)\n",
    "\n",
    "pca = PCA(n_components=5)\n",
    "S_pca_ = pca.fit(X).transform(X)\n",
    "\n",
    "rng = np.random.RandomState(42)\n",
    "ica = FastICA(random_state = rng, n_components=5)\n",
    "S_ica_ = ica.fit(X).transform(X)\n",
    "\n",
    "\n",
    "#tsne = TSNE\n",
    "\n",
    "S_ica_ /= S_ica_.std(axis=0)\n"
   ]
  },
  {
   "cell_type": "code",
   "execution_count": null,
   "metadata": {
    "collapsed": false
   },
   "outputs": [],
   "source": [
    "from matplotlib.colors import SymLogNorm\n",
    "\n",
    "plt.figure(figsize=(20,20))\n",
    "for i in range(0,np.size(S_pca_,axis=1)):\n",
    "    #plt.subplot(5,4,i+1)\n",
    "    #plt.figure(figsize=(20,20))\n",
    "    hp.cartview(\n",
    "    #hp.gnomview(\n",
    "        S_pca_[:,i], title=\"PCA_\"+str(i),\n",
    "        cmap = \"rainbow\", \n",
    "        norm = SymLogNorm(linthresh=0.01,linscale=1,vmin=0),\n",
    "        sub  = (3,2,i+1)\n",
    "    )\n",
    "plt.show()\n",
    "plt.close()"
   ]
  },
  {
   "cell_type": "code",
   "execution_count": null,
   "metadata": {
    "collapsed": false
   },
   "outputs": [],
   "source": [
    "from matplotlib.colors import SymLogNorm\n",
    "\n",
    "plt.figure(figsize=(20,20))\n",
    "for i in range(0,np.size(S_ica_,axis=1)):\n",
    "    #plt.subplot(5,4,i+1)\n",
    "    #plt.figure(figsize=(20,20))\n",
    "    hp.cartview(\n",
    "    #hp.gnomview(\n",
    "        S_ica_[:,i], title=\"IC_\"+str(i),\n",
    "        cmap = \"rainbow\", \n",
    "        norm = SymLogNorm(linthresh=0.01,linscale=1,vmin=0),\n",
    "        sub  = (5,3,i+1)\n",
    "    )\n",
    "plt.show()\n",
    "plt.close()"
   ]
  },
  {
   "cell_type": "code",
   "execution_count": null,
   "metadata": {
    "collapsed": false
   },
   "outputs": [],
   "source": []
  },
  {
   "cell_type": "code",
   "execution_count": null,
   "metadata": {
    "collapsed": false
   },
   "outputs": [],
   "source": [
    "labels = [str(bb.columns[i]) for i in range(0,5)]\n",
    "plt.figure(figsize=(8,8))\n",
    "\n",
    "from matplotlib.colors import SymLogNorm\n",
    "\n",
    "plt.figure(figsize=(15,20))\n",
    "\n",
    "for i in range(0,np.size(S_nmf_,axis=1)):\n",
    "    #plt.subplot(5,4,i+1)\n",
    "    #plt.figure(figsize=(20,20))\n",
    "    hp.cartview(\n",
    "    #hp.gnomview(\n",
    "        S_nmf_[:,i], title=\"NMF_\"+str(i),\n",
    "        cmap = \"rainbow\", \n",
    "        norm = SymLogNorm(linthresh=0.01,linscale=1,vmin=0),\n",
    "        sub  = (5,2,(i*2)+1)\n",
    "    )\n",
    "    \n",
    "    plt.subplot(5,2,(i+1)*2)\n",
    "    \n",
    "    x_ = range(0,np.size(nmf.components_,axis=1))\n",
    "    y_ = nmf.components_[i]\n",
    "    \n",
    "    #fig, ax = plt.subplots()\n",
    "    plt.bar(x_,y_)\n",
    "    \n",
    "    for j, txt in enumerate(labels):\n",
    "        #print x_[i], y_[i], labels[i]\n",
    "        plt.annotate(labels[j], (x_[j],y_[j]))\n",
    "        \n",
    "    \n",
    "    #plt.xscale('log')\n",
    "    #plt.yscale('log')\n",
    "    #plt.xlim(8,1000)\n",
    "    #plt.xlabel(\"Wavelength (microns)       [EV_\"+str(i)+\"] \"+str(round(eig_values[i]/sum(eig_values)*100,2))+\"%\")\n",
    "    plt.ylabel(\"Rel. NMF Mag\")\n",
    "    plt.tight_layout()\n",
    "    \n",
    "    plt.tick_params(\n",
    "         axis='x',          # changes apply to the x-axis\n",
    "         which='both',      # both major and minor ticks are affected\n",
    "         bottom='off',      # ticks along the bottom edge are off\n",
    "         top='off',         # ticks along the top edge are off\n",
    "         labelbottom='off') # labels along the bottom edge are off\n",
    "    \n",
    "\n",
    "\n",
    "#plt.tight_layout()\n",
    "plt.show()\n",
    "plt.close()\n",
    "\n",
    "\n",
    "#for i in range(0,np.size(S_nmf_,axis=1)):\n",
    "#for i in range(1,2):\n",
    "    \n",
    "    \n",
    "    #plt.show()\n",
    "    #plt.close()"
   ]
  },
  {
   "cell_type": "code",
   "execution_count": null,
   "metadata": {
    "collapsed": false
   },
   "outputs": [],
   "source": [
    "bb.columns\n",
    "import seaborn as sb"
   ]
  },
  {
   "cell_type": "code",
   "execution_count": null,
   "metadata": {
    "collapsed": false
   },
   "outputs": [],
   "source": [
    "### Import the Galactic coordinate reference columns:\n",
    "### These are just \"maps\" of glat and glon. That way you can easily get the center pixel coordinates from a given pixel index\n",
    "\n",
    "glon = hp.read_map(filepath+str(nside)+\"_nside/pixel_coords_map_ring_galactic_res8.fits\", field = 0, memmap=False)\n",
    "glat = hp.read_map(filepath+str(nside)+\"_nside/pixel_coords_map_ring_galactic_res8.fits\", field = 1, memmap=False)\n",
    "# elon = hp.read_map(filepath+str(nside)+\"_nside/pixel_coords_map_ring_ecliptic_res8.fits\", field = 0, memmap=False)\n",
    "# elat = hp.read_map(filepath+str(nside)+\"_nside/pixel_coords_map_ring_ecliptic_res8.fits\", field = 1, memmap=False)\n",
    "    \n",
    "\n",
    "# gcut_1 = np.where((abs(glat > glatrange)) & (abs(elat) > elatrange))\n",
    "# gcut_2 = np.where((abs(glat < glatrange)) & (abs(elat) > elatrange))\n",
    "                  \n",
    "# glon = pd.DataFrame(glon, columns=['GLON'])\n",
    "# glat = pd.DataFrame(glat, columns=['GLAT']) \n",
    "\n",
    "\n",
    "start = -90\n",
    "stop = 90\n",
    "step = 1\n",
    "\n",
    "glat_intervs = np.arange(start,stop,step)\n",
    "\n",
    "glats = [np.where(np.logical_and(glat>i, glat< i+1))  for i in glat_intervs]\n",
    "\n",
    "\n",
    "np.shape(glats)"
   ]
  },
  {
   "cell_type": "code",
   "execution_count": null,
   "metadata": {
    "collapsed": false
   },
   "outputs": [],
   "source": [
    "i = glat_intervs[90]\n",
    "print i\n",
    "\n",
    "\n",
    "j = np.where(np.logical_and(glat>i, glat< i+1))\n",
    "\n",
    "glat[j]\n",
    "\n",
    "print glat[glats[171]]"
   ]
  },
  {
   "cell_type": "code",
   "execution_count": null,
   "metadata": {
    "collapsed": false
   },
   "outputs": [],
   "source": [
    "print len(glat)\n",
    "print glat.iloc[0]-glat.iloc[-1]\n",
    "len(glat)/glat.iloc[0]-glat.iloc[-1]"
   ]
  },
  {
   "cell_type": "code",
   "execution_count": null,
   "metadata": {
    "collapsed": false
   },
   "outputs": [],
   "source": [
    "import seaborn as sb\n",
    "bb_corr = bb.join(phot['A9']).corr(method='spearman')\n",
    "bb_corr_drop = bb_corr.drop('AME',axis=0).drop('A9',axis=1)\n",
    "mask = np.zeros_like(bb_corr_drop.values)\n",
    "mask[np.triu_indices_from(mask,k=1)] = True\n",
    "\n",
    "with sb.axes_style(\"white\"):\n",
    "    sb.heatmap(\n",
    "        bb_corr_drop,\n",
    "        linewidths=.5,\n",
    "        annot=True,\n",
    "        mask=mask)\n",
    "    \n",
    "    plt.title(\"Planck Mod-BB vs. AME and AKARI 9 micron emission\")\n",
    "\n"
   ]
  },
  {
   "cell_type": "code",
   "execution_count": null,
   "metadata": {
    "collapsed": true
   },
   "outputs": [],
   "source": [
    "import seaborn as sb\n",
    "bb_corr_normd = bb_normd.corr(method='spearman')\n",
    "bb_corr_normd_drop = bb_corr_normd.drop('AME',axis=0).drop('A9',axis=1)\n",
    "mask = np.zeros_like(bb_corr_normd_drop.values)\n",
    "mask[np.triu_indices_from(mask,k=1)] = True\n",
    "\n",
    "with sb.axes_style(\"white\"):\n",
    "    sb.heatmap(\n",
    "        bb_corr_norm_drop,\n",
    "        linewidths=.5,\n",
    "        annot=True,\n",
    "        mask=mask)\n",
    "    \n",
    "    plt.title(\"Planck Mod-BB vs. AME and AKARI 9 micron emission\")\n",
    "\n"
   ]
  },
  {
   "cell_type": "code",
   "execution_count": null,
   "metadata": {
    "collapsed": false
   },
   "outputs": [],
   "source": [
    "from sklearn import preprocessing\n",
    "\n",
    "bba = bb.join(phot['A9'])\n",
    "\n",
    "from sklearn.preprocessing import Imputer\n",
    "\n",
    "imp = Imputer()\n",
    "\n",
    "imp.fit(bba.values)\n",
    "X = imp.transform(bba.values)\n",
    "\n",
    "min_max_scaler = preprocessing.MinMaxScaler()\n",
    "bb_normd =  min_max_scaler.fit_transform(X)\n",
    "\n",
    "bb_normd = pd.DataFrame(bb_normd, columns=bba.columns)\n",
    "\n",
    "bb_normd"
   ]
  },
  {
   "cell_type": "code",
   "execution_count": null,
   "metadata": {
    "collapsed": false
   },
   "outputs": [],
   "source": [
    "try:\n",
    "    p = sb.PairGrid(bb_normd)\n",
    "    p.map_upper(plt.scatter,alpha=0.1)\n",
    "    p.map_lower(sb.kdeplot,cmap = \"Blues_d\")\n",
    "    p.map_diag(sb.kdeplot, lw=3, legend=False)\n",
    "except ValueError:  #raised if `y` is empty.\n",
    "    pass\n",
    "\n"
   ]
  },
  {
   "cell_type": "code",
   "execution_count": null,
   "metadata": {
    "collapsed": true
   },
   "outputs": [],
   "source": [
    "try:\n",
    "    p = sb.PairGrid(bb_normd)\n",
    "    p.map_upper(plt.scatter)\n",
    "    p.map_lower(sb.kdeplot,cmap = \"Blues_d\")\n",
    "    g.map_diag(sb.kdeplot, lw=3, legend=False)\n",
    "except ValueError:  #raised if `y` is empty.\n",
    "    pass\n",
    "\n"
   ]
  },
  {
   "cell_type": "code",
   "execution_count": null,
   "metadata": {
    "collapsed": false
   },
   "outputs": [],
   "source": [
    "bba.iloc[glats[40]].corr(method='spearman')\n",
    "#glats"
   ]
  },
  {
   "cell_type": "code",
   "execution_count": null,
   "metadata": {
    "collapsed": false
   },
   "outputs": [],
   "source": [
    "bb_corr_glats = [bba.iloc[i].corr(method='spearman') for i in glats]\n",
    "\n",
    "#     bb_corr_drop = bb_corr.drop('AME',axis=0).drop('A9',axis=1)\n",
    "#     mask = np.zeros_like(bb_corr_drop.values)\n",
    "#     mask[np.triu_indices_from(mask,k=1)] = True\n",
    "\n",
    "#     with sb.axes_style(\"white\"):\n",
    "#         sb.heatmap(\n",
    "#             bb_corr_drop,\n",
    "#             linewidths=.5,\n",
    "#             annot=True,\n",
    "#             mask=mask)\n",
    "\n",
    "#         plt.title(\"Planck Mod-BB vs. AME and AKARI 9 micron emission\")\n",
    "\n",
    "bb_corr_glats_A9 = [bb_corr_glats[i]['A9']]"
   ]
  },
  {
   "cell_type": "code",
   "execution_count": null,
   "metadata": {
    "collapsed": false
   },
   "outputs": [],
   "source": [
    "bb_corr_glats_pn = pd.Panel({i: bb_corr_glats[i] for i in glat_intervs})"
   ]
  },
  {
   "cell_type": "code",
   "execution_count": null,
   "metadata": {
    "collapsed": false
   },
   "outputs": [],
   "source": [
    "X = glat_intervs\n",
    "\n",
    "Y = bb_corr_glats_pn.values[:,:,0]\n",
    "\n",
    "plt.figure(figsize=(12,12))\n",
    "\n",
    "for i in range(1,5):\n",
    "    plt.scatter(X,Y[:,i], alpha=0.7, label=bba.columns[i])\n",
    "plt.legend(loc=1,prop={'size':15},fancybox=True, framealpha=0.9)\n",
    "#leg.get_frame().set_alpha(0.5)\n",
    "plt.xlim(-90,90)\n",
    "plt.ylabel(\"Spearman Rank Coefficient (rel. to AME)\")\n",
    "plt.xlabel(\"Galactic Latitude [1-deg. bins]\")\n",
    "plt.xkcd()\n",
    "plt.show()\n",
    "plt.close()\n",
    "# plt.hist(bb_corr_glats_pn.dropna().values[:,2,0], bins=10, alpha=0.4, label='Beta')\n",
    "# plt.hist(bb_corr_glats_pn.dropna().values[:,3,0], bins=10, alpha=0.4, label='FIR')\n",
    "# plt.hist(bb_corr_glats_pn.dropna().values[:,4,0], bins=10, alpha=0.4, label='A9')\n"
   ]
  },
  {
   "cell_type": "code",
   "execution_count": null,
   "metadata": {
    "collapsed": false
   },
   "outputs": [],
   "source": [
    "plt.figure(figsize=(10,10))\n",
    "plt.hist(bb_corr_glats_pn.dropna().values[:,1,0], bins=10, alpha=0.4, label='T')\n",
    "plt.hist(bb_corr_glats_pn.dropna().values[:,2,0], bins=10, alpha=0.4, label='Beta')\n",
    "plt.hist(bb_corr_glats_pn.dropna().values[:,3,0], bins=10, alpha=0.4, label='FIR')\n",
    "plt.hist(bb_corr_glats_pn.dropna().values[:,4,0], bins=10, alpha=0.4, label='A9')\n",
    "plt.legend()\n",
    "#plt.xkcd()\n",
    "#plt.plot[bb_corr_glats_pn.values[]])"
   ]
  },
  {
   "cell_type": "code",
   "execution_count": null,
   "metadata": {
    "collapsed": false
   },
   "outputs": [],
   "source": [
    "labels = [str(bb.columns[i]) for i in range(0,5)]\n",
    "plt.figure(figsize=(5,5))\n",
    "\n",
    "for i in range(0,np.size(S_ica_,axis=1)):\n",
    "#for i in range(1,2):\n",
    "    plt.subplot(3,2,i+1)\n",
    "    \n",
    "    x_ = range(0,np.size(ica.components_,axis=1))\n",
    "    y_ = ica.components_[i]\n",
    "    \n",
    "    #fig, ax = plt.subplots()\n",
    "    plt.scatter(x_,y_)\n",
    "    for i, txt in enumerate(labels):\n",
    "        #print x_[i], y_[i], labels[i]\n",
    "        plt.annotate(labels[i], (x_[i],y_[i]))\n",
    "        \n",
    "    \n",
    "    #plt.xscale('log')\n",
    "    #plt.yscale('log')\n",
    "    #plt.xlim(8,1000)\n",
    "    #plt.xlabel(\"Wavelength (microns)       [EV_\"+str(i)+\"] \"+str(round(eig_values[i]/sum(eig_values)*100,2))+\"%\")\n",
    "    plt.ylabel(\"Relative Contribution\")\n",
    "    #plt.show()\n",
    "    #plt.close()\n",
    "    \n",
    "    "
   ]
  },
  {
   "cell_type": "code",
   "execution_count": null,
   "metadata": {
    "collapsed": false
   },
   "outputs": [],
   "source": [
    "labels = [str(bb.columns[i]) for i in range(0,5)]\n",
    "plt.figure(figsize=(20,20))\n",
    "\n",
    "for i in range(0,np.size(S_pca_,axis=1)):\n",
    "#for i in range(1,2):\n",
    "    plt.subplot(3,2,i+1)\n",
    "    \n",
    "    x_ = range(0,np.size(pca.components_,axis=1))\n",
    "    y_ = pca.components_[i]\n",
    "    \n",
    "    #fig, ax = plt.subplots()\n",
    "    plt.scatter(x_,y_)\n",
    "    for i, txt in enumerate(labels):\n",
    "        #print x_[i], y_[i], labels[i]\n",
    "        plt.annotate(labels[i], (x_[i],y_[i]))\n",
    "        \n",
    "    \n",
    "    #plt.xscale('log')\n",
    "    #plt.yscale('log')\n",
    "    #plt.xlim(8,1000)\n",
    "    #plt.xlabel(\"Wavelength (microns)       [EV_\"+str(i)+\"] \"+str(round(eig_values[i]/sum(eig_values)*100,2))+\"%\")\n",
    "    plt.ylabel(\"Relative Contribution\")\n",
    "    #plt.show()\n",
    "    #plt.close()"
   ]
  },
  {
   "cell_type": "code",
   "execution_count": null,
   "metadata": {
    "collapsed": false
   },
   "outputs": [],
   "source": [
    "plt.figure(figsize=(20,20))\n",
    "plt.scatter(S_pca_[:,0], S_pca_[:,1], alpha= 0.1)"
   ]
  },
  {
   "cell_type": "code",
   "execution_count": null,
   "metadata": {
    "collapsed": false
   },
   "outputs": [],
   "source": [
    "plt.figure(figsize=(20,20))\n",
    "plt.scatter(S_ica_[:,0], S_ica_[:,1], alpha= 0.1)"
   ]
  },
  {
   "cell_type": "code",
   "execution_count": null,
   "metadata": {
    "collapsed": false
   },
   "outputs": [],
   "source": [
    "plt.figure(figsize=(20,20))\n",
    "plt.scatter(S_nmf_[:,0], S_nmf_[:,1], alpha= 0.1)"
   ]
  },
  {
   "cell_type": "code",
   "execution_count": null,
   "metadata": {
    "collapsed": false
   },
   "outputs": [],
   "source": [
    "model = TSNE(\n",
    "    n_components=2,\n",
    "    random_state=42,\n",
    "    perplexity=50,\n",
    "    verbose=2\n",
    "        )\n",
    "np.set_printoptions(suppress=True)\n",
    "# for i in range(0,100):\n",
    "#     try:\n",
    "#         model.fit_transform(X[::i]) \n",
    "#     except:\n",
    "#         print \"Memory Error\""
   ]
  },
  {
   "cell_type": "code",
   "execution_count": null,
   "metadata": {
    "collapsed": false
   },
   "outputs": [],
   "source": [
    "S_tsne =model.fit_transform(X[::100]) "
   ]
  },
  {
   "cell_type": "code",
   "execution_count": null,
   "metadata": {
    "collapsed": false
   },
   "outputs": [],
   "source": [
    "plt.figure(figsize=(20,20))\n",
    "plt.scatter(S_tsne[:,0],S_tsne[:,1], alpha=0.2)\n"
   ]
  },
  {
   "cell_type": "code",
   "execution_count": null,
   "metadata": {
    "collapsed": false
   },
   "outputs": [],
   "source": [
    "model = TSNE(\n",
    "    n_components=2,\n",
    "    random_state=42,\n",
    "    perplexity=25,\n",
    "    verbose=2\n",
    "        )\n",
    "#np.set_printoptions(suppress=True)\n",
    "# for i in range(0,100):\n",
    "#     try:\n",
    "#         model.fit_transform(X[::i]) \n",
    "#     except:\n",
    "#         print \"Memory Error\"\n",
    "\n",
    "S_tsne =model.fit_transform(X[::100]) \n",
    "\n",
    "plt.figure(figsize=(20,20))\n",
    "plt.scatter(S_tsne[:,0],S_tsne[:,1], alpha=0.2)"
   ]
  },
  {
   "cell_type": "code",
   "execution_count": null,
   "metadata": {
    "collapsed": false
   },
   "outputs": [],
   "source": [
    "model = TSNE(\n",
    "    n_components=2,\n",
    "    random_state=42,\n",
    "    perplexity=25,\n",
    "    verbose=2\n",
    "        )\n",
    "#np.set_printoptions(suppress=True)\n",
    "# for i in range(0,100):\n",
    "#     try:\n",
    "#         model.fit_transform(X[::i]) \n",
    "#     except:\n",
    "#         print \"Memory Error\"\n",
    "\n",
    "X \n",
    "\n",
    "S_tsne =model.fit_transform(X[gcut_1]) \n",
    "\n",
    "plt.figure(figsize=(20,20))\n",
    "plt.scatter(S_tsne[:,0],S_tsne[:,1], alpha=0.2)"
   ]
  },
  {
   "cell_type": "code",
   "execution_count": null,
   "metadata": {
    "collapsed": false
   },
   "outputs": [],
   "source": [
    "model = TSNE(\n",
    "    n_components=2,\n",
    "    random_state=42,\n",
    "    perplexity=50,\n",
    "    verbose=2\n",
    "        )\n",
    "#np.set_printoptions(suppress=True)\n",
    "# for i in range(0,100):\n",
    "#     try:\n",
    "#         model.fit_transform(X[::i]) \n",
    "#     except:\n",
    "#         print \"Memory Error\"\n",
    "\n",
    "S_tsne =model.fit_transform(X[gcut_2]) \n",
    "\n",
    "plt.figure(figsize=(20,20))\n",
    "plt.scatter(S_tsne[:,0],S_tsne[:,1], alpha=0.2)"
   ]
  },
  {
   "cell_type": "code",
   "execution_count": null,
   "metadata": {
    "collapsed": true
   },
   "outputs": [],
   "source": []
  }
 ],
 "metadata": {
  "kernelspec": {
   "display_name": "Python 2",
   "language": "python",
   "name": "python2"
  }
 },
 "nbformat": 4,
 "nbformat_minor": 0
}
